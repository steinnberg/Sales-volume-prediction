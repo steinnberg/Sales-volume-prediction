{
 "cells": [
  {
   "cell_type": "markdown",
   "metadata": {},
   "source": [
    "# Problem statement"
   ]
  },
  {
   "cell_type": "markdown",
   "metadata": {},
   "source": [
    "I am a saler and i want to know the amount of money the customer is willing to pay for the right price given th following attributes:\n",
    "0) Number of sales of the product\n",
    "1) the price \n",
    "2) the title of the product\n",
    "3) the ratings of the price\n",
    "4) nb_image\n",
    "5) description score\n",
    "6) imges score"
   ]
  },
  {
   "cell_type": "code",
   "execution_count": 1,
   "metadata": {},
   "outputs": [],
   "source": [
    "import pandas as pd\n",
    "import numpy as np\n",
    "import seaborn as sns\n",
    "import matplotlib.pyplot as plt\n",
    "pd.set_option('max_columns', 100)"
   ]
  },
  {
   "cell_type": "markdown",
   "metadata": {},
   "source": [
    "construct a model that would predict the temporal evolution of sales"
   ]
  },
  {
   "cell_type": "code",
   "execution_count": 2,
   "metadata": {},
   "outputs": [],
   "source": [
    "df= pd.read_csv('dataset_to_predict.csv')"
   ]
  },
  {
   "cell_type": "code",
   "execution_count": 3,
   "metadata": {},
   "outputs": [
    {
     "data": {
      "text/html": [
       "<div>\n",
       "<style scoped>\n",
       "    .dataframe tbody tr th:only-of-type {\n",
       "        vertical-align: middle;\n",
       "    }\n",
       "\n",
       "    .dataframe tbody tr th {\n",
       "        vertical-align: top;\n",
       "    }\n",
       "\n",
       "    .dataframe thead th {\n",
       "        text-align: right;\n",
       "    }\n",
       "</style>\n",
       "<table border=\"1\" class=\"dataframe\">\n",
       "  <thead>\n",
       "    <tr style=\"text-align: right;\">\n",
       "      <th></th>\n",
       "      <th>dates</th>\n",
       "      <th>keyword</th>\n",
       "      <th>title</th>\n",
       "      <th>product_id</th>\n",
       "      <th>ranks</th>\n",
       "      <th>price</th>\n",
       "      <th>reviews</th>\n",
       "      <th>ratings</th>\n",
       "      <th>nb_image</th>\n",
       "      <th>a_plus</th>\n",
       "      <th>description_score</th>\n",
       "      <th>nb_bullets_points</th>\n",
       "      <th>image_score</th>\n",
       "      <th>sales</th>\n",
       "    </tr>\n",
       "  </thead>\n",
       "  <tbody>\n",
       "    <tr>\n",
       "      <th>0</th>\n",
       "      <td>2021-01-01</td>\n",
       "      <td>dog dental chews</td>\n",
       "      <td>Changing Lifestyles Safe-er-Grip Bathtub and S...</td>\n",
       "      <td>0.0</td>\n",
       "      <td>45.0</td>\n",
       "      <td>36.34</td>\n",
       "      <td>168.0</td>\n",
       "      <td>4.327325</td>\n",
       "      <td>5.0</td>\n",
       "      <td>NaN</td>\n",
       "      <td>0.311871</td>\n",
       "      <td>2.0</td>\n",
       "      <td>0.524923</td>\n",
       "      <td>17.0</td>\n",
       "    </tr>\n",
       "    <tr>\n",
       "      <th>1</th>\n",
       "      <td>2021-01-02</td>\n",
       "      <td>dog dental chews</td>\n",
       "      <td>Changing Lifestyles Safe-er-Grip Bathtub and S...</td>\n",
       "      <td>0.0</td>\n",
       "      <td>21.0</td>\n",
       "      <td>36.34</td>\n",
       "      <td>NaN</td>\n",
       "      <td>4.336569</td>\n",
       "      <td>5.0</td>\n",
       "      <td>1.0</td>\n",
       "      <td>0.429192</td>\n",
       "      <td>2.0</td>\n",
       "      <td>0.524923</td>\n",
       "      <td>35.0</td>\n",
       "    </tr>\n",
       "    <tr>\n",
       "      <th>2</th>\n",
       "      <td>2021-01-03</td>\n",
       "      <td>dog dental chews</td>\n",
       "      <td>Changing Lifestyles Safe-er-Grip Bathtub and S...</td>\n",
       "      <td>0.0</td>\n",
       "      <td>37.0</td>\n",
       "      <td>36.34</td>\n",
       "      <td>168.0</td>\n",
       "      <td>4.336065</td>\n",
       "      <td>5.0</td>\n",
       "      <td>1.0</td>\n",
       "      <td>0.421836</td>\n",
       "      <td>2.0</td>\n",
       "      <td>0.524923</td>\n",
       "      <td>10.0</td>\n",
       "    </tr>\n",
       "    <tr>\n",
       "      <th>3</th>\n",
       "      <td>2021-01-04</td>\n",
       "      <td>dog dental chews</td>\n",
       "      <td>Changing Lifestyles Safe-er-Grip Bathtub and S...</td>\n",
       "      <td>NaN</td>\n",
       "      <td>11.0</td>\n",
       "      <td>NaN</td>\n",
       "      <td>NaN</td>\n",
       "      <td>4.322506</td>\n",
       "      <td>5.0</td>\n",
       "      <td>1.0</td>\n",
       "      <td>0.488681</td>\n",
       "      <td>2.0</td>\n",
       "      <td>0.524923</td>\n",
       "      <td>16.0</td>\n",
       "    </tr>\n",
       "    <tr>\n",
       "      <th>4</th>\n",
       "      <td>2021-01-05</td>\n",
       "      <td>dog dental chews</td>\n",
       "      <td>Changing Lifestyles Safe-er-Grip Bathtub and S...</td>\n",
       "      <td>0.0</td>\n",
       "      <td>14.0</td>\n",
       "      <td>36.34</td>\n",
       "      <td>168.0</td>\n",
       "      <td>4.334201</td>\n",
       "      <td>5.0</td>\n",
       "      <td>1.0</td>\n",
       "      <td>0.620089</td>\n",
       "      <td>2.0</td>\n",
       "      <td>0.524923</td>\n",
       "      <td>29.0</td>\n",
       "    </tr>\n",
       "    <tr>\n",
       "      <th>5</th>\n",
       "      <td>2021-01-06</td>\n",
       "      <td>dog dental chews</td>\n",
       "      <td>Changing Lifestyles Safe-er-Grip Bathtub and S...</td>\n",
       "      <td>0.0</td>\n",
       "      <td>41.0</td>\n",
       "      <td>36.34</td>\n",
       "      <td>168.0</td>\n",
       "      <td>4.326861</td>\n",
       "      <td>5.0</td>\n",
       "      <td>1.0</td>\n",
       "      <td>0.471951</td>\n",
       "      <td>2.0</td>\n",
       "      <td>0.524923</td>\n",
       "      <td>11.0</td>\n",
       "    </tr>\n",
       "    <tr>\n",
       "      <th>6</th>\n",
       "      <td>2021-01-07</td>\n",
       "      <td>dog dental chews</td>\n",
       "      <td>Changing Lifestyles Safe-er-Grip Bathtub and S...</td>\n",
       "      <td>NaN</td>\n",
       "      <td>29.0</td>\n",
       "      <td>36.34</td>\n",
       "      <td>168.0</td>\n",
       "      <td>4.319678</td>\n",
       "      <td>5.0</td>\n",
       "      <td>1.0</td>\n",
       "      <td>0.386614</td>\n",
       "      <td>2.0</td>\n",
       "      <td>NaN</td>\n",
       "      <td>26.0</td>\n",
       "    </tr>\n",
       "    <tr>\n",
       "      <th>7</th>\n",
       "      <td>2021-01-08</td>\n",
       "      <td>dog dental chews</td>\n",
       "      <td>Changing Lifestyles Safe-er-Grip Bathtub and S...</td>\n",
       "      <td>0.0</td>\n",
       "      <td>NaN</td>\n",
       "      <td>NaN</td>\n",
       "      <td>168.0</td>\n",
       "      <td>4.323429</td>\n",
       "      <td>5.0</td>\n",
       "      <td>1.0</td>\n",
       "      <td>0.359867</td>\n",
       "      <td>2.0</td>\n",
       "      <td>0.524923</td>\n",
       "      <td>21.0</td>\n",
       "    </tr>\n",
       "    <tr>\n",
       "      <th>8</th>\n",
       "      <td>2021-01-09</td>\n",
       "      <td>NaN</td>\n",
       "      <td>Changing Lifestyles Safe-er-Grip Bathtub and S...</td>\n",
       "      <td>0.0</td>\n",
       "      <td>NaN</td>\n",
       "      <td>36.34</td>\n",
       "      <td>168.0</td>\n",
       "      <td>4.307192</td>\n",
       "      <td>NaN</td>\n",
       "      <td>1.0</td>\n",
       "      <td>0.519688</td>\n",
       "      <td>2.0</td>\n",
       "      <td>0.524923</td>\n",
       "      <td>9.0</td>\n",
       "    </tr>\n",
       "    <tr>\n",
       "      <th>9</th>\n",
       "      <td>2021-01-10</td>\n",
       "      <td>dog dental chews</td>\n",
       "      <td>Changing Lifestyles Safe-er-Grip Bathtub and S...</td>\n",
       "      <td>0.0</td>\n",
       "      <td>40.0</td>\n",
       "      <td>36.34</td>\n",
       "      <td>168.0</td>\n",
       "      <td>4.312115</td>\n",
       "      <td>5.0</td>\n",
       "      <td>1.0</td>\n",
       "      <td>0.671013</td>\n",
       "      <td>2.0</td>\n",
       "      <td>NaN</td>\n",
       "      <td>12.0</td>\n",
       "    </tr>\n",
       "    <tr>\n",
       "      <th>10</th>\n",
       "      <td>2021-01-11</td>\n",
       "      <td>dog dental chews</td>\n",
       "      <td>Changing Lifestyles Safe-er-Grip Bathtub and S...</td>\n",
       "      <td>NaN</td>\n",
       "      <td>86.0</td>\n",
       "      <td>36.34</td>\n",
       "      <td>168.0</td>\n",
       "      <td>4.335485</td>\n",
       "      <td>5.0</td>\n",
       "      <td>1.0</td>\n",
       "      <td>NaN</td>\n",
       "      <td>NaN</td>\n",
       "      <td>0.524923</td>\n",
       "      <td>27.0</td>\n",
       "    </tr>\n",
       "    <tr>\n",
       "      <th>11</th>\n",
       "      <td>2021-01-12</td>\n",
       "      <td>dog dental chews</td>\n",
       "      <td>Changing Lifestyles Safe-er-Grip Bathtub and S...</td>\n",
       "      <td>0.0</td>\n",
       "      <td>105.0</td>\n",
       "      <td>36.34</td>\n",
       "      <td>168.0</td>\n",
       "      <td>4.335324</td>\n",
       "      <td>5.0</td>\n",
       "      <td>1.0</td>\n",
       "      <td>0.679955</td>\n",
       "      <td>2.0</td>\n",
       "      <td>0.524923</td>\n",
       "      <td>26.0</td>\n",
       "    </tr>\n",
       "    <tr>\n",
       "      <th>12</th>\n",
       "      <td>2021-01-13</td>\n",
       "      <td>dog dental chews</td>\n",
       "      <td>Changing Lifestyles Safe-er-Grip Bathtub and S...</td>\n",
       "      <td>0.0</td>\n",
       "      <td>137.0</td>\n",
       "      <td>36.34</td>\n",
       "      <td>168.0</td>\n",
       "      <td>4.362997</td>\n",
       "      <td>NaN</td>\n",
       "      <td>1.0</td>\n",
       "      <td>0.395261</td>\n",
       "      <td>2.0</td>\n",
       "      <td>0.524923</td>\n",
       "      <td>30.0</td>\n",
       "    </tr>\n",
       "    <tr>\n",
       "      <th>13</th>\n",
       "      <td>2021-01-14</td>\n",
       "      <td>dog dental chews</td>\n",
       "      <td>Changing Lifestyles Safe-er-Grip Bathtub and S...</td>\n",
       "      <td>0.0</td>\n",
       "      <td>127.0</td>\n",
       "      <td>36.34</td>\n",
       "      <td>168.0</td>\n",
       "      <td>4.315848</td>\n",
       "      <td>5.0</td>\n",
       "      <td>NaN</td>\n",
       "      <td>NaN</td>\n",
       "      <td>2.0</td>\n",
       "      <td>0.524923</td>\n",
       "      <td>26.0</td>\n",
       "    </tr>\n",
       "    <tr>\n",
       "      <th>14</th>\n",
       "      <td>2021-01-15</td>\n",
       "      <td>dog dental chews</td>\n",
       "      <td>Changing Lifestyles Safe-er-Grip Bathtub and S...</td>\n",
       "      <td>0.0</td>\n",
       "      <td>NaN</td>\n",
       "      <td>NaN</td>\n",
       "      <td>168.0</td>\n",
       "      <td>4.312706</td>\n",
       "      <td>5.0</td>\n",
       "      <td>1.0</td>\n",
       "      <td>0.558578</td>\n",
       "      <td>2.0</td>\n",
       "      <td>NaN</td>\n",
       "      <td>22.0</td>\n",
       "    </tr>\n",
       "    <tr>\n",
       "      <th>15</th>\n",
       "      <td>2021-01-16</td>\n",
       "      <td>dog dental chews</td>\n",
       "      <td>Changing Lifestyles Safe-er-Grip Bathtub and S...</td>\n",
       "      <td>0.0</td>\n",
       "      <td>157.0</td>\n",
       "      <td>36.34</td>\n",
       "      <td>168.0</td>\n",
       "      <td>4.300843</td>\n",
       "      <td>5.0</td>\n",
       "      <td>1.0</td>\n",
       "      <td>0.383306</td>\n",
       "      <td>NaN</td>\n",
       "      <td>0.524923</td>\n",
       "      <td>21.0</td>\n",
       "    </tr>\n",
       "    <tr>\n",
       "      <th>16</th>\n",
       "      <td>2021-01-17</td>\n",
       "      <td>dog dental chews</td>\n",
       "      <td>NaN</td>\n",
       "      <td>0.0</td>\n",
       "      <td>157.0</td>\n",
       "      <td>36.34</td>\n",
       "      <td>169.0</td>\n",
       "      <td>4.291863</td>\n",
       "      <td>5.0</td>\n",
       "      <td>1.0</td>\n",
       "      <td>0.534882</td>\n",
       "      <td>2.0</td>\n",
       "      <td>0.524923</td>\n",
       "      <td>27.0</td>\n",
       "    </tr>\n",
       "    <tr>\n",
       "      <th>17</th>\n",
       "      <td>2021-01-18</td>\n",
       "      <td>dog dental chews</td>\n",
       "      <td>Changing Lifestyles Safe-er-Grip Bathtub and S...</td>\n",
       "      <td>NaN</td>\n",
       "      <td>158.0</td>\n",
       "      <td>NaN</td>\n",
       "      <td>169.0</td>\n",
       "      <td>4.261277</td>\n",
       "      <td>5.0</td>\n",
       "      <td>1.0</td>\n",
       "      <td>0.463375</td>\n",
       "      <td>2.0</td>\n",
       "      <td>0.524923</td>\n",
       "      <td>23.0</td>\n",
       "    </tr>\n",
       "    <tr>\n",
       "      <th>18</th>\n",
       "      <td>2021-01-19</td>\n",
       "      <td>dog dental chews</td>\n",
       "      <td>Changing Lifestyles Safe-er-Grip Bathtub and S...</td>\n",
       "      <td>0.0</td>\n",
       "      <td>157.0</td>\n",
       "      <td>36.34</td>\n",
       "      <td>169.0</td>\n",
       "      <td>4.217176</td>\n",
       "      <td>5.0</td>\n",
       "      <td>1.0</td>\n",
       "      <td>0.593553</td>\n",
       "      <td>2.0</td>\n",
       "      <td>0.524923</td>\n",
       "      <td>23.0</td>\n",
       "    </tr>\n",
       "    <tr>\n",
       "      <th>19</th>\n",
       "      <td>2021-01-20</td>\n",
       "      <td>NaN</td>\n",
       "      <td>Changing Lifestyles Safe-er-Grip Bathtub and S...</td>\n",
       "      <td>0.0</td>\n",
       "      <td>175.0</td>\n",
       "      <td>36.34</td>\n",
       "      <td>169.0</td>\n",
       "      <td>4.223423</td>\n",
       "      <td>5.0</td>\n",
       "      <td>1.0</td>\n",
       "      <td>0.380693</td>\n",
       "      <td>2.0</td>\n",
       "      <td>0.524923</td>\n",
       "      <td>25.0</td>\n",
       "    </tr>\n",
       "    <tr>\n",
       "      <th>20</th>\n",
       "      <td>2021-01-21</td>\n",
       "      <td>dog dental chews</td>\n",
       "      <td>Changing Lifestyles Safe-er-Grip Bathtub and S...</td>\n",
       "      <td>0.0</td>\n",
       "      <td>176.0</td>\n",
       "      <td>36.34</td>\n",
       "      <td>169.0</td>\n",
       "      <td>4.216516</td>\n",
       "      <td>5.0</td>\n",
       "      <td>1.0</td>\n",
       "      <td>NaN</td>\n",
       "      <td>2.0</td>\n",
       "      <td>0.524923</td>\n",
       "      <td>26.0</td>\n",
       "    </tr>\n",
       "    <tr>\n",
       "      <th>21</th>\n",
       "      <td>2021-01-22</td>\n",
       "      <td>dog dental chews</td>\n",
       "      <td>Changing Lifestyles Safe-er-Grip Bathtub and S...</td>\n",
       "      <td>0.0</td>\n",
       "      <td>163.0</td>\n",
       "      <td>36.34</td>\n",
       "      <td>169.0</td>\n",
       "      <td>4.158615</td>\n",
       "      <td>5.0</td>\n",
       "      <td>NaN</td>\n",
       "      <td>0.567524</td>\n",
       "      <td>2.0</td>\n",
       "      <td>0.524923</td>\n",
       "      <td>24.0</td>\n",
       "    </tr>\n",
       "    <tr>\n",
       "      <th>22</th>\n",
       "      <td>2021-01-23</td>\n",
       "      <td>dog dental chews</td>\n",
       "      <td>Changing Lifestyles Safe-er-Grip Bathtub and S...</td>\n",
       "      <td>0.0</td>\n",
       "      <td>164.0</td>\n",
       "      <td>36.34</td>\n",
       "      <td>169.0</td>\n",
       "      <td>4.125127</td>\n",
       "      <td>5.0</td>\n",
       "      <td>1.0</td>\n",
       "      <td>NaN</td>\n",
       "      <td>2.0</td>\n",
       "      <td>0.524923</td>\n",
       "      <td>25.0</td>\n",
       "    </tr>\n",
       "    <tr>\n",
       "      <th>23</th>\n",
       "      <td>2021-01-24</td>\n",
       "      <td>dog dental chews</td>\n",
       "      <td>Changing Lifestyles Safe-er-Grip Bathtub and S...</td>\n",
       "      <td>0.0</td>\n",
       "      <td>164.0</td>\n",
       "      <td>36.34</td>\n",
       "      <td>169.0</td>\n",
       "      <td>4.102278</td>\n",
       "      <td>5.0</td>\n",
       "      <td>1.0</td>\n",
       "      <td>0.511543</td>\n",
       "      <td>2.0</td>\n",
       "      <td>0.524923</td>\n",
       "      <td>25.0</td>\n",
       "    </tr>\n",
       "    <tr>\n",
       "      <th>24</th>\n",
       "      <td>2021-01-25</td>\n",
       "      <td>dog dental chews</td>\n",
       "      <td>Changing Lifestyles Safe-er-Grip Bathtub and S...</td>\n",
       "      <td>NaN</td>\n",
       "      <td>NaN</td>\n",
       "      <td>36.34</td>\n",
       "      <td>169.0</td>\n",
       "      <td>4.057948</td>\n",
       "      <td>5.0</td>\n",
       "      <td>1.0</td>\n",
       "      <td>0.595113</td>\n",
       "      <td>NaN</td>\n",
       "      <td>0.524923</td>\n",
       "      <td>24.0</td>\n",
       "    </tr>\n",
       "    <tr>\n",
       "      <th>25</th>\n",
       "      <td>2021-01-26</td>\n",
       "      <td>dog dental chews</td>\n",
       "      <td>Changing Lifestyles Safe-er-Grip Bathtub and S...</td>\n",
       "      <td>0.0</td>\n",
       "      <td>165.0</td>\n",
       "      <td>36.34</td>\n",
       "      <td>169.0</td>\n",
       "      <td>4.059757</td>\n",
       "      <td>5.0</td>\n",
       "      <td>NaN</td>\n",
       "      <td>0.570147</td>\n",
       "      <td>2.0</td>\n",
       "      <td>0.524923</td>\n",
       "      <td>22.0</td>\n",
       "    </tr>\n",
       "    <tr>\n",
       "      <th>26</th>\n",
       "      <td>2021-01-27</td>\n",
       "      <td>dog dental chews</td>\n",
       "      <td>Changing Lifestyles Safe-er-Grip Bathtub and S...</td>\n",
       "      <td>0.0</td>\n",
       "      <td>172.0</td>\n",
       "      <td>36.34</td>\n",
       "      <td>169.0</td>\n",
       "      <td>4.051929</td>\n",
       "      <td>5.0</td>\n",
       "      <td>1.0</td>\n",
       "      <td>0.484029</td>\n",
       "      <td>2.0</td>\n",
       "      <td>0.524923</td>\n",
       "      <td>22.0</td>\n",
       "    </tr>\n",
       "    <tr>\n",
       "      <th>27</th>\n",
       "      <td>2021-01-28</td>\n",
       "      <td>NaN</td>\n",
       "      <td>Changing Lifestyles Safe-er-Grip Bathtub and S...</td>\n",
       "      <td>0.0</td>\n",
       "      <td>159.0</td>\n",
       "      <td>36.34</td>\n",
       "      <td>169.0</td>\n",
       "      <td>4.053774</td>\n",
       "      <td>5.0</td>\n",
       "      <td>NaN</td>\n",
       "      <td>0.575263</td>\n",
       "      <td>2.0</td>\n",
       "      <td>0.524923</td>\n",
       "      <td>22.0</td>\n",
       "    </tr>\n",
       "    <tr>\n",
       "      <th>28</th>\n",
       "      <td>2021-01-29</td>\n",
       "      <td>dog dental chews</td>\n",
       "      <td>Changing Lifestyles Safe-er-Grip Bathtub and S...</td>\n",
       "      <td>0.0</td>\n",
       "      <td>148.0</td>\n",
       "      <td>36.34</td>\n",
       "      <td>169.0</td>\n",
       "      <td>4.071659</td>\n",
       "      <td>5.0</td>\n",
       "      <td>1.0</td>\n",
       "      <td>0.478981</td>\n",
       "      <td>2.0</td>\n",
       "      <td>0.524923</td>\n",
       "      <td>23.0</td>\n",
       "    </tr>\n",
       "    <tr>\n",
       "      <th>29</th>\n",
       "      <td>2021-01-30</td>\n",
       "      <td>dog dental chews</td>\n",
       "      <td>Changing Lifestyles Safe-er-Grip Bathtub and S...</td>\n",
       "      <td>0.0</td>\n",
       "      <td>159.0</td>\n",
       "      <td>36.34</td>\n",
       "      <td>169.0</td>\n",
       "      <td>4.087678</td>\n",
       "      <td>5.0</td>\n",
       "      <td>1.0</td>\n",
       "      <td>NaN</td>\n",
       "      <td>2.0</td>\n",
       "      <td>0.524923</td>\n",
       "      <td>26.0</td>\n",
       "    </tr>\n",
       "  </tbody>\n",
       "</table>\n",
       "</div>"
      ],
      "text/plain": [
       "         dates           keyword  \\\n",
       "0   2021-01-01  dog dental chews   \n",
       "1   2021-01-02  dog dental chews   \n",
       "2   2021-01-03  dog dental chews   \n",
       "3   2021-01-04  dog dental chews   \n",
       "4   2021-01-05  dog dental chews   \n",
       "5   2021-01-06  dog dental chews   \n",
       "6   2021-01-07  dog dental chews   \n",
       "7   2021-01-08  dog dental chews   \n",
       "8   2021-01-09               NaN   \n",
       "9   2021-01-10  dog dental chews   \n",
       "10  2021-01-11  dog dental chews   \n",
       "11  2021-01-12  dog dental chews   \n",
       "12  2021-01-13  dog dental chews   \n",
       "13  2021-01-14  dog dental chews   \n",
       "14  2021-01-15  dog dental chews   \n",
       "15  2021-01-16  dog dental chews   \n",
       "16  2021-01-17  dog dental chews   \n",
       "17  2021-01-18  dog dental chews   \n",
       "18  2021-01-19  dog dental chews   \n",
       "19  2021-01-20               NaN   \n",
       "20  2021-01-21  dog dental chews   \n",
       "21  2021-01-22  dog dental chews   \n",
       "22  2021-01-23  dog dental chews   \n",
       "23  2021-01-24  dog dental chews   \n",
       "24  2021-01-25  dog dental chews   \n",
       "25  2021-01-26  dog dental chews   \n",
       "26  2021-01-27  dog dental chews   \n",
       "27  2021-01-28               NaN   \n",
       "28  2021-01-29  dog dental chews   \n",
       "29  2021-01-30  dog dental chews   \n",
       "\n",
       "                                                title  product_id  ranks  \\\n",
       "0   Changing Lifestyles Safe-er-Grip Bathtub and S...         0.0   45.0   \n",
       "1   Changing Lifestyles Safe-er-Grip Bathtub and S...         0.0   21.0   \n",
       "2   Changing Lifestyles Safe-er-Grip Bathtub and S...         0.0   37.0   \n",
       "3   Changing Lifestyles Safe-er-Grip Bathtub and S...         NaN   11.0   \n",
       "4   Changing Lifestyles Safe-er-Grip Bathtub and S...         0.0   14.0   \n",
       "5   Changing Lifestyles Safe-er-Grip Bathtub and S...         0.0   41.0   \n",
       "6   Changing Lifestyles Safe-er-Grip Bathtub and S...         NaN   29.0   \n",
       "7   Changing Lifestyles Safe-er-Grip Bathtub and S...         0.0    NaN   \n",
       "8   Changing Lifestyles Safe-er-Grip Bathtub and S...         0.0    NaN   \n",
       "9   Changing Lifestyles Safe-er-Grip Bathtub and S...         0.0   40.0   \n",
       "10  Changing Lifestyles Safe-er-Grip Bathtub and S...         NaN   86.0   \n",
       "11  Changing Lifestyles Safe-er-Grip Bathtub and S...         0.0  105.0   \n",
       "12  Changing Lifestyles Safe-er-Grip Bathtub and S...         0.0  137.0   \n",
       "13  Changing Lifestyles Safe-er-Grip Bathtub and S...         0.0  127.0   \n",
       "14  Changing Lifestyles Safe-er-Grip Bathtub and S...         0.0    NaN   \n",
       "15  Changing Lifestyles Safe-er-Grip Bathtub and S...         0.0  157.0   \n",
       "16                                                NaN         0.0  157.0   \n",
       "17  Changing Lifestyles Safe-er-Grip Bathtub and S...         NaN  158.0   \n",
       "18  Changing Lifestyles Safe-er-Grip Bathtub and S...         0.0  157.0   \n",
       "19  Changing Lifestyles Safe-er-Grip Bathtub and S...         0.0  175.0   \n",
       "20  Changing Lifestyles Safe-er-Grip Bathtub and S...         0.0  176.0   \n",
       "21  Changing Lifestyles Safe-er-Grip Bathtub and S...         0.0  163.0   \n",
       "22  Changing Lifestyles Safe-er-Grip Bathtub and S...         0.0  164.0   \n",
       "23  Changing Lifestyles Safe-er-Grip Bathtub and S...         0.0  164.0   \n",
       "24  Changing Lifestyles Safe-er-Grip Bathtub and S...         NaN    NaN   \n",
       "25  Changing Lifestyles Safe-er-Grip Bathtub and S...         0.0  165.0   \n",
       "26  Changing Lifestyles Safe-er-Grip Bathtub and S...         0.0  172.0   \n",
       "27  Changing Lifestyles Safe-er-Grip Bathtub and S...         0.0  159.0   \n",
       "28  Changing Lifestyles Safe-er-Grip Bathtub and S...         0.0  148.0   \n",
       "29  Changing Lifestyles Safe-er-Grip Bathtub and S...         0.0  159.0   \n",
       "\n",
       "    price  reviews   ratings  nb_image  a_plus  description_score  \\\n",
       "0   36.34    168.0  4.327325       5.0     NaN           0.311871   \n",
       "1   36.34      NaN  4.336569       5.0     1.0           0.429192   \n",
       "2   36.34    168.0  4.336065       5.0     1.0           0.421836   \n",
       "3     NaN      NaN  4.322506       5.0     1.0           0.488681   \n",
       "4   36.34    168.0  4.334201       5.0     1.0           0.620089   \n",
       "5   36.34    168.0  4.326861       5.0     1.0           0.471951   \n",
       "6   36.34    168.0  4.319678       5.0     1.0           0.386614   \n",
       "7     NaN    168.0  4.323429       5.0     1.0           0.359867   \n",
       "8   36.34    168.0  4.307192       NaN     1.0           0.519688   \n",
       "9   36.34    168.0  4.312115       5.0     1.0           0.671013   \n",
       "10  36.34    168.0  4.335485       5.0     1.0                NaN   \n",
       "11  36.34    168.0  4.335324       5.0     1.0           0.679955   \n",
       "12  36.34    168.0  4.362997       NaN     1.0           0.395261   \n",
       "13  36.34    168.0  4.315848       5.0     NaN                NaN   \n",
       "14    NaN    168.0  4.312706       5.0     1.0           0.558578   \n",
       "15  36.34    168.0  4.300843       5.0     1.0           0.383306   \n",
       "16  36.34    169.0  4.291863       5.0     1.0           0.534882   \n",
       "17    NaN    169.0  4.261277       5.0     1.0           0.463375   \n",
       "18  36.34    169.0  4.217176       5.0     1.0           0.593553   \n",
       "19  36.34    169.0  4.223423       5.0     1.0           0.380693   \n",
       "20  36.34    169.0  4.216516       5.0     1.0                NaN   \n",
       "21  36.34    169.0  4.158615       5.0     NaN           0.567524   \n",
       "22  36.34    169.0  4.125127       5.0     1.0                NaN   \n",
       "23  36.34    169.0  4.102278       5.0     1.0           0.511543   \n",
       "24  36.34    169.0  4.057948       5.0     1.0           0.595113   \n",
       "25  36.34    169.0  4.059757       5.0     NaN           0.570147   \n",
       "26  36.34    169.0  4.051929       5.0     1.0           0.484029   \n",
       "27  36.34    169.0  4.053774       5.0     NaN           0.575263   \n",
       "28  36.34    169.0  4.071659       5.0     1.0           0.478981   \n",
       "29  36.34    169.0  4.087678       5.0     1.0                NaN   \n",
       "\n",
       "    nb_bullets_points  image_score  sales  \n",
       "0                 2.0     0.524923   17.0  \n",
       "1                 2.0     0.524923   35.0  \n",
       "2                 2.0     0.524923   10.0  \n",
       "3                 2.0     0.524923   16.0  \n",
       "4                 2.0     0.524923   29.0  \n",
       "5                 2.0     0.524923   11.0  \n",
       "6                 2.0          NaN   26.0  \n",
       "7                 2.0     0.524923   21.0  \n",
       "8                 2.0     0.524923    9.0  \n",
       "9                 2.0          NaN   12.0  \n",
       "10                NaN     0.524923   27.0  \n",
       "11                2.0     0.524923   26.0  \n",
       "12                2.0     0.524923   30.0  \n",
       "13                2.0     0.524923   26.0  \n",
       "14                2.0          NaN   22.0  \n",
       "15                NaN     0.524923   21.0  \n",
       "16                2.0     0.524923   27.0  \n",
       "17                2.0     0.524923   23.0  \n",
       "18                2.0     0.524923   23.0  \n",
       "19                2.0     0.524923   25.0  \n",
       "20                2.0     0.524923   26.0  \n",
       "21                2.0     0.524923   24.0  \n",
       "22                2.0     0.524923   25.0  \n",
       "23                2.0     0.524923   25.0  \n",
       "24                NaN     0.524923   24.0  \n",
       "25                2.0     0.524923   22.0  \n",
       "26                2.0     0.524923   22.0  \n",
       "27                2.0     0.524923   22.0  \n",
       "28                2.0     0.524923   23.0  \n",
       "29                2.0     0.524923   26.0  "
      ]
     },
     "execution_count": 3,
     "metadata": {},
     "output_type": "execute_result"
    }
   ],
   "source": [
    "df.head(30)"
   ]
  },
  {
   "cell_type": "code",
   "execution_count": 4,
   "metadata": {},
   "outputs": [
    {
     "data": {
      "text/plain": [
       "(1032913, 14)"
      ]
     },
     "execution_count": 4,
     "metadata": {},
     "output_type": "execute_result"
    }
   ],
   "source": [
    "df.shape"
   ]
  },
  {
   "cell_type": "code",
   "execution_count": 5,
   "metadata": {},
   "outputs": [
    {
     "data": {
      "text/plain": [
       "1032893    2499.0\n",
       "1032894    2499.0\n",
       "1032895    2499.0\n",
       "1032896    2499.0\n",
       "1032897    2499.0\n",
       "1032898    2499.0\n",
       "1032899    2499.0\n",
       "1032900       NaN\n",
       "1032901    2499.0\n",
       "1032902    2499.0\n",
       "1032903    2499.0\n",
       "1032904    2499.0\n",
       "1032905    2499.0\n",
       "1032906    2499.0\n",
       "1032907    2499.0\n",
       "1032908    2499.0\n",
       "1032909    2499.0\n",
       "1032910    2499.0\n",
       "1032911    2499.0\n",
       "1032912    2499.0\n",
       "Name: product_id, dtype: float64"
      ]
     },
     "execution_count": 5,
     "metadata": {},
     "output_type": "execute_result"
    }
   ],
   "source": [
    "df['product_id'].tail(20)"
   ]
  },
  {
   "cell_type": "code",
   "execution_count": 6,
   "metadata": {},
   "outputs": [
    {
     "data": {
      "text/plain": [
       "1032893    black high waisted shorts\n",
       "1032894    black high waisted shorts\n",
       "1032895    black high waisted shorts\n",
       "1032896                          NaN\n",
       "1032897    black high waisted shorts\n",
       "1032898    black high waisted shorts\n",
       "1032899    black high waisted shorts\n",
       "1032900    black high waisted shorts\n",
       "1032901    black high waisted shorts\n",
       "1032902    black high waisted shorts\n",
       "1032903                          NaN\n",
       "1032904    black high waisted shorts\n",
       "1032905    black high waisted shorts\n",
       "1032906    black high waisted shorts\n",
       "1032907    black high waisted shorts\n",
       "1032908    black high waisted shorts\n",
       "1032909    black high waisted shorts\n",
       "1032910    black high waisted shorts\n",
       "1032911    black high waisted shorts\n",
       "1032912    black high waisted shorts\n",
       "Name: keyword, dtype: object"
      ]
     },
     "execution_count": 6,
     "metadata": {},
     "output_type": "execute_result"
    }
   ],
   "source": [
    "df['keyword'].tail(20)"
   ]
  },
  {
   "cell_type": "code",
   "execution_count": 7,
   "metadata": {},
   "outputs": [
    {
     "data": {
      "text/plain": [
       "0          Changing Lifestyles Safe-er-Grip Bathtub and S...\n",
       "1          Changing Lifestyles Safe-er-Grip Bathtub and S...\n",
       "2          Changing Lifestyles Safe-er-Grip Bathtub and S...\n",
       "3          Changing Lifestyles Safe-er-Grip Bathtub and S...\n",
       "4          Changing Lifestyles Safe-er-Grip Bathtub and S...\n",
       "                                 ...                        \n",
       "1032908    Ubbie Kids Desk and Chair Set, Height Adjustab...\n",
       "1032909    Ubbie Kids Desk and Chair Set, Height Adjustab...\n",
       "1032910    Ubbie Kids Desk and Chair Set, Height Adjustab...\n",
       "1032911    Ubbie Kids Desk and Chair Set, Height Adjustab...\n",
       "1032912    Ubbie Kids Desk and Chair Set, Height Adjustab...\n",
       "Name: title, Length: 1032913, dtype: object"
      ]
     },
     "execution_count": 7,
     "metadata": {},
     "output_type": "execute_result"
    }
   ],
   "source": [
    "df['title']"
   ]
  },
  {
   "cell_type": "code",
   "execution_count": 8,
   "metadata": {},
   "outputs": [
    {
     "data": {
      "text/plain": [
       "Index(['dates', 'keyword', 'title', 'product_id', 'ranks', 'price', 'reviews',\n",
       "       'ratings', 'nb_image', 'a_plus', 'description_score',\n",
       "       'nb_bullets_points', 'image_score', 'sales'],\n",
       "      dtype='object')"
      ]
     },
     "execution_count": 8,
     "metadata": {},
     "output_type": "execute_result"
    }
   ],
   "source": [
    "df.columns"
   ]
  },
  {
   "cell_type": "code",
   "execution_count": 9,
   "metadata": {},
   "outputs": [
    {
     "data": {
      "text/plain": [
       "0          Changing Lifestyles Safe-er-Grip Bathtub and S...\n",
       "1          Changing Lifestyles Safe-er-Grip Bathtub and S...\n",
       "2          Changing Lifestyles Safe-er-Grip Bathtub and S...\n",
       "3          Changing Lifestyles Safe-er-Grip Bathtub and S...\n",
       "4          Changing Lifestyles Safe-er-Grip Bathtub and S...\n",
       "                                 ...                        \n",
       "1032908    Ubbie Kids Desk and Chair Set, Height Adjustab...\n",
       "1032909    Ubbie Kids Desk and Chair Set, Height Adjustab...\n",
       "1032910    Ubbie Kids Desk and Chair Set, Height Adjustab...\n",
       "1032911    Ubbie Kids Desk and Chair Set, Height Adjustab...\n",
       "1032912    Ubbie Kids Desk and Chair Set, Height Adjustab...\n",
       "Name: title, Length: 1032913, dtype: object"
      ]
     },
     "execution_count": 9,
     "metadata": {},
     "output_type": "execute_result"
    }
   ],
   "source": [
    "df.title"
   ]
  },
  {
   "cell_type": "code",
   "execution_count": 10,
   "metadata": {},
   "outputs": [
    {
     "name": "stdout",
     "output_type": "stream",
     "text": [
      "<class 'pandas.core.frame.DataFrame'>\n",
      "RangeIndex: 1032913 entries, 0 to 1032912\n",
      "Data columns (total 14 columns):\n",
      " #   Column             Non-Null Count    Dtype  \n",
      "---  ------             --------------    -----  \n",
      " 0   dates              1032913 non-null  object \n",
      " 1   keyword            929515 non-null   object \n",
      " 2   title              929332 non-null   object \n",
      " 3   product_id         929694 non-null   float64\n",
      " 4   ranks              929405 non-null   float64\n",
      " 5   price              929287 non-null   float64\n",
      " 6   reviews            929248 non-null   float64\n",
      " 7   ratings            929997 non-null   float64\n",
      " 8   nb_image           929558 non-null   float64\n",
      " 9   a_plus             929261 non-null   float64\n",
      " 10  description_score  929854 non-null   float64\n",
      " 11  nb_bullets_points  929691 non-null   float64\n",
      " 12  image_score        930181 non-null   float64\n",
      " 13  sales              878929 non-null   float64\n",
      "dtypes: float64(11), object(3)\n",
      "memory usage: 110.3+ MB\n"
     ]
    }
   ],
   "source": [
    "df.info()"
   ]
  },
  {
   "cell_type": "markdown",
   "metadata": {},
   "source": [
    "# Check data cleaning"
   ]
  },
  {
   "cell_type": "code",
   "execution_count": 11,
   "metadata": {},
   "outputs": [
    {
     "data": {
      "text/plain": [
       "dates                     0\n",
       "keyword              103398\n",
       "title                103581\n",
       "product_id           103219\n",
       "ranks                103508\n",
       "price                103626\n",
       "reviews              103665\n",
       "ratings              102916\n",
       "nb_image             103355\n",
       "a_plus               103652\n",
       "description_score    103059\n",
       "nb_bullets_points    103222\n",
       "image_score          102732\n",
       "sales                153984\n",
       "dtype: int64"
      ]
     },
     "execution_count": 11,
     "metadata": {},
     "output_type": "execute_result"
    }
   ],
   "source": [
    "df.isna().sum()"
   ]
  },
  {
   "cell_type": "code",
   "execution_count": 12,
   "metadata": {},
   "outputs": [],
   "source": [
    "df_fixed = df.interpolate(inplace=False)"
   ]
  },
  {
   "cell_type": "code",
   "execution_count": 13,
   "metadata": {},
   "outputs": [
    {
     "data": {
      "text/plain": [
       "dates                     0\n",
       "keyword              103398\n",
       "title                103581\n",
       "product_id                0\n",
       "ranks                     0\n",
       "price                     0\n",
       "reviews                   0\n",
       "ratings                   0\n",
       "nb_image                  0\n",
       "a_plus                    1\n",
       "description_score         0\n",
       "nb_bullets_points         0\n",
       "image_score               0\n",
       "sales                     0\n",
       "dtype: int64"
      ]
     },
     "execution_count": 13,
     "metadata": {},
     "output_type": "execute_result"
    }
   ],
   "source": [
    "df_fixed.isna().sum()"
   ]
  },
  {
   "cell_type": "code",
   "execution_count": 14,
   "metadata": {},
   "outputs": [
    {
     "data": {
      "text/plain": [
       "array([       nan, 1.        , 0.        , 0.5       , 0.16666667,\n",
       "       0.33333333, 0.66666667, 0.83333333, 0.66666667, 0.33333333,\n",
       "       0.25      , 0.75      ])"
      ]
     },
     "execution_count": 14,
     "metadata": {},
     "output_type": "execute_result"
    }
   ],
   "source": [
    "df_fixed['a_plus'].unique()"
   ]
  },
  {
   "cell_type": "code",
   "execution_count": 15,
   "metadata": {},
   "outputs": [],
   "source": [
    "df_fixed.dropna(inplace =True)"
   ]
  },
  {
   "cell_type": "code",
   "execution_count": 16,
   "metadata": {},
   "outputs": [
    {
     "data": {
      "text/plain": [
       "dates                0\n",
       "keyword              0\n",
       "title                0\n",
       "product_id           0\n",
       "ranks                0\n",
       "price                0\n",
       "reviews              0\n",
       "ratings              0\n",
       "nb_image             0\n",
       "a_plus               0\n",
       "description_score    0\n",
       "nb_bullets_points    0\n",
       "image_score          0\n",
       "sales                0\n",
       "dtype: int64"
      ]
     },
     "execution_count": 16,
     "metadata": {},
     "output_type": "execute_result"
    }
   ],
   "source": [
    "df_fixed.isna().sum()"
   ]
  },
  {
   "cell_type": "code",
   "execution_count": 17,
   "metadata": {},
   "outputs": [
    {
     "data": {
      "text/plain": [
       "1          Changing Lifestyles Safe-er-Grip Bathtub and S...\n",
       "2          Changing Lifestyles Safe-er-Grip Bathtub and S...\n",
       "3          Changing Lifestyles Safe-er-Grip Bathtub and S...\n",
       "4          Changing Lifestyles Safe-er-Grip Bathtub and S...\n",
       "5          Changing Lifestyles Safe-er-Grip Bathtub and S...\n",
       "                                 ...                        \n",
       "1032908    Ubbie Kids Desk and Chair Set, Height Adjustab...\n",
       "1032909    Ubbie Kids Desk and Chair Set, Height Adjustab...\n",
       "1032910    Ubbie Kids Desk and Chair Set, Height Adjustab...\n",
       "1032911    Ubbie Kids Desk and Chair Set, Height Adjustab...\n",
       "1032912    Ubbie Kids Desk and Chair Set, Height Adjustab...\n",
       "Name: title, Length: 836239, dtype: object"
      ]
     },
     "execution_count": 17,
     "metadata": {},
     "output_type": "execute_result"
    }
   ],
   "source": [
    "df_fixed['title']"
   ]
  },
  {
   "cell_type": "code",
   "execution_count": 18,
   "metadata": {},
   "outputs": [],
   "source": [
    "df_fixed = df_fixed.drop(['title'], axis=1)"
   ]
  },
  {
   "cell_type": "code",
   "execution_count": 19,
   "metadata": {},
   "outputs": [
    {
     "data": {
      "text/html": [
       "<div>\n",
       "<style scoped>\n",
       "    .dataframe tbody tr th:only-of-type {\n",
       "        vertical-align: middle;\n",
       "    }\n",
       "\n",
       "    .dataframe tbody tr th {\n",
       "        vertical-align: top;\n",
       "    }\n",
       "\n",
       "    .dataframe thead th {\n",
       "        text-align: right;\n",
       "    }\n",
       "</style>\n",
       "<table border=\"1\" class=\"dataframe\">\n",
       "  <thead>\n",
       "    <tr style=\"text-align: right;\">\n",
       "      <th></th>\n",
       "      <th>dates</th>\n",
       "      <th>keyword</th>\n",
       "      <th>product_id</th>\n",
       "      <th>ranks</th>\n",
       "      <th>price</th>\n",
       "      <th>reviews</th>\n",
       "      <th>ratings</th>\n",
       "      <th>nb_image</th>\n",
       "      <th>a_plus</th>\n",
       "      <th>description_score</th>\n",
       "      <th>nb_bullets_points</th>\n",
       "      <th>image_score</th>\n",
       "      <th>sales</th>\n",
       "    </tr>\n",
       "  </thead>\n",
       "  <tbody>\n",
       "    <tr>\n",
       "      <th>1032908</th>\n",
       "      <td>2021-02-24</td>\n",
       "      <td>black high waisted shorts</td>\n",
       "      <td>2499.0</td>\n",
       "      <td>354.0</td>\n",
       "      <td>29.22</td>\n",
       "      <td>30.5</td>\n",
       "      <td>4.396493</td>\n",
       "      <td>7.0</td>\n",
       "      <td>1.0</td>\n",
       "      <td>0.701054</td>\n",
       "      <td>5.0</td>\n",
       "      <td>0.451809</td>\n",
       "      <td>94.0</td>\n",
       "    </tr>\n",
       "    <tr>\n",
       "      <th>1032909</th>\n",
       "      <td>2021-02-25</td>\n",
       "      <td>black high waisted shorts</td>\n",
       "      <td>2499.0</td>\n",
       "      <td>359.0</td>\n",
       "      <td>29.22</td>\n",
       "      <td>32.0</td>\n",
       "      <td>4.407939</td>\n",
       "      <td>7.0</td>\n",
       "      <td>1.0</td>\n",
       "      <td>0.730596</td>\n",
       "      <td>5.0</td>\n",
       "      <td>0.451809</td>\n",
       "      <td>94.0</td>\n",
       "    </tr>\n",
       "    <tr>\n",
       "      <th>1032910</th>\n",
       "      <td>2021-02-26</td>\n",
       "      <td>black high waisted shorts</td>\n",
       "      <td>2499.0</td>\n",
       "      <td>353.0</td>\n",
       "      <td>29.22</td>\n",
       "      <td>34.0</td>\n",
       "      <td>4.370798</td>\n",
       "      <td>7.0</td>\n",
       "      <td>1.0</td>\n",
       "      <td>0.892210</td>\n",
       "      <td>5.0</td>\n",
       "      <td>0.451809</td>\n",
       "      <td>94.0</td>\n",
       "    </tr>\n",
       "    <tr>\n",
       "      <th>1032911</th>\n",
       "      <td>2021-02-27</td>\n",
       "      <td>black high waisted shorts</td>\n",
       "      <td>2499.0</td>\n",
       "      <td>360.0</td>\n",
       "      <td>29.22</td>\n",
       "      <td>34.0</td>\n",
       "      <td>4.402303</td>\n",
       "      <td>7.0</td>\n",
       "      <td>1.0</td>\n",
       "      <td>0.750830</td>\n",
       "      <td>5.0</td>\n",
       "      <td>0.451809</td>\n",
       "      <td>94.0</td>\n",
       "    </tr>\n",
       "    <tr>\n",
       "      <th>1032912</th>\n",
       "      <td>2021-02-28</td>\n",
       "      <td>black high waisted shorts</td>\n",
       "      <td>2499.0</td>\n",
       "      <td>351.0</td>\n",
       "      <td>29.22</td>\n",
       "      <td>36.0</td>\n",
       "      <td>4.427188</td>\n",
       "      <td>7.0</td>\n",
       "      <td>1.0</td>\n",
       "      <td>0.750830</td>\n",
       "      <td>5.0</td>\n",
       "      <td>0.451809</td>\n",
       "      <td>94.0</td>\n",
       "    </tr>\n",
       "  </tbody>\n",
       "</table>\n",
       "</div>"
      ],
      "text/plain": [
       "              dates                    keyword  product_id  ranks  price  \\\n",
       "1032908  2021-02-24  black high waisted shorts      2499.0  354.0  29.22   \n",
       "1032909  2021-02-25  black high waisted shorts      2499.0  359.0  29.22   \n",
       "1032910  2021-02-26  black high waisted shorts      2499.0  353.0  29.22   \n",
       "1032911  2021-02-27  black high waisted shorts      2499.0  360.0  29.22   \n",
       "1032912  2021-02-28  black high waisted shorts      2499.0  351.0  29.22   \n",
       "\n",
       "         reviews   ratings  nb_image  a_plus  description_score  \\\n",
       "1032908     30.5  4.396493       7.0     1.0           0.701054   \n",
       "1032909     32.0  4.407939       7.0     1.0           0.730596   \n",
       "1032910     34.0  4.370798       7.0     1.0           0.892210   \n",
       "1032911     34.0  4.402303       7.0     1.0           0.750830   \n",
       "1032912     36.0  4.427188       7.0     1.0           0.750830   \n",
       "\n",
       "         nb_bullets_points  image_score  sales  \n",
       "1032908                5.0     0.451809   94.0  \n",
       "1032909                5.0     0.451809   94.0  \n",
       "1032910                5.0     0.451809   94.0  \n",
       "1032911                5.0     0.451809   94.0  \n",
       "1032912                5.0     0.451809   94.0  "
      ]
     },
     "execution_count": 19,
     "metadata": {},
     "output_type": "execute_result"
    }
   ],
   "source": [
    "df_fixed.tail()"
   ]
  },
  {
   "cell_type": "markdown",
   "metadata": {},
   "source": [
    "# Convert dates into float"
   ]
  },
  {
   "cell_type": "code",
   "execution_count": null,
   "metadata": {},
   "outputs": [],
   "source": []
  },
  {
   "cell_type": "markdown",
   "metadata": {},
   "source": [
    "# Important feature correlation"
   ]
  },
  {
   "cell_type": "code",
   "execution_count": 20,
   "metadata": {},
   "outputs": [
    {
     "data": {
      "text/plain": [
       "<AxesSubplot:>"
      ]
     },
     "execution_count": 20,
     "metadata": {},
     "output_type": "execute_result"
    },
    {
     "data": {
      "image/png": "[encoded data removed]",
      "text/plain": [
       "<Figure size 432x288 with 2 Axes>"
      ]
     },
     "metadata": {
      "needs_background": "light"
     },
     "output_type": "display_data"
    }
   ],
   "source": [
    "sns.heatmap(df.corr(), vmin=-1, cmap='YlGn')"
   ]
  },
  {
   "cell_type": "markdown",
   "metadata": {},
   "source": [
    "Interpretation: there is 2 main features with correlation ratio:\n",
    "1) nb_image: for the description of the product\n",
    "2) description score"
   ]
  },
  {
   "cell_type": "code",
   "execution_count": 21,
   "metadata": {},
   "outputs": [
    {
     "data": {
      "text/plain": [
       "dates                     0\n",
       "keyword              103398\n",
       "title                103581\n",
       "product_id           103219\n",
       "ranks                103508\n",
       "price                103626\n",
       "reviews              103665\n",
       "ratings              102916\n",
       "nb_image             103355\n",
       "a_plus               103652\n",
       "description_score    103059\n",
       "nb_bullets_points    103222\n",
       "image_score          102732\n",
       "sales                153984\n",
       "dtype: int64"
      ]
     },
     "execution_count": 21,
     "metadata": {},
     "output_type": "execute_result"
    }
   ],
   "source": [
    "df.isna().sum()"
   ]
  },
  {
   "cell_type": "code",
   "execution_count": 22,
   "metadata": {},
   "outputs": [
    {
     "data": {
      "text/plain": [
       "<AxesSubplot:>"
      ]
     },
     "execution_count": 22,
     "metadata": {},
     "output_type": "execute_result"
    },
    {
     "data": {
      "image/png": "[encoded data removed]",
      "text/plain": [
       "<Figure size 432x288 with 2 Axes>"
      ]
     },
     "metadata": {
      "needs_background": "light"
     },
     "output_type": "display_data"
    }
   ],
   "source": [
    "sns.heatmap(df_fixed.corr(), vmin=-1, cmap='YlGn')"
   ]
  },
  {
   "cell_type": "code",
   "execution_count": 23,
   "metadata": {},
   "outputs": [
    {
     "data": {
      "text/html": [
       "<div>\n",
       "<style scoped>\n",
       "    .dataframe tbody tr th:only-of-type {\n",
       "        vertical-align: middle;\n",
       "    }\n",
       "\n",
       "    .dataframe tbody tr th {\n",
       "        vertical-align: top;\n",
       "    }\n",
       "\n",
       "    .dataframe thead th {\n",
       "        text-align: right;\n",
       "    }\n",
       "</style>\n",
       "<table border=\"1\" class=\"dataframe\">\n",
       "  <thead>\n",
       "    <tr style=\"text-align: right;\">\n",
       "      <th></th>\n",
       "      <th>count</th>\n",
       "      <th>mean</th>\n",
       "      <th>std</th>\n",
       "      <th>min</th>\n",
       "      <th>25%</th>\n",
       "      <th>50%</th>\n",
       "      <th>75%</th>\n",
       "      <th>max</th>\n",
       "    </tr>\n",
       "  </thead>\n",
       "  <tbody>\n",
       "    <tr>\n",
       "      <th>product_id</th>\n",
       "      <td>836239.0</td>\n",
       "      <td>1248.33</td>\n",
       "      <td>718.06</td>\n",
       "      <td>0.00</td>\n",
       "      <td>635.00</td>\n",
       "      <td>1241.00</td>\n",
       "      <td>1865.00</td>\n",
       "      <td>2499.00</td>\n",
       "    </tr>\n",
       "    <tr>\n",
       "      <th>ranks</th>\n",
       "      <td>836239.0</td>\n",
       "      <td>128.98</td>\n",
       "      <td>90.84</td>\n",
       "      <td>1.00</td>\n",
       "      <td>54.00</td>\n",
       "      <td>124.00</td>\n",
       "      <td>194.00</td>\n",
       "      <td>739.00</td>\n",
       "    </tr>\n",
       "    <tr>\n",
       "      <th>price</th>\n",
       "      <td>836239.0</td>\n",
       "      <td>36.01</td>\n",
       "      <td>6.49</td>\n",
       "      <td>10.61</td>\n",
       "      <td>31.69</td>\n",
       "      <td>35.88</td>\n",
       "      <td>40.40</td>\n",
       "      <td>53.81</td>\n",
       "    </tr>\n",
       "    <tr>\n",
       "      <th>reviews</th>\n",
       "      <td>836239.0</td>\n",
       "      <td>96.08</td>\n",
       "      <td>2420.20</td>\n",
       "      <td>1.00</td>\n",
       "      <td>6.00</td>\n",
       "      <td>15.00</td>\n",
       "      <td>38.00</td>\n",
       "      <td>119737.00</td>\n",
       "    </tr>\n",
       "    <tr>\n",
       "      <th>ratings</th>\n",
       "      <td>836239.0</td>\n",
       "      <td>4.00</td>\n",
       "      <td>0.61</td>\n",
       "      <td>2.33</td>\n",
       "      <td>3.52</td>\n",
       "      <td>4.00</td>\n",
       "      <td>4.53</td>\n",
       "      <td>5.00</td>\n",
       "    </tr>\n",
       "    <tr>\n",
       "      <th>nb_image</th>\n",
       "      <td>836239.0</td>\n",
       "      <td>2.99</td>\n",
       "      <td>1.71</td>\n",
       "      <td>0.00</td>\n",
       "      <td>2.00</td>\n",
       "      <td>3.00</td>\n",
       "      <td>4.00</td>\n",
       "      <td>9.00</td>\n",
       "    </tr>\n",
       "    <tr>\n",
       "      <th>a_plus</th>\n",
       "      <td>836239.0</td>\n",
       "      <td>0.79</td>\n",
       "      <td>0.41</td>\n",
       "      <td>0.00</td>\n",
       "      <td>1.00</td>\n",
       "      <td>1.00</td>\n",
       "      <td>1.00</td>\n",
       "      <td>1.00</td>\n",
       "    </tr>\n",
       "    <tr>\n",
       "      <th>description_score</th>\n",
       "      <td>836239.0</td>\n",
       "      <td>0.30</td>\n",
       "      <td>0.19</td>\n",
       "      <td>0.00</td>\n",
       "      <td>0.16</td>\n",
       "      <td>0.28</td>\n",
       "      <td>0.42</td>\n",
       "      <td>1.00</td>\n",
       "    </tr>\n",
       "    <tr>\n",
       "      <th>nb_bullets_points</th>\n",
       "      <td>836239.0</td>\n",
       "      <td>2.96</td>\n",
       "      <td>1.70</td>\n",
       "      <td>0.00</td>\n",
       "      <td>2.00</td>\n",
       "      <td>3.00</td>\n",
       "      <td>4.00</td>\n",
       "      <td>13.00</td>\n",
       "    </tr>\n",
       "    <tr>\n",
       "      <th>image_score</th>\n",
       "      <td>836239.0</td>\n",
       "      <td>0.50</td>\n",
       "      <td>0.29</td>\n",
       "      <td>0.00</td>\n",
       "      <td>0.26</td>\n",
       "      <td>0.49</td>\n",
       "      <td>0.74</td>\n",
       "      <td>1.00</td>\n",
       "    </tr>\n",
       "    <tr>\n",
       "      <th>sales</th>\n",
       "      <td>836239.0</td>\n",
       "      <td>98.58</td>\n",
       "      <td>134.43</td>\n",
       "      <td>0.00</td>\n",
       "      <td>12.00</td>\n",
       "      <td>46.00</td>\n",
       "      <td>112.00</td>\n",
       "      <td>1600.00</td>\n",
       "    </tr>\n",
       "  </tbody>\n",
       "</table>\n",
       "</div>"
      ],
      "text/plain": [
       "                      count     mean      std    min     25%      50%  \\\n",
       "product_id         836239.0  1248.33   718.06   0.00  635.00  1241.00   \n",
       "ranks              836239.0   128.98    90.84   1.00   54.00   124.00   \n",
       "price              836239.0    36.01     6.49  10.61   31.69    35.88   \n",
       "reviews            836239.0    96.08  2420.20   1.00    6.00    15.00   \n",
       "ratings            836239.0     4.00     0.61   2.33    3.52     4.00   \n",
       "nb_image           836239.0     2.99     1.71   0.00    2.00     3.00   \n",
       "a_plus             836239.0     0.79     0.41   0.00    1.00     1.00   \n",
       "description_score  836239.0     0.30     0.19   0.00    0.16     0.28   \n",
       "nb_bullets_points  836239.0     2.96     1.70   0.00    2.00     3.00   \n",
       "image_score        836239.0     0.50     0.29   0.00    0.26     0.49   \n",
       "sales              836239.0    98.58   134.43   0.00   12.00    46.00   \n",
       "\n",
       "                       75%        max  \n",
       "product_id         1865.00    2499.00  \n",
       "ranks               194.00     739.00  \n",
       "price                40.40      53.81  \n",
       "reviews              38.00  119737.00  \n",
       "ratings               4.53       5.00  \n",
       "nb_image              4.00       9.00  \n",
       "a_plus                1.00       1.00  \n",
       "description_score     0.42       1.00  \n",
       "nb_bullets_points     4.00      13.00  \n",
       "image_score           0.74       1.00  \n",
       "sales               112.00    1600.00  "
      ]
     },
     "execution_count": 23,
     "metadata": {},
     "output_type": "execute_result"
    }
   ],
   "source": [
    "df_fixed.describe().T.round(2)"
   ]
  },
  {
   "cell_type": "markdown",
   "metadata": {},
   "source": [
    "# Data visualization"
   ]
  },
  {
   "cell_type": "code",
   "execution_count": 24,
   "metadata": {},
   "outputs": [
    {
     "data": {
      "text/plain": [
       "<AxesSubplot:xlabel='sales', ylabel='Count'>"
      ]
     },
     "execution_count": 24,
     "metadata": {},
     "output_type": "execute_result"
    },
    {
     "data": {
      "image/png": "[encoded data removed]",
      "text/plain": [
       "<Figure size 432x288 with 1 Axes>"
      ]
     },
     "metadata": {
      "needs_background": "light"
     },
     "output_type": "display_data"
    }
   ],
   "source": [
    "sns.histplot(df_fixed['sales'])"
   ]
  },
  {
   "cell_type": "code",
   "execution_count": 25,
   "metadata": {},
   "outputs": [
    {
     "data": {
      "text/plain": [
       "1          36.34\n",
       "2          36.34\n",
       "3          36.34\n",
       "4          36.34\n",
       "5          36.34\n",
       "           ...  \n",
       "1032908    29.22\n",
       "1032909    29.22\n",
       "1032910    29.22\n",
       "1032911    29.22\n",
       "1032912    29.22\n",
       "Name: price, Length: 836239, dtype: float64"
      ]
     },
     "execution_count": 25,
     "metadata": {},
     "output_type": "execute_result"
    }
   ],
   "source": [
    "df_fixed.price"
   ]
  },
  {
   "cell_type": "code",
   "execution_count": 26,
   "metadata": {},
   "outputs": [
    {
     "data": {
      "text/plain": [
       "94.000000     87153\n",
       "5.000000      21731\n",
       "6.000000      20706\n",
       "7.000000      20205\n",
       "4.000000      19183\n",
       "              ...  \n",
       "112.034483        1\n",
       "184.965517        1\n",
       "208.517241        1\n",
       "200.965517        1\n",
       "152.931034        1\n",
       "Name: sales, Length: 6941, dtype: int64"
      ]
     },
     "execution_count": 26,
     "metadata": {},
     "output_type": "execute_result"
    }
   ],
   "source": [
    "df_fixed.sales.value_counts(normalize=False, sort=True, ascending=False, bins=None, dropna=True)"
   ]
  },
  {
   "cell_type": "code",
   "execution_count": 27,
   "metadata": {},
   "outputs": [],
   "source": [
    "order_data = df_fixed['keyword'].value_counts().iloc[:100].index"
   ]
  },
  {
   "cell_type": "code",
   "execution_count": 28,
   "metadata": {},
   "outputs": [
    {
     "data": {
      "text/plain": [
       "<AxesSubplot:xlabel='count', ylabel='keyword'>"
      ]
     },
     "execution_count": 28,
     "metadata": {},
     "output_type": "execute_result"
    },
    {
     "data": {
      "image/png": "[encoded data removed]",
      "text/plain": [
       "<Figure size 1200x1200 with 1 Axes>"
      ]
     },
     "metadata": {
      "needs_background": "light"
     },
     "output_type": "display_data"
    }
   ],
   "source": [
    "from matplotlib.pyplot import figure\n",
    "figure(figsize=(15, 15), dpi=80)\n",
    "sns.countplot(y='keyword', data= df_fixed, order=order_data )"
   ]
  },
  {
   "cell_type": "code",
   "execution_count": 29,
   "metadata": {},
   "outputs": [
    {
     "data": {
      "text/plain": [
       "<AxesSubplot:xlabel='count', ylabel='sales'>"
      ]
     },
     "execution_count": 29,
     "metadata": {},
     "output_type": "execute_result"
    },
    {
     "data": {
      "image/png": "[encoded data removed]",
      "text/plain": [
       "<Figure size 1200x1200 with 1 Axes>"
      ]
     },
     "metadata": {
      "needs_background": "light"
     },
     "output_type": "display_data"
    }
   ],
   "source": [
    "order_sales = df_fixed['sales'].value_counts().iloc[:100].index\n",
    "figure(figsize=(15, 15), dpi=80)\n",
    "sns.countplot(y='sales', data= df_fixed, order=order_sales )"
   ]
  },
  {
   "cell_type": "code",
   "execution_count": 30,
   "metadata": {},
   "outputs": [],
   "source": [
    "df_fixed.index = pd.DatetimeIndex(df_fixed.dates)"
   ]
  },
  {
   "cell_type": "code",
   "execution_count": 31,
   "metadata": {},
   "outputs": [
    {
     "data": {
      "text/plain": [
       "dates\n",
       "2021-01-31    439404\n",
       "2021-02-28    396835\n",
       "Freq: M, dtype: int64"
      ]
     },
     "execution_count": 31,
     "metadata": {},
     "output_type": "execute_result"
    }
   ],
   "source": [
    "df_fixed.resample('M').size()"
   ]
  },
  {
   "cell_type": "code",
   "execution_count": 32,
   "metadata": {},
   "outputs": [
    {
     "data": {
      "text/plain": [
       "Text(0, 0.5, 'Number of sales')"
      ]
     },
     "execution_count": 32,
     "metadata": {},
     "output_type": "execute_result"
    },
    {
     "data": {
      "image/png": "[encoded data removed]",
      "text/plain": [
       "<Figure size 800x720 with 1 Axes>"
      ]
     },
     "metadata": {
      "needs_background": "light"
     },
     "output_type": "display_data"
    }
   ],
   "source": [
    "figure(figsize=(10, 9), dpi=80)\n",
    "plt.plot(df_fixed.resample('d').size())\n",
    "plt.title('Number of sales per days')\n",
    "plt.xlabel('Month')\n",
    "plt.ylabel('Number of sales')"
   ]
  },
  {
   "cell_type": "code",
   "execution_count": 33,
   "metadata": {},
   "outputs": [
    {
     "data": {
      "text/plain": [
       "<AxesSubplot:xlabel='dates'>"
      ]
     },
     "execution_count": 33,
     "metadata": {},
     "output_type": "execute_result"
    },
    {
     "data": {
      "image/png": "[encoded data removed]",
      "text/plain": [
       "<Figure size 792x648 with 1 Axes>"
      ]
     },
     "metadata": {
      "needs_background": "light"
     },
     "output_type": "display_data"
    }
   ],
   "source": [
    "df_fixed.loc['2021-01-01': '2021-01-16','sales'].plot(marker = 'o', figsize=(11, 9))"
   ]
  },
  {
   "cell_type": "code",
   "execution_count": 34,
   "metadata": {},
   "outputs": [
    {
     "data": {
      "text/plain": [
       "dates\n",
       "2021-01-02             dog dental chews\n",
       "2021-01-03             dog dental chews\n",
       "2021-01-04             dog dental chews\n",
       "2021-01-05             dog dental chews\n",
       "2021-01-06             dog dental chews\n",
       "                        ...            \n",
       "2021-02-24    black high waisted shorts\n",
       "2021-02-25    black high waisted shorts\n",
       "2021-02-26    black high waisted shorts\n",
       "2021-02-27    black high waisted shorts\n",
       "2021-02-28    black high waisted shorts\n",
       "Name: keyword, Length: 836239, dtype: object"
      ]
     },
     "execution_count": 34,
     "metadata": {},
     "output_type": "execute_result"
    }
   ],
   "source": [
    "df_fixed.keyword"
   ]
  },
  {
   "cell_type": "code",
   "execution_count": 35,
   "metadata": {},
   "outputs": [],
   "source": [
    "df_fixed.to_csv(\"new_df_fixed_DataHawk.csv\")"
   ]
  },
  {
   "cell_type": "markdown",
   "metadata": {},
   "source": [
    "# Dataframe for each product_id"
   ]
  },
  {
   "cell_type": "code",
   "execution_count": 36,
   "metadata": {},
   "outputs": [
    {
     "data": {
      "text/plain": [
       "1"
      ]
     },
     "execution_count": 36,
     "metadata": {},
     "output_type": "execute_result"
    }
   ],
   "source": [
    "len(df_fixed.product_id[0:1])"
   ]
  },
  {
   "cell_type": "code",
   "execution_count": 37,
   "metadata": {},
   "outputs": [],
   "source": [
    "d = {}\n",
    "for i in range(len(df_fixed.product_id[0:1])):\n",
    "    d[i] = pd.DataFrame()\n",
    "    d[i] = df_fixed.loc[(df_fixed['product_id'] == i)]\n",
    "    #d[i]=df_fixed['dates','ranks','price','reviews','ratings','nb_image','a_plus','description_score','nb_bullets_points','image_score','sales']"
   ]
  },
  {
   "cell_type": "code",
   "execution_count": 38,
   "metadata": {},
   "outputs": [],
   "source": [
    "df2 = df_fixed.groupby('product_id', as_index=False).agg(lambda x: x.tolist())"
   ]
  },
  {
   "cell_type": "code",
   "execution_count": 39,
   "metadata": {},
   "outputs": [
    {
     "data": {
      "text/html": [
       "<div>\n",
       "<style scoped>\n",
       "    .dataframe tbody tr th:only-of-type {\n",
       "        vertical-align: middle;\n",
       "    }\n",
       "\n",
       "    .dataframe tbody tr th {\n",
       "        vertical-align: top;\n",
       "    }\n",
       "\n",
       "    .dataframe thead th {\n",
       "        text-align: right;\n",
       "    }\n",
       "</style>\n",
       "<table border=\"1\" class=\"dataframe\">\n",
       "  <thead>\n",
       "    <tr style=\"text-align: right;\">\n",
       "      <th></th>\n",
       "      <th>product_id</th>\n",
       "      <th>dates</th>\n",
       "      <th>keyword</th>\n",
       "      <th>ranks</th>\n",
       "      <th>price</th>\n",
       "      <th>reviews</th>\n",
       "      <th>ratings</th>\n",
       "      <th>nb_image</th>\n",
       "      <th>a_plus</th>\n",
       "      <th>description_score</th>\n",
       "      <th>nb_bullets_points</th>\n",
       "      <th>image_score</th>\n",
       "      <th>sales</th>\n",
       "    </tr>\n",
       "  </thead>\n",
       "  <tbody>\n",
       "    <tr>\n",
       "      <th>0</th>\n",
       "      <td>0.000000</td>\n",
       "      <td>[2021-01-02, 2021-01-03, 2021-01-04, 2021-01-0...</td>\n",
       "      <td>[dog dental chews, dog dental chews, dog denta...</td>\n",
       "      <td>[21.0, 37.0, 11.0, 14.0, 41.0, 29.0, 32.666666...</td>\n",
       "      <td>[36.34, 36.34, 36.34, 36.34, 36.34, 36.34, 36....</td>\n",
       "      <td>[168.0, 168.0, 168.0, 168.0, 168.0, 168.0, 168...</td>\n",
       "      <td>[4.3365687983270576, 4.336064623029114, 4.3225...</td>\n",
       "      <td>[5.0, 5.0, 5.0, 5.0, 5.0, 5.0, 5.0, 5.0, 5.0, ...</td>\n",
       "      <td>[1.0, 1.0, 1.0, 1.0, 1.0, 1.0, 1.0, 1.0, 1.0, ...</td>\n",
       "      <td>[0.42919181432064935, 0.4218357545437461, 0.48...</td>\n",
       "      <td>[2.0, 2.0, 2.0, 2.0, 2.0, 2.0, 2.0, 2.0, 2.0, ...</td>\n",
       "      <td>[0.5249228183596735, 0.5249228183596735, 0.524...</td>\n",
       "      <td>[35.0, 10.0, 16.0, 29.0, 11.0, 26.0, 21.0, 12....</td>\n",
       "    </tr>\n",
       "    <tr>\n",
       "      <th>1</th>\n",
       "      <td>1.000000</td>\n",
       "      <td>[2021-01-01, 2021-01-02, 2021-01-03, 2021-01-0...</td>\n",
       "      <td>[card puller for long nails, card puller for l...</td>\n",
       "      <td>[166.0, 162.0, 153.0, 163.0, 157.0, 130.0, 123...</td>\n",
       "      <td>[33.17, 33.17, 33.17, 33.17, 33.17, 33.17, 33....</td>\n",
       "      <td>[8.0, 8.0, 8.0, 8.0, 8.0, 8.0, 8.0, 8.0, 8.0, ...</td>\n",
       "      <td>[3.871420020803702, 3.8510408024462497, 3.8782...</td>\n",
       "      <td>[2.0, 2.0, 2.0, 2.0, 2.0, 2.0, 2.0, 2.0, 2.0, ...</td>\n",
       "      <td>[1.0, 1.0, 1.0, 1.0, 1.0, 1.0, 1.0, 1.0, 1.0, ...</td>\n",
       "      <td>[0.3085875246441679, 0.11236214443547306, 0.18...</td>\n",
       "      <td>[1.3333333333333335, 1.0, 1.0, 1.0, 1.0, 1.0, ...</td>\n",
       "      <td>[0.9296402966917552, 0.9296402966917552, 0.929...</td>\n",
       "      <td>[6.0, 6.0, 6.0, 6.0, 7.0, 6.0, 6.0, 7.0, 7.0, ...</td>\n",
       "    </tr>\n",
       "    <tr>\n",
       "      <th>2</th>\n",
       "      <td>1.333333</td>\n",
       "      <td>[2021-01-01]</td>\n",
       "      <td>[cerave hydrating cleanser]</td>\n",
       "      <td>[8.0]</td>\n",
       "      <td>[41.96]</td>\n",
       "      <td>[109.0]</td>\n",
       "      <td>[3.803259144209361]</td>\n",
       "      <td>[3.0]</td>\n",
       "      <td>[1.0]</td>\n",
       "      <td>[0.2741680816944125]</td>\n",
       "      <td>[4.0]</td>\n",
       "      <td>[0.3021371305761138]</td>\n",
       "      <td>[51.0]</td>\n",
       "    </tr>\n",
       "    <tr>\n",
       "      <th>3</th>\n",
       "      <td>1.666667</td>\n",
       "      <td>[2021-01-02]</td>\n",
       "      <td>[cerave hydrating cleanser]</td>\n",
       "      <td>[8.0]</td>\n",
       "      <td>[41.96]</td>\n",
       "      <td>[109.0]</td>\n",
       "      <td>[3.819293735236567]</td>\n",
       "      <td>[3.0]</td>\n",
       "      <td>[1.0]</td>\n",
       "      <td>[0.2944726107941157]</td>\n",
       "      <td>[4.0]</td>\n",
       "      <td>[0.3021371305761138]</td>\n",
       "      <td>[50.0]</td>\n",
       "    </tr>\n",
       "    <tr>\n",
       "      <th>4</th>\n",
       "      <td>2.000000</td>\n",
       "      <td>[2021-01-03, 2021-01-05, 2021-01-06, 2021-01-0...</td>\n",
       "      <td>[cerave hydrating cleanser, cerave hydrating c...</td>\n",
       "      <td>[9.0, 11.0, 14.0, 15.0, 16.5, 16.0, 15.0, 16.0...</td>\n",
       "      <td>[41.96, 41.96, 41.96, 41.96, 41.96, 41.96, 41....</td>\n",
       "      <td>[109.0, 109.0, 109.0, 109.0, 109.0, 109.0, 109...</td>\n",
       "      <td>[3.8133538602554418, 3.75657288938368, 3.73962...</td>\n",
       "      <td>[3.0, 3.0, 3.0, 3.0, 3.0, 3.0, 3.0, 3.0, 3.0, ...</td>\n",
       "      <td>[1.0, 1.0, 1.0, 1.0, 1.0, 1.0, 1.0, 1.0, 1.0, ...</td>\n",
       "      <td>[0.2823828525173465, 0.24110730881377346, 0.32...</td>\n",
       "      <td>[4.0, 4.0, 4.0, 4.0, 4.0, 4.0, 4.0, 4.0, 4.0, ...</td>\n",
       "      <td>[0.3021371305761138, 0.3021371305761138, 0.302...</td>\n",
       "      <td>[44.0, 49.0, 48.0, 45.0, 42.0, 30.0, 31.0, 30....</td>\n",
       "    </tr>\n",
       "    <tr>\n",
       "      <th>...</th>\n",
       "      <td>...</td>\n",
       "      <td>...</td>\n",
       "      <td>...</td>\n",
       "      <td>...</td>\n",
       "      <td>...</td>\n",
       "      <td>...</td>\n",
       "      <td>...</td>\n",
       "      <td>...</td>\n",
       "      <td>...</td>\n",
       "      <td>...</td>\n",
       "      <td>...</td>\n",
       "      <td>...</td>\n",
       "      <td>...</td>\n",
       "    </tr>\n",
       "    <tr>\n",
       "      <th>2962</th>\n",
       "      <td>2496.000000</td>\n",
       "      <td>[2021-01-02, 2021-01-05, 2021-01-06, 2021-01-0...</td>\n",
       "      <td>[rockauto parts, rockauto parts, rockauto part...</td>\n",
       "      <td>[107.0, 142.0, 120.0, 146.0, 146.0, 134.0, 98....</td>\n",
       "      <td>[29.0, 29.0, 29.0, 29.0, 29.0, 29.0, 29.0, 29....</td>\n",
       "      <td>[7.0, 7.0, 8.0, 9.0, 10.0, 10.0, 10.0, 11.0, 1...</td>\n",
       "      <td>[3.024144592601451, 3.061286247946338, 3.07007...</td>\n",
       "      <td>[1.0, 1.0, 1.0, 1.0, 1.0, 1.0, 1.0, 1.0, 1.0, ...</td>\n",
       "      <td>[1.0, 1.0, 1.0, 1.0, 1.0, 1.0, 1.0, 1.0, 1.0, ...</td>\n",
       "      <td>[0.11497116402152603, 0.29337954504474256, 0.0...</td>\n",
       "      <td>[3.0, 3.0, 3.0, 3.0, 3.0, 3.0, 3.0, 3.0, 3.0, ...</td>\n",
       "      <td>[0.4239396470366419, 0.4239396470366419, 0.423...</td>\n",
       "      <td>[94.0, 94.0, 94.0, 94.0, 94.0, 94.0, 94.0, 94....</td>\n",
       "    </tr>\n",
       "    <tr>\n",
       "      <th>2963</th>\n",
       "      <td>2497.000000</td>\n",
       "      <td>[2021-01-01, 2021-01-04, 2021-01-05, 2021-01-0...</td>\n",
       "      <td>[dog mom gifts, dog mom gifts, dog mom gifts, ...</td>\n",
       "      <td>[228.0, 237.0, 220.5, 204.0, 216.0, 230.0, 242...</td>\n",
       "      <td>[37.32, 37.32, 37.32, 37.32, 37.32, 37.32, 37....</td>\n",
       "      <td>[3.0, 4.0, 4.0, 4.0, 4.0, 7.0, 8.0, 10.0, 10.0...</td>\n",
       "      <td>[3.671771852882276, 3.7185466703173145, 3.7004...</td>\n",
       "      <td>[7.0, 7.0, 7.0, 7.0, 7.0, 7.0, 7.0, 7.0, 7.0, ...</td>\n",
       "      <td>[0.0, 0.0, 0.0, 0.0, 0.0, 0.0, 0.0, 0.0, 0.0, ...</td>\n",
       "      <td>[0.6848476817531384, 0.566594156306254, 0.5977...</td>\n",
       "      <td>[3.0, 3.0, 3.0, 3.0, 3.0, 3.0, 3.0, 3.0, 3.0, ...</td>\n",
       "      <td>[0.24911539574963404, 0.24911539574963404, 0.2...</td>\n",
       "      <td>[94.0, 94.0, 94.0, 94.0, 94.0, 94.0, 94.0, 94....</td>\n",
       "    </tr>\n",
       "    <tr>\n",
       "      <th>2964</th>\n",
       "      <td>2497.500000</td>\n",
       "      <td>[2021-01-01]</td>\n",
       "      <td>[bliss light skylight]</td>\n",
       "      <td>[92.0]</td>\n",
       "      <td>[38.74]</td>\n",
       "      <td>[1.0]</td>\n",
       "      <td>[4.213308837436419]</td>\n",
       "      <td>[4.0]</td>\n",
       "      <td>[1.0]</td>\n",
       "      <td>[0.24084633245798406]</td>\n",
       "      <td>[2.0]</td>\n",
       "      <td>[0.4479949477636156]</td>\n",
       "      <td>[94.0]</td>\n",
       "    </tr>\n",
       "    <tr>\n",
       "      <th>2965</th>\n",
       "      <td>2498.000000</td>\n",
       "      <td>[2021-01-03, 2021-01-05, 2021-01-06, 2021-01-0...</td>\n",
       "      <td>[bliss light skylight, bliss light skylight, b...</td>\n",
       "      <td>[92.0, 105.0, 103.0, 106.0, 118.0, 122.0, 115....</td>\n",
       "      <td>[38.74, 38.74, 38.74, 38.74, 38.74, 38.74, 38....</td>\n",
       "      <td>[1.0, 1.0, 1.0, 1.0, 1.0, 1.0, 1.0, 1.0, 1.0, ...</td>\n",
       "      <td>[4.1917515209353855, 4.186932373716156, 4.1909...</td>\n",
       "      <td>[4.0, 4.0, 4.0, 4.0, 4.0, 4.0, 4.0, 4.0, 4.0, ...</td>\n",
       "      <td>[1.0, 1.0, 1.0, 1.0, 1.0, 1.0, 1.0, 1.0, 1.0, ...</td>\n",
       "      <td>[0.40570465016467855, 0.3246840241699687, 0.40...</td>\n",
       "      <td>[2.0, 2.0, 2.0, 2.0, 2.0, 2.0, 2.0, 2.0, 2.0, ...</td>\n",
       "      <td>[0.4479949477636156, 0.4479949477636156, 0.447...</td>\n",
       "      <td>[94.0, 94.0, 94.0, 94.0, 94.0, 94.0, 94.0, 94....</td>\n",
       "    </tr>\n",
       "    <tr>\n",
       "      <th>2966</th>\n",
       "      <td>2499.000000</td>\n",
       "      <td>[2021-01-01, 2021-01-02, 2021-01-03, 2021-01-0...</td>\n",
       "      <td>[mjolnir necklace, mjolnir necklace, mjolnir n...</td>\n",
       "      <td>[78.0, 62.0, 70.0, 83.0, 90.0, 86.0, 66.0, 81....</td>\n",
       "      <td>[29.22, 29.22, 29.22, 29.22, 29.22, 29.22, 29....</td>\n",
       "      <td>[1.0, 2.0, 2.0, 2.0, 2.0, 3.5, 5.0, 5.0, 5.0, ...</td>\n",
       "      <td>[3.8539403783165227, 3.865990498121201, 3.8780...</td>\n",
       "      <td>[7.0, 7.0, 7.0, 7.0, 7.0, 7.0, 7.0, 7.0, 7.0, ...</td>\n",
       "      <td>[1.0, 1.0, 1.0, 1.0, 1.0, 1.0, 1.0, 1.0, 1.0, ...</td>\n",
       "      <td>[0.622879318540812, 0.8484350478187246, 0.7301...</td>\n",
       "      <td>[5.0, 5.0, 5.0, 5.0, 5.0, 5.0, 5.0, 5.0, 5.0, ...</td>\n",
       "      <td>[0.4518089864238588, 0.4518089864238588, 0.451...</td>\n",
       "      <td>[94.0, 94.0, 94.0, 94.0, 94.0, 94.0, 94.0, 94....</td>\n",
       "    </tr>\n",
       "  </tbody>\n",
       "</table>\n",
       "<p>2967 rows × 13 columns</p>\n",
       "</div>"
      ],
      "text/plain": [
       "       product_id                                              dates  \\\n",
       "0        0.000000  [2021-01-02, 2021-01-03, 2021-01-04, 2021-01-0...   \n",
       "1        1.000000  [2021-01-01, 2021-01-02, 2021-01-03, 2021-01-0...   \n",
       "2        1.333333                                       [2021-01-01]   \n",
       "3        1.666667                                       [2021-01-02]   \n",
       "4        2.000000  [2021-01-03, 2021-01-05, 2021-01-06, 2021-01-0...   \n",
       "...           ...                                                ...   \n",
       "2962  2496.000000  [2021-01-02, 2021-01-05, 2021-01-06, 2021-01-0...   \n",
       "2963  2497.000000  [2021-01-01, 2021-01-04, 2021-01-05, 2021-01-0...   \n",
       "2964  2497.500000                                       [2021-01-01]   \n",
       "2965  2498.000000  [2021-01-03, 2021-01-05, 2021-01-06, 2021-01-0...   \n",
       "2966  2499.000000  [2021-01-01, 2021-01-02, 2021-01-03, 2021-01-0...   \n",
       "\n",
       "                                                keyword  \\\n",
       "0     [dog dental chews, dog dental chews, dog denta...   \n",
       "1     [card puller for long nails, card puller for l...   \n",
       "2                           [cerave hydrating cleanser]   \n",
       "3                           [cerave hydrating cleanser]   \n",
       "4     [cerave hydrating cleanser, cerave hydrating c...   \n",
       "...                                                 ...   \n",
       "2962  [rockauto parts, rockauto parts, rockauto part...   \n",
       "2963  [dog mom gifts, dog mom gifts, dog mom gifts, ...   \n",
       "2964                             [bliss light skylight]   \n",
       "2965  [bliss light skylight, bliss light skylight, b...   \n",
       "2966  [mjolnir necklace, mjolnir necklace, mjolnir n...   \n",
       "\n",
       "                                                  ranks  \\\n",
       "0     [21.0, 37.0, 11.0, 14.0, 41.0, 29.0, 32.666666...   \n",
       "1     [166.0, 162.0, 153.0, 163.0, 157.0, 130.0, 123...   \n",
       "2                                                 [8.0]   \n",
       "3                                                 [8.0]   \n",
       "4     [9.0, 11.0, 14.0, 15.0, 16.5, 16.0, 15.0, 16.0...   \n",
       "...                                                 ...   \n",
       "2962  [107.0, 142.0, 120.0, 146.0, 146.0, 134.0, 98....   \n",
       "2963  [228.0, 237.0, 220.5, 204.0, 216.0, 230.0, 242...   \n",
       "2964                                             [92.0]   \n",
       "2965  [92.0, 105.0, 103.0, 106.0, 118.0, 122.0, 115....   \n",
       "2966  [78.0, 62.0, 70.0, 83.0, 90.0, 86.0, 66.0, 81....   \n",
       "\n",
       "                                                  price  \\\n",
       "0     [36.34, 36.34, 36.34, 36.34, 36.34, 36.34, 36....   \n",
       "1     [33.17, 33.17, 33.17, 33.17, 33.17, 33.17, 33....   \n",
       "2                                               [41.96]   \n",
       "3                                               [41.96]   \n",
       "4     [41.96, 41.96, 41.96, 41.96, 41.96, 41.96, 41....   \n",
       "...                                                 ...   \n",
       "2962  [29.0, 29.0, 29.0, 29.0, 29.0, 29.0, 29.0, 29....   \n",
       "2963  [37.32, 37.32, 37.32, 37.32, 37.32, 37.32, 37....   \n",
       "2964                                            [38.74]   \n",
       "2965  [38.74, 38.74, 38.74, 38.74, 38.74, 38.74, 38....   \n",
       "2966  [29.22, 29.22, 29.22, 29.22, 29.22, 29.22, 29....   \n",
       "\n",
       "                                                reviews  \\\n",
       "0     [168.0, 168.0, 168.0, 168.0, 168.0, 168.0, 168...   \n",
       "1     [8.0, 8.0, 8.0, 8.0, 8.0, 8.0, 8.0, 8.0, 8.0, ...   \n",
       "2                                               [109.0]   \n",
       "3                                               [109.0]   \n",
       "4     [109.0, 109.0, 109.0, 109.0, 109.0, 109.0, 109...   \n",
       "...                                                 ...   \n",
       "2962  [7.0, 7.0, 8.0, 9.0, 10.0, 10.0, 10.0, 11.0, 1...   \n",
       "2963  [3.0, 4.0, 4.0, 4.0, 4.0, 7.0, 8.0, 10.0, 10.0...   \n",
       "2964                                              [1.0]   \n",
       "2965  [1.0, 1.0, 1.0, 1.0, 1.0, 1.0, 1.0, 1.0, 1.0, ...   \n",
       "2966  [1.0, 2.0, 2.0, 2.0, 2.0, 3.5, 5.0, 5.0, 5.0, ...   \n",
       "\n",
       "                                                ratings  \\\n",
       "0     [4.3365687983270576, 4.336064623029114, 4.3225...   \n",
       "1     [3.871420020803702, 3.8510408024462497, 3.8782...   \n",
       "2                                   [3.803259144209361]   \n",
       "3                                   [3.819293735236567]   \n",
       "4     [3.8133538602554418, 3.75657288938368, 3.73962...   \n",
       "...                                                 ...   \n",
       "2962  [3.024144592601451, 3.061286247946338, 3.07007...   \n",
       "2963  [3.671771852882276, 3.7185466703173145, 3.7004...   \n",
       "2964                                [4.213308837436419]   \n",
       "2965  [4.1917515209353855, 4.186932373716156, 4.1909...   \n",
       "2966  [3.8539403783165227, 3.865990498121201, 3.8780...   \n",
       "\n",
       "                                               nb_image  \\\n",
       "0     [5.0, 5.0, 5.0, 5.0, 5.0, 5.0, 5.0, 5.0, 5.0, ...   \n",
       "1     [2.0, 2.0, 2.0, 2.0, 2.0, 2.0, 2.0, 2.0, 2.0, ...   \n",
       "2                                                 [3.0]   \n",
       "3                                                 [3.0]   \n",
       "4     [3.0, 3.0, 3.0, 3.0, 3.0, 3.0, 3.0, 3.0, 3.0, ...   \n",
       "...                                                 ...   \n",
       "2962  [1.0, 1.0, 1.0, 1.0, 1.0, 1.0, 1.0, 1.0, 1.0, ...   \n",
       "2963  [7.0, 7.0, 7.0, 7.0, 7.0, 7.0, 7.0, 7.0, 7.0, ...   \n",
       "2964                                              [4.0]   \n",
       "2965  [4.0, 4.0, 4.0, 4.0, 4.0, 4.0, 4.0, 4.0, 4.0, ...   \n",
       "2966  [7.0, 7.0, 7.0, 7.0, 7.0, 7.0, 7.0, 7.0, 7.0, ...   \n",
       "\n",
       "                                                 a_plus  \\\n",
       "0     [1.0, 1.0, 1.0, 1.0, 1.0, 1.0, 1.0, 1.0, 1.0, ...   \n",
       "1     [1.0, 1.0, 1.0, 1.0, 1.0, 1.0, 1.0, 1.0, 1.0, ...   \n",
       "2                                                 [1.0]   \n",
       "3                                                 [1.0]   \n",
       "4     [1.0, 1.0, 1.0, 1.0, 1.0, 1.0, 1.0, 1.0, 1.0, ...   \n",
       "...                                                 ...   \n",
       "2962  [1.0, 1.0, 1.0, 1.0, 1.0, 1.0, 1.0, 1.0, 1.0, ...   \n",
       "2963  [0.0, 0.0, 0.0, 0.0, 0.0, 0.0, 0.0, 0.0, 0.0, ...   \n",
       "2964                                              [1.0]   \n",
       "2965  [1.0, 1.0, 1.0, 1.0, 1.0, 1.0, 1.0, 1.0, 1.0, ...   \n",
       "2966  [1.0, 1.0, 1.0, 1.0, 1.0, 1.0, 1.0, 1.0, 1.0, ...   \n",
       "\n",
       "                                      description_score  \\\n",
       "0     [0.42919181432064935, 0.4218357545437461, 0.48...   \n",
       "1     [0.3085875246441679, 0.11236214443547306, 0.18...   \n",
       "2                                  [0.2741680816944125]   \n",
       "3                                  [0.2944726107941157]   \n",
       "4     [0.2823828525173465, 0.24110730881377346, 0.32...   \n",
       "...                                                 ...   \n",
       "2962  [0.11497116402152603, 0.29337954504474256, 0.0...   \n",
       "2963  [0.6848476817531384, 0.566594156306254, 0.5977...   \n",
       "2964                              [0.24084633245798406]   \n",
       "2965  [0.40570465016467855, 0.3246840241699687, 0.40...   \n",
       "2966  [0.622879318540812, 0.8484350478187246, 0.7301...   \n",
       "\n",
       "                                      nb_bullets_points  \\\n",
       "0     [2.0, 2.0, 2.0, 2.0, 2.0, 2.0, 2.0, 2.0, 2.0, ...   \n",
       "1     [1.3333333333333335, 1.0, 1.0, 1.0, 1.0, 1.0, ...   \n",
       "2                                                 [4.0]   \n",
       "3                                                 [4.0]   \n",
       "4     [4.0, 4.0, 4.0, 4.0, 4.0, 4.0, 4.0, 4.0, 4.0, ...   \n",
       "...                                                 ...   \n",
       "2962  [3.0, 3.0, 3.0, 3.0, 3.0, 3.0, 3.0, 3.0, 3.0, ...   \n",
       "2963  [3.0, 3.0, 3.0, 3.0, 3.0, 3.0, 3.0, 3.0, 3.0, ...   \n",
       "2964                                              [2.0]   \n",
       "2965  [2.0, 2.0, 2.0, 2.0, 2.0, 2.0, 2.0, 2.0, 2.0, ...   \n",
       "2966  [5.0, 5.0, 5.0, 5.0, 5.0, 5.0, 5.0, 5.0, 5.0, ...   \n",
       "\n",
       "                                            image_score  \\\n",
       "0     [0.5249228183596735, 0.5249228183596735, 0.524...   \n",
       "1     [0.9296402966917552, 0.9296402966917552, 0.929...   \n",
       "2                                  [0.3021371305761138]   \n",
       "3                                  [0.3021371305761138]   \n",
       "4     [0.3021371305761138, 0.3021371305761138, 0.302...   \n",
       "...                                                 ...   \n",
       "2962  [0.4239396470366419, 0.4239396470366419, 0.423...   \n",
       "2963  [0.24911539574963404, 0.24911539574963404, 0.2...   \n",
       "2964                               [0.4479949477636156]   \n",
       "2965  [0.4479949477636156, 0.4479949477636156, 0.447...   \n",
       "2966  [0.4518089864238588, 0.4518089864238588, 0.451...   \n",
       "\n",
       "                                                  sales  \n",
       "0     [35.0, 10.0, 16.0, 29.0, 11.0, 26.0, 21.0, 12....  \n",
       "1     [6.0, 6.0, 6.0, 6.0, 7.0, 6.0, 6.0, 7.0, 7.0, ...  \n",
       "2                                                [51.0]  \n",
       "3                                                [50.0]  \n",
       "4     [44.0, 49.0, 48.0, 45.0, 42.0, 30.0, 31.0, 30....  \n",
       "...                                                 ...  \n",
       "2962  [94.0, 94.0, 94.0, 94.0, 94.0, 94.0, 94.0, 94....  \n",
       "2963  [94.0, 94.0, 94.0, 94.0, 94.0, 94.0, 94.0, 94....  \n",
       "2964                                             [94.0]  \n",
       "2965  [94.0, 94.0, 94.0, 94.0, 94.0, 94.0, 94.0, 94....  \n",
       "2966  [94.0, 94.0, 94.0, 94.0, 94.0, 94.0, 94.0, 94....  \n",
       "\n",
       "[2967 rows x 13 columns]"
      ]
     },
     "execution_count": 39,
     "metadata": {},
     "output_type": "execute_result"
    }
   ],
   "source": [
    "df2"
   ]
  },
  {
   "cell_type": "code",
   "execution_count": 40,
   "metadata": {},
   "outputs": [
    {
     "data": {
      "text/html": [
       "<div>\n",
       "<style scoped>\n",
       "    .dataframe tbody tr th:only-of-type {\n",
       "        vertical-align: middle;\n",
       "    }\n",
       "\n",
       "    .dataframe tbody tr th {\n",
       "        vertical-align: top;\n",
       "    }\n",
       "\n",
       "    .dataframe thead th {\n",
       "        text-align: right;\n",
       "    }\n",
       "</style>\n",
       "<table border=\"1\" class=\"dataframe\">\n",
       "  <thead>\n",
       "    <tr style=\"text-align: right;\">\n",
       "      <th></th>\n",
       "      <th>product_id</th>\n",
       "      <th>dates</th>\n",
       "      <th>keyword</th>\n",
       "      <th>ranks</th>\n",
       "      <th>price</th>\n",
       "      <th>reviews</th>\n",
       "      <th>ratings</th>\n",
       "      <th>nb_image</th>\n",
       "      <th>a_plus</th>\n",
       "      <th>description_score</th>\n",
       "      <th>nb_bullets_points</th>\n",
       "      <th>image_score</th>\n",
       "      <th>sales</th>\n",
       "    </tr>\n",
       "  </thead>\n",
       "  <tbody>\n",
       "    <tr>\n",
       "      <th>0</th>\n",
       "      <td>0.0</td>\n",
       "      <td>[2021-01-02, 2021-01-03, 2021-01-04, 2021-01-0...</td>\n",
       "      <td>[dog dental chews, dog dental chews, dog denta...</td>\n",
       "      <td>[21.0, 37.0, 11.0, 14.0, 41.0, 29.0, 32.666666...</td>\n",
       "      <td>[36.34, 36.34, 36.34, 36.34, 36.34, 36.34, 36....</td>\n",
       "      <td>[168.0, 168.0, 168.0, 168.0, 168.0, 168.0, 168...</td>\n",
       "      <td>[4.3365687983270576, 4.336064623029114, 4.3225...</td>\n",
       "      <td>[5.0, 5.0, 5.0, 5.0, 5.0, 5.0, 5.0, 5.0, 5.0, ...</td>\n",
       "      <td>[1.0, 1.0, 1.0, 1.0, 1.0, 1.0, 1.0, 1.0, 1.0, ...</td>\n",
       "      <td>[0.42919181432064935, 0.4218357545437461, 0.48...</td>\n",
       "      <td>[2.0, 2.0, 2.0, 2.0, 2.0, 2.0, 2.0, 2.0, 2.0, ...</td>\n",
       "      <td>[0.5249228183596735, 0.5249228183596735, 0.524...</td>\n",
       "      <td>[35.0, 10.0, 16.0, 29.0, 11.0, 26.0, 21.0, 12....</td>\n",
       "    </tr>\n",
       "  </tbody>\n",
       "</table>\n",
       "</div>"
      ],
      "text/plain": [
       "   product_id                                              dates  \\\n",
       "0         0.0  [2021-01-02, 2021-01-03, 2021-01-04, 2021-01-0...   \n",
       "\n",
       "                                             keyword  \\\n",
       "0  [dog dental chews, dog dental chews, dog denta...   \n",
       "\n",
       "                                               ranks  \\\n",
       "0  [21.0, 37.0, 11.0, 14.0, 41.0, 29.0, 32.666666...   \n",
       "\n",
       "                                               price  \\\n",
       "0  [36.34, 36.34, 36.34, 36.34, 36.34, 36.34, 36....   \n",
       "\n",
       "                                             reviews  \\\n",
       "0  [168.0, 168.0, 168.0, 168.0, 168.0, 168.0, 168...   \n",
       "\n",
       "                                             ratings  \\\n",
       "0  [4.3365687983270576, 4.336064623029114, 4.3225...   \n",
       "\n",
       "                                            nb_image  \\\n",
       "0  [5.0, 5.0, 5.0, 5.0, 5.0, 5.0, 5.0, 5.0, 5.0, ...   \n",
       "\n",
       "                                              a_plus  \\\n",
       "0  [1.0, 1.0, 1.0, 1.0, 1.0, 1.0, 1.0, 1.0, 1.0, ...   \n",
       "\n",
       "                                   description_score  \\\n",
       "0  [0.42919181432064935, 0.4218357545437461, 0.48...   \n",
       "\n",
       "                                   nb_bullets_points  \\\n",
       "0  [2.0, 2.0, 2.0, 2.0, 2.0, 2.0, 2.0, 2.0, 2.0, ...   \n",
       "\n",
       "                                         image_score  \\\n",
       "0  [0.5249228183596735, 0.5249228183596735, 0.524...   \n",
       "\n",
       "                                               sales  \n",
       "0  [35.0, 10.0, 16.0, 29.0, 11.0, 26.0, 21.0, 12....  "
      ]
     },
     "execution_count": 40,
     "metadata": {},
     "output_type": "execute_result"
    }
   ],
   "source": [
    "df2.head(1)"
   ]
  },
  {
   "cell_type": "code",
   "execution_count": 41,
   "metadata": {},
   "outputs": [
    {
     "name": "stdout",
     "output_type": "stream",
     "text": [
      "Pretty printing has been turned OFF\n"
     ]
    },
    {
     "data": {
      "text/plain": [
       "product_id                                                           0\n",
       "dates                [2021-01-02, 2021-01-03, 2021-01-04, 2021-01-0...\n",
       "keyword              [dog dental chews, dog dental chews, dog denta...\n",
       "ranks                [21.0, 37.0, 11.0, 14.0, 41.0, 29.0, 32.666666...\n",
       "price                [36.34, 36.34, 36.34, 36.34, 36.34, 36.34, 36....\n",
       "reviews              [168.0, 168.0, 168.0, 168.0, 168.0, 168.0, 168...\n",
       "ratings              [4.3365687983270576, 4.336064623029114, 4.3225...\n",
       "nb_image             [5.0, 5.0, 5.0, 5.0, 5.0, 5.0, 5.0, 5.0, 5.0, ...\n",
       "a_plus               [1.0, 1.0, 1.0, 1.0, 1.0, 1.0, 1.0, 1.0, 1.0, ...\n",
       "description_score    [0.42919181432064935, 0.4218357545437461, 0.48...\n",
       "nb_bullets_points    [2.0, 2.0, 2.0, 2.0, 2.0, 2.0, 2.0, 2.0, 2.0, ...\n",
       "image_score          [0.5249228183596735, 0.5249228183596735, 0.524...\n",
       "sales                [35.0, 10.0, 16.0, 29.0, 11.0, 26.0, 21.0, 12....\n",
       "Name: 0, dtype: object"
      ]
     },
     "execution_count": 41,
     "metadata": {},
     "output_type": "execute_result"
    }
   ],
   "source": [
    "%pprint\n",
    "(df2.iloc[0])"
   ]
  },
  {
   "cell_type": "code",
   "execution_count": 42,
   "metadata": {},
   "outputs": [
    {
     "data": {
      "text/plain": [
       "378"
      ]
     },
     "execution_count": 42,
     "metadata": {},
     "output_type": "execute_result"
    }
   ],
   "source": [
    "len(df2.iloc[0].price)"
   ]
  },
  {
   "cell_type": "markdown",
   "metadata": {},
   "source": [
    "I have 378 products in my datadase"
   ]
  },
  {
   "cell_type": "markdown",
   "metadata": {},
   "source": [
    "# Linear regression "
   ]
  },
  {
   "cell_type": "code",
   "execution_count": 43,
   "metadata": {},
   "outputs": [
    {
     "data": {
      "text/plain": [
       "<AxesSubplot:xlabel='dates', ylabel='price'>"
      ]
     },
     "execution_count": 43,
     "metadata": {},
     "output_type": "execute_result"
    },
    {
     "data": {
      "image/png": "[encoded data removed]",
      "text/plain": [
       "<Figure size 432x288 with 1 Axes>"
      ]
     },
     "metadata": {
      "needs_background": "light"
     },
     "output_type": "display_data"
    }
   ],
   "source": [
    "sns.scatterplot(data = df2.iloc[0], x = 'dates', y = 'price')"
   ]
  },
  {
   "cell_type": "markdown",
   "metadata": {},
   "source": [
    "# Number of sales in time"
   ]
  },
  {
   "cell_type": "code",
   "execution_count": 44,
   "metadata": {},
   "outputs": [
    {
     "data": {
      "text/plain": [
       "<AxesSubplot:xlabel='dates', ylabel='sales'>"
      ]
     },
     "execution_count": 44,
     "metadata": {},
     "output_type": "execute_result"
    },
    {
     "data": {
      "image/png": "[encoded data removed]",
      "text/plain": [
       "<Figure size 432x288 with 1 Axes>"
      ]
     },
     "metadata": {
      "needs_background": "light"
     },
     "output_type": "display_data"
    }
   ],
   "source": [
    "sns.scatterplot(data = df2.iloc[0], x = 'dates', y = 'sales')"
   ]
  },
  {
   "cell_type": "markdown",
   "metadata": {},
   "source": [
    "# Checkin seasonality (peridodicity)"
   ]
  },
  {
   "cell_type": "code",
   "execution_count": 45,
   "metadata": {},
   "outputs": [],
   "source": [
    "data_columns = ['sales']\n",
    "data_monthly_max = df_fixed[data_columns].resample('W').max() # W stands for weekly data_monthly_max"
   ]
  },
  {
   "cell_type": "markdown",
   "metadata": {},
   "source": [
    "# Rolling window"
   ]
  },
  {
   "cell_type": "code",
   "execution_count": 46,
   "metadata": {},
   "outputs": [
    {
     "data": {
      "text/html": [
       "<div>\n",
       "<style scoped>\n",
       "    .dataframe tbody tr th:only-of-type {\n",
       "        vertical-align: middle;\n",
       "    }\n",
       "\n",
       "    .dataframe tbody tr th {\n",
       "        vertical-align: top;\n",
       "    }\n",
       "\n",
       "    .dataframe thead th {\n",
       "        text-align: right;\n",
       "    }\n",
       "</style>\n",
       "<table border=\"1\" class=\"dataframe\">\n",
       "  <thead>\n",
       "    <tr style=\"text-align: right;\">\n",
       "      <th></th>\n",
       "      <th>sales</th>\n",
       "    </tr>\n",
       "    <tr>\n",
       "      <th>dates</th>\n",
       "      <th></th>\n",
       "    </tr>\n",
       "  </thead>\n",
       "  <tbody>\n",
       "    <tr>\n",
       "      <th>2021-01-02</th>\n",
       "      <td>NaN</td>\n",
       "    </tr>\n",
       "    <tr>\n",
       "      <th>2021-01-03</th>\n",
       "      <td>NaN</td>\n",
       "    </tr>\n",
       "    <tr>\n",
       "      <th>2021-01-04</th>\n",
       "      <td>NaN</td>\n",
       "    </tr>\n",
       "    <tr>\n",
       "      <th>2021-01-05</th>\n",
       "      <td>21.142857</td>\n",
       "    </tr>\n",
       "    <tr>\n",
       "      <th>2021-01-06</th>\n",
       "      <td>17.857143</td>\n",
       "    </tr>\n",
       "    <tr>\n",
       "      <th>...</th>\n",
       "      <td>...</td>\n",
       "    </tr>\n",
       "    <tr>\n",
       "      <th>2021-02-24</th>\n",
       "      <td>94.000000</td>\n",
       "    </tr>\n",
       "    <tr>\n",
       "      <th>2021-02-25</th>\n",
       "      <td>94.000000</td>\n",
       "    </tr>\n",
       "    <tr>\n",
       "      <th>2021-02-26</th>\n",
       "      <td>NaN</td>\n",
       "    </tr>\n",
       "    <tr>\n",
       "      <th>2021-02-27</th>\n",
       "      <td>NaN</td>\n",
       "    </tr>\n",
       "    <tr>\n",
       "      <th>2021-02-28</th>\n",
       "      <td>NaN</td>\n",
       "    </tr>\n",
       "  </tbody>\n",
       "</table>\n",
       "<p>836239 rows × 1 columns</p>\n",
       "</div>"
      ],
      "text/plain": [
       "                sales\n",
       "dates                \n",
       "2021-01-02        NaN\n",
       "2021-01-03        NaN\n",
       "2021-01-04        NaN\n",
       "2021-01-05  21.142857\n",
       "2021-01-06  17.857143\n",
       "...               ...\n",
       "2021-02-24  94.000000\n",
       "2021-02-25  94.000000\n",
       "2021-02-26        NaN\n",
       "2021-02-27        NaN\n",
       "2021-02-28        NaN\n",
       "\n",
       "[836239 rows x 1 columns]"
      ]
     },
     "execution_count": 46,
     "metadata": {},
     "output_type": "execute_result"
    }
   ],
   "source": [
    "data_7d_rol = df_fixed[data_columns].rolling(window = 7, center = True).mean()\n",
    "data_7d_rol"
   ]
  },
  {
   "cell_type": "markdown",
   "metadata": {},
   "source": [
    "# Visualising data"
   ]
  },
  {
   "cell_type": "code",
   "execution_count": 47,
   "metadata": {},
   "outputs": [
    {
     "data": {
      "text/plain": [
       "Text(0.5, 1.0, 'Trends in Sales')"
      ]
     },
     "execution_count": 47,
     "metadata": {},
     "output_type": "execute_result"
    },
    {
     "data": {
      "image/png": "[encoded data removed]",
      "text/plain": [
       "<Figure size 880x1200 with 1 Axes>"
      ]
     },
     "metadata": {
      "needs_background": "light"
     },
     "output_type": "display_data"
    }
   ],
   "source": [
    "fig, ax = plt.subplots(figsize = (11,15),dpi=80)\n",
    "\n",
    "# plotting daily data\n",
    "ax.plot(df_fixed.resample('d').size(), marker='.', markersize=2, color='0.6',linestyle='None', label='Daily')\n",
    "# plotting 7-day rolling data\n",
    "ax.plot(data_7d_rol['sales'], linewidth=2, label='7-d Rolling Mean')\n",
    "\n",
    "# Niciification of plot\n",
    "#ax.xaxis.set_major_locator(mdates.YearLocator())\n",
    "ax.legend()\n",
    "ax.set_xlabel('Month')\n",
    "ax.set_ylabel('Sales ')\n",
    "ax.set_title('Trends in Sales')"
   ]
  },
  {
   "cell_type": "markdown",
   "metadata": {},
   "source": [
    " to remove trend from time series"
   ]
  },
  {
   "cell_type": "code",
   "execution_count": 48,
   "metadata": {},
   "outputs": [],
   "source": [
    "df_fixed.resample('d').size()\n",
    "# creating the first order differencing data\n",
    "data_first_order_diff = df_fixed[data_columns].diff()"
   ]
  },
  {
   "cell_type": "code",
   "execution_count": 49,
   "metadata": {},
   "outputs": [
    {
     "data": {
      "image/png": "[encoded data removed]",
      "text/plain": [
       "<Figure size 792x288 with 1 Axes>"
      ]
     },
     "metadata": {
      "needs_background": "light"
     },
     "output_type": "display_data"
    }
   ],
   "source": [
    "start, end = '2021-01-01', '2021-01-08'\n",
    "\n",
    "fig, ax = plt.subplots(figsize=(11, 4))\n",
    "\n",
    "ax.plot(data_first_order_diff.loc[start:end, 'sales'],\n",
    "marker='o', markersize=4, linestyle='-', label='First Order Differencing')\n",
    "ax.set_ylabel('Sales volume')\n",
    "ax.legend();"
   ]
  },
  {
   "cell_type": "markdown",
   "metadata": {},
   "source": [
    "# Autocorrelation"
   ]
  },
  {
   "cell_type": "raw",
   "metadata": {},
   "source": [
    "# Autocorrelation is a technique for analyzing seasonality. It plots the correlation of the time series with itself at a different time lag"
   ]
  },
  {
   "cell_type": "code",
   "execution_count": 50,
   "metadata": {},
   "outputs": [
    {
     "ename": "KeyboardInterrupt",
     "evalue": "",
     "output_type": "error",
     "traceback": [
      "\u001b[1;31m---------------------------------------------------------------------------\u001b[0m",
      "\u001b[1;31mKeyboardInterrupt\u001b[0m                         Traceback (most recent call last)",
      "\u001b[1;32m<ipython-input-50-35db5f86a140>\u001b[0m in \u001b[0;36m<module>\u001b[1;34m\u001b[0m\n\u001b[0;32m      1\u001b[0m \u001b[0mplt\u001b[0m\u001b[1;33m.\u001b[0m\u001b[0mfigure\u001b[0m\u001b[1;33m(\u001b[0m\u001b[0mfigsize\u001b[0m\u001b[1;33m=\u001b[0m\u001b[1;33m(\u001b[0m\u001b[1;36m11\u001b[0m\u001b[1;33m,\u001b[0m\u001b[1;36m4\u001b[0m\u001b[1;33m)\u001b[0m\u001b[1;33m,\u001b[0m \u001b[0mdpi\u001b[0m\u001b[1;33m=\u001b[0m \u001b[1;36m80\u001b[0m\u001b[1;33m)\u001b[0m\u001b[1;33m\u001b[0m\u001b[1;33m\u001b[0m\u001b[0m\n\u001b[1;32m----> 2\u001b[1;33m \u001b[0mpd\u001b[0m\u001b[1;33m.\u001b[0m\u001b[0mplotting\u001b[0m\u001b[1;33m.\u001b[0m\u001b[0mautocorrelation_plot\u001b[0m\u001b[1;33m(\u001b[0m\u001b[0mdf_fixed\u001b[0m\u001b[1;33m.\u001b[0m\u001b[0mloc\u001b[0m\u001b[1;33m[\u001b[0m\u001b[1;34m'2021-01-04'\u001b[0m\u001b[1;33m:\u001b[0m \u001b[1;34m'2021-01-16'\u001b[0m\u001b[1;33m,\u001b[0m \u001b[1;34m'sales'\u001b[0m\u001b[1;33m]\u001b[0m\u001b[1;33m)\u001b[0m\u001b[1;33m\u001b[0m\u001b[1;33m\u001b[0m\u001b[0m\n\u001b[0m",
      "\u001b[1;32mC:\\ProgramData\\Anaconda3\\lib\\site-packages\\pandas\\plotting\\_misc.py\u001b[0m in \u001b[0;36mautocorrelation_plot\u001b[1;34m(series, ax, **kwargs)\u001b[0m\n\u001b[0;32m    483\u001b[0m     \"\"\"\n\u001b[0;32m    484\u001b[0m     \u001b[0mplot_backend\u001b[0m \u001b[1;33m=\u001b[0m \u001b[0m_get_plot_backend\u001b[0m\u001b[1;33m(\u001b[0m\u001b[1;34m\"matplotlib\"\u001b[0m\u001b[1;33m)\u001b[0m\u001b[1;33m\u001b[0m\u001b[1;33m\u001b[0m\u001b[0m\n\u001b[1;32m--> 485\u001b[1;33m     \u001b[1;32mreturn\u001b[0m \u001b[0mplot_backend\u001b[0m\u001b[1;33m.\u001b[0m\u001b[0mautocorrelation_plot\u001b[0m\u001b[1;33m(\u001b[0m\u001b[0mseries\u001b[0m\u001b[1;33m=\u001b[0m\u001b[0mseries\u001b[0m\u001b[1;33m,\u001b[0m \u001b[0max\u001b[0m\u001b[1;33m=\u001b[0m\u001b[0max\u001b[0m\u001b[1;33m,\u001b[0m \u001b[1;33m**\u001b[0m\u001b[0mkwargs\u001b[0m\u001b[1;33m)\u001b[0m\u001b[1;33m\u001b[0m\u001b[1;33m\u001b[0m\u001b[0m\n\u001b[0m\u001b[0;32m    486\u001b[0m \u001b[1;33m\u001b[0m\u001b[0m\n\u001b[0;32m    487\u001b[0m \u001b[1;33m\u001b[0m\u001b[0m\n",
      "\u001b[1;32mC:\\ProgramData\\Anaconda3\\lib\\site-packages\\pandas\\plotting\\_matplotlib\\misc.py\u001b[0m in \u001b[0;36mautocorrelation_plot\u001b[1;34m(series, ax, **kwds)\u001b[0m\n\u001b[0;32m    417\u001b[0m \u001b[1;33m\u001b[0m\u001b[0m\n\u001b[0;32m    418\u001b[0m     \u001b[0mx\u001b[0m \u001b[1;33m=\u001b[0m \u001b[0mnp\u001b[0m\u001b[1;33m.\u001b[0m\u001b[0marange\u001b[0m\u001b[1;33m(\u001b[0m\u001b[0mn\u001b[0m\u001b[1;33m)\u001b[0m \u001b[1;33m+\u001b[0m \u001b[1;36m1\u001b[0m\u001b[1;33m\u001b[0m\u001b[1;33m\u001b[0m\u001b[0m\n\u001b[1;32m--> 419\u001b[1;33m     \u001b[0my\u001b[0m \u001b[1;33m=\u001b[0m \u001b[1;33m[\u001b[0m\u001b[0mr\u001b[0m\u001b[1;33m(\u001b[0m\u001b[0mloc\u001b[0m\u001b[1;33m)\u001b[0m \u001b[1;32mfor\u001b[0m \u001b[0mloc\u001b[0m \u001b[1;32min\u001b[0m \u001b[0mx\u001b[0m\u001b[1;33m]\u001b[0m\u001b[1;33m\u001b[0m\u001b[1;33m\u001b[0m\u001b[0m\n\u001b[0m\u001b[0;32m    420\u001b[0m     \u001b[0mz95\u001b[0m \u001b[1;33m=\u001b[0m \u001b[1;36m1.959963984540054\u001b[0m\u001b[1;33m\u001b[0m\u001b[1;33m\u001b[0m\u001b[0m\n\u001b[0;32m    421\u001b[0m     \u001b[0mz99\u001b[0m \u001b[1;33m=\u001b[0m \u001b[1;36m2.5758293035489004\u001b[0m\u001b[1;33m\u001b[0m\u001b[1;33m\u001b[0m\u001b[0m\n",
      "\u001b[1;32mC:\\ProgramData\\Anaconda3\\lib\\site-packages\\pandas\\plotting\\_matplotlib\\misc.py\u001b[0m in \u001b[0;36m<listcomp>\u001b[1;34m(.0)\u001b[0m\n\u001b[0;32m    417\u001b[0m \u001b[1;33m\u001b[0m\u001b[0m\n\u001b[0;32m    418\u001b[0m     \u001b[0mx\u001b[0m \u001b[1;33m=\u001b[0m \u001b[0mnp\u001b[0m\u001b[1;33m.\u001b[0m\u001b[0marange\u001b[0m\u001b[1;33m(\u001b[0m\u001b[0mn\u001b[0m\u001b[1;33m)\u001b[0m \u001b[1;33m+\u001b[0m \u001b[1;36m1\u001b[0m\u001b[1;33m\u001b[0m\u001b[1;33m\u001b[0m\u001b[0m\n\u001b[1;32m--> 419\u001b[1;33m     \u001b[0my\u001b[0m \u001b[1;33m=\u001b[0m \u001b[1;33m[\u001b[0m\u001b[0mr\u001b[0m\u001b[1;33m(\u001b[0m\u001b[0mloc\u001b[0m\u001b[1;33m)\u001b[0m \u001b[1;32mfor\u001b[0m \u001b[0mloc\u001b[0m \u001b[1;32min\u001b[0m \u001b[0mx\u001b[0m\u001b[1;33m]\u001b[0m\u001b[1;33m\u001b[0m\u001b[1;33m\u001b[0m\u001b[0m\n\u001b[0m\u001b[0;32m    420\u001b[0m     \u001b[0mz95\u001b[0m \u001b[1;33m=\u001b[0m \u001b[1;36m1.959963984540054\u001b[0m\u001b[1;33m\u001b[0m\u001b[1;33m\u001b[0m\u001b[0m\n\u001b[0;32m    421\u001b[0m     \u001b[0mz99\u001b[0m \u001b[1;33m=\u001b[0m \u001b[1;36m2.5758293035489004\u001b[0m\u001b[1;33m\u001b[0m\u001b[1;33m\u001b[0m\u001b[0m\n",
      "\u001b[1;32mC:\\ProgramData\\Anaconda3\\lib\\site-packages\\pandas\\plotting\\_matplotlib\\misc.py\u001b[0m in \u001b[0;36mr\u001b[1;34m(h)\u001b[0m\n\u001b[0;32m    414\u001b[0m \u001b[1;33m\u001b[0m\u001b[0m\n\u001b[0;32m    415\u001b[0m     \u001b[1;32mdef\u001b[0m \u001b[0mr\u001b[0m\u001b[1;33m(\u001b[0m\u001b[0mh\u001b[0m\u001b[1;33m)\u001b[0m\u001b[1;33m:\u001b[0m\u001b[1;33m\u001b[0m\u001b[1;33m\u001b[0m\u001b[0m\n\u001b[1;32m--> 416\u001b[1;33m         \u001b[1;32mreturn\u001b[0m \u001b[1;33m(\u001b[0m\u001b[1;33m(\u001b[0m\u001b[0mdata\u001b[0m\u001b[1;33m[\u001b[0m\u001b[1;33m:\u001b[0m \u001b[0mn\u001b[0m \u001b[1;33m-\u001b[0m \u001b[0mh\u001b[0m\u001b[1;33m]\u001b[0m \u001b[1;33m-\u001b[0m \u001b[0mmean\u001b[0m\u001b[1;33m)\u001b[0m \u001b[1;33m*\u001b[0m \u001b[1;33m(\u001b[0m\u001b[0mdata\u001b[0m\u001b[1;33m[\u001b[0m\u001b[0mh\u001b[0m\u001b[1;33m:\u001b[0m\u001b[1;33m]\u001b[0m \u001b[1;33m-\u001b[0m \u001b[0mmean\u001b[0m\u001b[1;33m)\u001b[0m\u001b[1;33m)\u001b[0m\u001b[1;33m.\u001b[0m\u001b[0msum\u001b[0m\u001b[1;33m(\u001b[0m\u001b[1;33m)\u001b[0m \u001b[1;33m/\u001b[0m \u001b[0mfloat\u001b[0m\u001b[1;33m(\u001b[0m\u001b[0mn\u001b[0m\u001b[1;33m)\u001b[0m \u001b[1;33m/\u001b[0m \u001b[0mc0\u001b[0m\u001b[1;33m\u001b[0m\u001b[1;33m\u001b[0m\u001b[0m\n\u001b[0m\u001b[0;32m    417\u001b[0m \u001b[1;33m\u001b[0m\u001b[0m\n\u001b[0;32m    418\u001b[0m     \u001b[0mx\u001b[0m \u001b[1;33m=\u001b[0m \u001b[0mnp\u001b[0m\u001b[1;33m.\u001b[0m\u001b[0marange\u001b[0m\u001b[1;33m(\u001b[0m\u001b[0mn\u001b[0m\u001b[1;33m)\u001b[0m \u001b[1;33m+\u001b[0m \u001b[1;36m1\u001b[0m\u001b[1;33m\u001b[0m\u001b[1;33m\u001b[0m\u001b[0m\n",
      "\u001b[1;32mC:\\ProgramData\\Anaconda3\\lib\\site-packages\\numpy\\core\\_methods.py\u001b[0m in \u001b[0;36m_sum\u001b[1;34m(a, axis, dtype, out, keepdims, initial, where)\u001b[0m\n\u001b[0;32m     45\u001b[0m def _sum(a, axis=None, dtype=None, out=None, keepdims=False,\n\u001b[0;32m     46\u001b[0m          initial=_NoValue, where=True):\n\u001b[1;32m---> 47\u001b[1;33m     \u001b[1;32mreturn\u001b[0m \u001b[0mumr_sum\u001b[0m\u001b[1;33m(\u001b[0m\u001b[0ma\u001b[0m\u001b[1;33m,\u001b[0m \u001b[0maxis\u001b[0m\u001b[1;33m,\u001b[0m \u001b[0mdtype\u001b[0m\u001b[1;33m,\u001b[0m \u001b[0mout\u001b[0m\u001b[1;33m,\u001b[0m \u001b[0mkeepdims\u001b[0m\u001b[1;33m,\u001b[0m \u001b[0minitial\u001b[0m\u001b[1;33m,\u001b[0m \u001b[0mwhere\u001b[0m\u001b[1;33m)\u001b[0m\u001b[1;33m\u001b[0m\u001b[1;33m\u001b[0m\u001b[0m\n\u001b[0m\u001b[0;32m     48\u001b[0m \u001b[1;33m\u001b[0m\u001b[0m\n\u001b[0;32m     49\u001b[0m def _prod(a, axis=None, dtype=None, out=None, keepdims=False,\n",
      "\u001b[1;31mKeyboardInterrupt\u001b[0m: "
     ]
    },
    {
     "data": {
      "image/png": "[encoded data removed]",
      "text/plain": [
       "<Figure size 880x320 with 1 Axes>"
      ]
     },
     "metadata": {
      "needs_background": "light"
     },
     "output_type": "display_data"
    }
   ],
   "source": [
    "# plt.figure(figsize=(11,4), dpi= 80)\n",
    "# pd.plotting.autocorrelation_plot(df_fixed.loc['2021-01-04': '2021-01-16', 'sales'])"
   ]
  },
  {
   "cell_type": "code",
   "execution_count": null,
   "metadata": {},
   "outputs": [],
   "source": [
    "# plt.figure(figsize=(11,4), dpi= 80)\n",
    "# pd.plotting.autocorrelation_plot(df_fixed.loc['2021-01-04': '2021-02-04', 'sales'])"
   ]
  },
  {
   "cell_type": "code",
   "execution_count": 51,
   "metadata": {},
   "outputs": [],
   "source": [
    "from fbprophet import Prophet"
   ]
  },
  {
   "cell_type": "code",
   "execution_count": 52,
   "metadata": {},
   "outputs": [],
   "source": [
    "dataHawk_prophet = df_fixed.resample('d').size().reset_index()"
   ]
  },
  {
   "cell_type": "code",
   "execution_count": 53,
   "metadata": {},
   "outputs": [
    {
     "data": {
      "text/html": [
       "<div>\n",
       "<style scoped>\n",
       "    .dataframe tbody tr th:only-of-type {\n",
       "        vertical-align: middle;\n",
       "    }\n",
       "\n",
       "    .dataframe tbody tr th {\n",
       "        vertical-align: top;\n",
       "    }\n",
       "\n",
       "    .dataframe thead th {\n",
       "        text-align: right;\n",
       "    }\n",
       "</style>\n",
       "<table border=\"1\" class=\"dataframe\">\n",
       "  <thead>\n",
       "    <tr style=\"text-align: right;\">\n",
       "      <th></th>\n",
       "      <th>dates</th>\n",
       "      <th>0</th>\n",
       "    </tr>\n",
       "  </thead>\n",
       "  <tbody>\n",
       "    <tr>\n",
       "      <th>0</th>\n",
       "      <td>2021-01-01</td>\n",
       "      <td>14134</td>\n",
       "    </tr>\n",
       "    <tr>\n",
       "      <th>1</th>\n",
       "      <td>2021-01-02</td>\n",
       "      <td>14179</td>\n",
       "    </tr>\n",
       "    <tr>\n",
       "      <th>2</th>\n",
       "      <td>2021-01-03</td>\n",
       "      <td>14139</td>\n",
       "    </tr>\n",
       "    <tr>\n",
       "      <th>3</th>\n",
       "      <td>2021-01-04</td>\n",
       "      <td>14335</td>\n",
       "    </tr>\n",
       "    <tr>\n",
       "      <th>4</th>\n",
       "      <td>2021-01-05</td>\n",
       "      <td>14139</td>\n",
       "    </tr>\n",
       "    <tr>\n",
       "      <th>5</th>\n",
       "      <td>2021-01-06</td>\n",
       "      <td>14148</td>\n",
       "    </tr>\n",
       "    <tr>\n",
       "      <th>6</th>\n",
       "      <td>2021-01-07</td>\n",
       "      <td>14137</td>\n",
       "    </tr>\n",
       "    <tr>\n",
       "      <th>7</th>\n",
       "      <td>2021-01-08</td>\n",
       "      <td>14086</td>\n",
       "    </tr>\n",
       "    <tr>\n",
       "      <th>8</th>\n",
       "      <td>2021-01-09</td>\n",
       "      <td>14209</td>\n",
       "    </tr>\n",
       "    <tr>\n",
       "      <th>9</th>\n",
       "      <td>2021-01-10</td>\n",
       "      <td>14209</td>\n",
       "    </tr>\n",
       "    <tr>\n",
       "      <th>10</th>\n",
       "      <td>2021-01-11</td>\n",
       "      <td>14239</td>\n",
       "    </tr>\n",
       "    <tr>\n",
       "      <th>11</th>\n",
       "      <td>2021-01-12</td>\n",
       "      <td>14135</td>\n",
       "    </tr>\n",
       "    <tr>\n",
       "      <th>12</th>\n",
       "      <td>2021-01-13</td>\n",
       "      <td>14160</td>\n",
       "    </tr>\n",
       "    <tr>\n",
       "      <th>13</th>\n",
       "      <td>2021-01-14</td>\n",
       "      <td>14298</td>\n",
       "    </tr>\n",
       "    <tr>\n",
       "      <th>14</th>\n",
       "      <td>2021-01-15</td>\n",
       "      <td>14151</td>\n",
       "    </tr>\n",
       "    <tr>\n",
       "      <th>15</th>\n",
       "      <td>2021-01-16</td>\n",
       "      <td>14095</td>\n",
       "    </tr>\n",
       "    <tr>\n",
       "      <th>16</th>\n",
       "      <td>2021-01-17</td>\n",
       "      <td>14271</td>\n",
       "    </tr>\n",
       "    <tr>\n",
       "      <th>17</th>\n",
       "      <td>2021-01-18</td>\n",
       "      <td>14103</td>\n",
       "    </tr>\n",
       "    <tr>\n",
       "      <th>18</th>\n",
       "      <td>2021-01-19</td>\n",
       "      <td>14186</td>\n",
       "    </tr>\n",
       "    <tr>\n",
       "      <th>19</th>\n",
       "      <td>2021-01-20</td>\n",
       "      <td>14215</td>\n",
       "    </tr>\n",
       "    <tr>\n",
       "      <th>20</th>\n",
       "      <td>2021-01-21</td>\n",
       "      <td>14113</td>\n",
       "    </tr>\n",
       "    <tr>\n",
       "      <th>21</th>\n",
       "      <td>2021-01-22</td>\n",
       "      <td>14232</td>\n",
       "    </tr>\n",
       "    <tr>\n",
       "      <th>22</th>\n",
       "      <td>2021-01-23</td>\n",
       "      <td>14214</td>\n",
       "    </tr>\n",
       "    <tr>\n",
       "      <th>23</th>\n",
       "      <td>2021-01-24</td>\n",
       "      <td>14156</td>\n",
       "    </tr>\n",
       "    <tr>\n",
       "      <th>24</th>\n",
       "      <td>2021-01-25</td>\n",
       "      <td>14251</td>\n",
       "    </tr>\n",
       "    <tr>\n",
       "      <th>25</th>\n",
       "      <td>2021-01-26</td>\n",
       "      <td>14123</td>\n",
       "    </tr>\n",
       "    <tr>\n",
       "      <th>26</th>\n",
       "      <td>2021-01-27</td>\n",
       "      <td>14217</td>\n",
       "    </tr>\n",
       "    <tr>\n",
       "      <th>27</th>\n",
       "      <td>2021-01-28</td>\n",
       "      <td>14097</td>\n",
       "    </tr>\n",
       "    <tr>\n",
       "      <th>28</th>\n",
       "      <td>2021-01-29</td>\n",
       "      <td>14135</td>\n",
       "    </tr>\n",
       "    <tr>\n",
       "      <th>29</th>\n",
       "      <td>2021-01-30</td>\n",
       "      <td>14115</td>\n",
       "    </tr>\n",
       "    <tr>\n",
       "      <th>30</th>\n",
       "      <td>2021-01-31</td>\n",
       "      <td>14183</td>\n",
       "    </tr>\n",
       "    <tr>\n",
       "      <th>31</th>\n",
       "      <td>2021-02-01</td>\n",
       "      <td>14079</td>\n",
       "    </tr>\n",
       "    <tr>\n",
       "      <th>32</th>\n",
       "      <td>2021-02-02</td>\n",
       "      <td>14123</td>\n",
       "    </tr>\n",
       "    <tr>\n",
       "      <th>33</th>\n",
       "      <td>2021-02-03</td>\n",
       "      <td>14073</td>\n",
       "    </tr>\n",
       "    <tr>\n",
       "      <th>34</th>\n",
       "      <td>2021-02-04</td>\n",
       "      <td>14166</td>\n",
       "    </tr>\n",
       "    <tr>\n",
       "      <th>35</th>\n",
       "      <td>2021-02-05</td>\n",
       "      <td>14242</td>\n",
       "    </tr>\n",
       "    <tr>\n",
       "      <th>36</th>\n",
       "      <td>2021-02-06</td>\n",
       "      <td>14191</td>\n",
       "    </tr>\n",
       "    <tr>\n",
       "      <th>37</th>\n",
       "      <td>2021-02-07</td>\n",
       "      <td>14145</td>\n",
       "    </tr>\n",
       "    <tr>\n",
       "      <th>38</th>\n",
       "      <td>2021-02-08</td>\n",
       "      <td>14183</td>\n",
       "    </tr>\n",
       "    <tr>\n",
       "      <th>39</th>\n",
       "      <td>2021-02-09</td>\n",
       "      <td>14196</td>\n",
       "    </tr>\n",
       "    <tr>\n",
       "      <th>40</th>\n",
       "      <td>2021-02-10</td>\n",
       "      <td>14156</td>\n",
       "    </tr>\n",
       "    <tr>\n",
       "      <th>41</th>\n",
       "      <td>2021-02-11</td>\n",
       "      <td>14146</td>\n",
       "    </tr>\n",
       "    <tr>\n",
       "      <th>42</th>\n",
       "      <td>2021-02-12</td>\n",
       "      <td>14271</td>\n",
       "    </tr>\n",
       "    <tr>\n",
       "      <th>43</th>\n",
       "      <td>2021-02-13</td>\n",
       "      <td>14210</td>\n",
       "    </tr>\n",
       "    <tr>\n",
       "      <th>44</th>\n",
       "      <td>2021-02-14</td>\n",
       "      <td>14163</td>\n",
       "    </tr>\n",
       "    <tr>\n",
       "      <th>45</th>\n",
       "      <td>2021-02-15</td>\n",
       "      <td>14138</td>\n",
       "    </tr>\n",
       "    <tr>\n",
       "      <th>46</th>\n",
       "      <td>2021-02-16</td>\n",
       "      <td>14226</td>\n",
       "    </tr>\n",
       "    <tr>\n",
       "      <th>47</th>\n",
       "      <td>2021-02-17</td>\n",
       "      <td>14192</td>\n",
       "    </tr>\n",
       "    <tr>\n",
       "      <th>48</th>\n",
       "      <td>2021-02-18</td>\n",
       "      <td>14191</td>\n",
       "    </tr>\n",
       "    <tr>\n",
       "      <th>49</th>\n",
       "      <td>2021-02-19</td>\n",
       "      <td>14143</td>\n",
       "    </tr>\n",
       "    <tr>\n",
       "      <th>50</th>\n",
       "      <td>2021-02-20</td>\n",
       "      <td>14210</td>\n",
       "    </tr>\n",
       "    <tr>\n",
       "      <th>51</th>\n",
       "      <td>2021-02-21</td>\n",
       "      <td>14192</td>\n",
       "    </tr>\n",
       "    <tr>\n",
       "      <th>52</th>\n",
       "      <td>2021-02-22</td>\n",
       "      <td>14073</td>\n",
       "    </tr>\n",
       "    <tr>\n",
       "      <th>53</th>\n",
       "      <td>2021-02-23</td>\n",
       "      <td>14177</td>\n",
       "    </tr>\n",
       "    <tr>\n",
       "      <th>54</th>\n",
       "      <td>2021-02-24</td>\n",
       "      <td>14097</td>\n",
       "    </tr>\n",
       "    <tr>\n",
       "      <th>55</th>\n",
       "      <td>2021-02-25</td>\n",
       "      <td>14280</td>\n",
       "    </tr>\n",
       "    <tr>\n",
       "      <th>56</th>\n",
       "      <td>2021-02-26</td>\n",
       "      <td>14189</td>\n",
       "    </tr>\n",
       "    <tr>\n",
       "      <th>57</th>\n",
       "      <td>2021-02-27</td>\n",
       "      <td>14176</td>\n",
       "    </tr>\n",
       "    <tr>\n",
       "      <th>58</th>\n",
       "      <td>2021-02-28</td>\n",
       "      <td>14207</td>\n",
       "    </tr>\n",
       "  </tbody>\n",
       "</table>\n",
       "</div>"
      ],
      "text/plain": [
       "        dates      0\n",
       "0  2021-01-01  14134\n",
       "1  2021-01-02  14179\n",
       "2  2021-01-03  14139\n",
       "3  2021-01-04  14335\n",
       "4  2021-01-05  14139\n",
       "5  2021-01-06  14148\n",
       "6  2021-01-07  14137\n",
       "7  2021-01-08  14086\n",
       "8  2021-01-09  14209\n",
       "9  2021-01-10  14209\n",
       "10 2021-01-11  14239\n",
       "11 2021-01-12  14135\n",
       "12 2021-01-13  14160\n",
       "13 2021-01-14  14298\n",
       "14 2021-01-15  14151\n",
       "15 2021-01-16  14095\n",
       "16 2021-01-17  14271\n",
       "17 2021-01-18  14103\n",
       "18 2021-01-19  14186\n",
       "19 2021-01-20  14215\n",
       "20 2021-01-21  14113\n",
       "21 2021-01-22  14232\n",
       "22 2021-01-23  14214\n",
       "23 2021-01-24  14156\n",
       "24 2021-01-25  14251\n",
       "25 2021-01-26  14123\n",
       "26 2021-01-27  14217\n",
       "27 2021-01-28  14097\n",
       "28 2021-01-29  14135\n",
       "29 2021-01-30  14115\n",
       "30 2021-01-31  14183\n",
       "31 2021-02-01  14079\n",
       "32 2021-02-02  14123\n",
       "33 2021-02-03  14073\n",
       "34 2021-02-04  14166\n",
       "35 2021-02-05  14242\n",
       "36 2021-02-06  14191\n",
       "37 2021-02-07  14145\n",
       "38 2021-02-08  14183\n",
       "39 2021-02-09  14196\n",
       "40 2021-02-10  14156\n",
       "41 2021-02-11  14146\n",
       "42 2021-02-12  14271\n",
       "43 2021-02-13  14210\n",
       "44 2021-02-14  14163\n",
       "45 2021-02-15  14138\n",
       "46 2021-02-16  14226\n",
       "47 2021-02-17  14192\n",
       "48 2021-02-18  14191\n",
       "49 2021-02-19  14143\n",
       "50 2021-02-20  14210\n",
       "51 2021-02-21  14192\n",
       "52 2021-02-22  14073\n",
       "53 2021-02-23  14177\n",
       "54 2021-02-24  14097\n",
       "55 2021-02-25  14280\n",
       "56 2021-02-26  14189\n",
       "57 2021-02-27  14176\n",
       "58 2021-02-28  14207"
      ]
     },
     "execution_count": 53,
     "metadata": {},
     "output_type": "execute_result"
    }
   ],
   "source": [
    "dataHawk_prophet"
   ]
  },
  {
   "cell_type": "code",
   "execution_count": 54,
   "metadata": {},
   "outputs": [],
   "source": [
    "dataHawk_prophet.columns=['Date', 'Sales_Count']"
   ]
  },
  {
   "cell_type": "code",
   "execution_count": 55,
   "metadata": {},
   "outputs": [
    {
     "data": {
      "text/html": [
       "<div>\n",
       "<style scoped>\n",
       "    .dataframe tbody tr th:only-of-type {\n",
       "        vertical-align: middle;\n",
       "    }\n",
       "\n",
       "    .dataframe tbody tr th {\n",
       "        vertical-align: top;\n",
       "    }\n",
       "\n",
       "    .dataframe thead th {\n",
       "        text-align: right;\n",
       "    }\n",
       "</style>\n",
       "<table border=\"1\" class=\"dataframe\">\n",
       "  <thead>\n",
       "    <tr style=\"text-align: right;\">\n",
       "      <th></th>\n",
       "      <th>Date</th>\n",
       "      <th>Sales_Count</th>\n",
       "    </tr>\n",
       "  </thead>\n",
       "  <tbody>\n",
       "    <tr>\n",
       "      <th>0</th>\n",
       "      <td>2021-01-01</td>\n",
       "      <td>14134</td>\n",
       "    </tr>\n",
       "    <tr>\n",
       "      <th>1</th>\n",
       "      <td>2021-01-02</td>\n",
       "      <td>14179</td>\n",
       "    </tr>\n",
       "    <tr>\n",
       "      <th>2</th>\n",
       "      <td>2021-01-03</td>\n",
       "      <td>14139</td>\n",
       "    </tr>\n",
       "    <tr>\n",
       "      <th>3</th>\n",
       "      <td>2021-01-04</td>\n",
       "      <td>14335</td>\n",
       "    </tr>\n",
       "    <tr>\n",
       "      <th>4</th>\n",
       "      <td>2021-01-05</td>\n",
       "      <td>14139</td>\n",
       "    </tr>\n",
       "    <tr>\n",
       "      <th>5</th>\n",
       "      <td>2021-01-06</td>\n",
       "      <td>14148</td>\n",
       "    </tr>\n",
       "    <tr>\n",
       "      <th>6</th>\n",
       "      <td>2021-01-07</td>\n",
       "      <td>14137</td>\n",
       "    </tr>\n",
       "    <tr>\n",
       "      <th>7</th>\n",
       "      <td>2021-01-08</td>\n",
       "      <td>14086</td>\n",
       "    </tr>\n",
       "    <tr>\n",
       "      <th>8</th>\n",
       "      <td>2021-01-09</td>\n",
       "      <td>14209</td>\n",
       "    </tr>\n",
       "    <tr>\n",
       "      <th>9</th>\n",
       "      <td>2021-01-10</td>\n",
       "      <td>14209</td>\n",
       "    </tr>\n",
       "    <tr>\n",
       "      <th>10</th>\n",
       "      <td>2021-01-11</td>\n",
       "      <td>14239</td>\n",
       "    </tr>\n",
       "    <tr>\n",
       "      <th>11</th>\n",
       "      <td>2021-01-12</td>\n",
       "      <td>14135</td>\n",
       "    </tr>\n",
       "    <tr>\n",
       "      <th>12</th>\n",
       "      <td>2021-01-13</td>\n",
       "      <td>14160</td>\n",
       "    </tr>\n",
       "    <tr>\n",
       "      <th>13</th>\n",
       "      <td>2021-01-14</td>\n",
       "      <td>14298</td>\n",
       "    </tr>\n",
       "    <tr>\n",
       "      <th>14</th>\n",
       "      <td>2021-01-15</td>\n",
       "      <td>14151</td>\n",
       "    </tr>\n",
       "    <tr>\n",
       "      <th>15</th>\n",
       "      <td>2021-01-16</td>\n",
       "      <td>14095</td>\n",
       "    </tr>\n",
       "    <tr>\n",
       "      <th>16</th>\n",
       "      <td>2021-01-17</td>\n",
       "      <td>14271</td>\n",
       "    </tr>\n",
       "    <tr>\n",
       "      <th>17</th>\n",
       "      <td>2021-01-18</td>\n",
       "      <td>14103</td>\n",
       "    </tr>\n",
       "    <tr>\n",
       "      <th>18</th>\n",
       "      <td>2021-01-19</td>\n",
       "      <td>14186</td>\n",
       "    </tr>\n",
       "    <tr>\n",
       "      <th>19</th>\n",
       "      <td>2021-01-20</td>\n",
       "      <td>14215</td>\n",
       "    </tr>\n",
       "    <tr>\n",
       "      <th>20</th>\n",
       "      <td>2021-01-21</td>\n",
       "      <td>14113</td>\n",
       "    </tr>\n",
       "    <tr>\n",
       "      <th>21</th>\n",
       "      <td>2021-01-22</td>\n",
       "      <td>14232</td>\n",
       "    </tr>\n",
       "    <tr>\n",
       "      <th>22</th>\n",
       "      <td>2021-01-23</td>\n",
       "      <td>14214</td>\n",
       "    </tr>\n",
       "    <tr>\n",
       "      <th>23</th>\n",
       "      <td>2021-01-24</td>\n",
       "      <td>14156</td>\n",
       "    </tr>\n",
       "    <tr>\n",
       "      <th>24</th>\n",
       "      <td>2021-01-25</td>\n",
       "      <td>14251</td>\n",
       "    </tr>\n",
       "    <tr>\n",
       "      <th>25</th>\n",
       "      <td>2021-01-26</td>\n",
       "      <td>14123</td>\n",
       "    </tr>\n",
       "    <tr>\n",
       "      <th>26</th>\n",
       "      <td>2021-01-27</td>\n",
       "      <td>14217</td>\n",
       "    </tr>\n",
       "    <tr>\n",
       "      <th>27</th>\n",
       "      <td>2021-01-28</td>\n",
       "      <td>14097</td>\n",
       "    </tr>\n",
       "    <tr>\n",
       "      <th>28</th>\n",
       "      <td>2021-01-29</td>\n",
       "      <td>14135</td>\n",
       "    </tr>\n",
       "    <tr>\n",
       "      <th>29</th>\n",
       "      <td>2021-01-30</td>\n",
       "      <td>14115</td>\n",
       "    </tr>\n",
       "    <tr>\n",
       "      <th>30</th>\n",
       "      <td>2021-01-31</td>\n",
       "      <td>14183</td>\n",
       "    </tr>\n",
       "    <tr>\n",
       "      <th>31</th>\n",
       "      <td>2021-02-01</td>\n",
       "      <td>14079</td>\n",
       "    </tr>\n",
       "    <tr>\n",
       "      <th>32</th>\n",
       "      <td>2021-02-02</td>\n",
       "      <td>14123</td>\n",
       "    </tr>\n",
       "    <tr>\n",
       "      <th>33</th>\n",
       "      <td>2021-02-03</td>\n",
       "      <td>14073</td>\n",
       "    </tr>\n",
       "    <tr>\n",
       "      <th>34</th>\n",
       "      <td>2021-02-04</td>\n",
       "      <td>14166</td>\n",
       "    </tr>\n",
       "    <tr>\n",
       "      <th>35</th>\n",
       "      <td>2021-02-05</td>\n",
       "      <td>14242</td>\n",
       "    </tr>\n",
       "    <tr>\n",
       "      <th>36</th>\n",
       "      <td>2021-02-06</td>\n",
       "      <td>14191</td>\n",
       "    </tr>\n",
       "    <tr>\n",
       "      <th>37</th>\n",
       "      <td>2021-02-07</td>\n",
       "      <td>14145</td>\n",
       "    </tr>\n",
       "    <tr>\n",
       "      <th>38</th>\n",
       "      <td>2021-02-08</td>\n",
       "      <td>14183</td>\n",
       "    </tr>\n",
       "    <tr>\n",
       "      <th>39</th>\n",
       "      <td>2021-02-09</td>\n",
       "      <td>14196</td>\n",
       "    </tr>\n",
       "    <tr>\n",
       "      <th>40</th>\n",
       "      <td>2021-02-10</td>\n",
       "      <td>14156</td>\n",
       "    </tr>\n",
       "    <tr>\n",
       "      <th>41</th>\n",
       "      <td>2021-02-11</td>\n",
       "      <td>14146</td>\n",
       "    </tr>\n",
       "    <tr>\n",
       "      <th>42</th>\n",
       "      <td>2021-02-12</td>\n",
       "      <td>14271</td>\n",
       "    </tr>\n",
       "    <tr>\n",
       "      <th>43</th>\n",
       "      <td>2021-02-13</td>\n",
       "      <td>14210</td>\n",
       "    </tr>\n",
       "    <tr>\n",
       "      <th>44</th>\n",
       "      <td>2021-02-14</td>\n",
       "      <td>14163</td>\n",
       "    </tr>\n",
       "    <tr>\n",
       "      <th>45</th>\n",
       "      <td>2021-02-15</td>\n",
       "      <td>14138</td>\n",
       "    </tr>\n",
       "    <tr>\n",
       "      <th>46</th>\n",
       "      <td>2021-02-16</td>\n",
       "      <td>14226</td>\n",
       "    </tr>\n",
       "    <tr>\n",
       "      <th>47</th>\n",
       "      <td>2021-02-17</td>\n",
       "      <td>14192</td>\n",
       "    </tr>\n",
       "    <tr>\n",
       "      <th>48</th>\n",
       "      <td>2021-02-18</td>\n",
       "      <td>14191</td>\n",
       "    </tr>\n",
       "    <tr>\n",
       "      <th>49</th>\n",
       "      <td>2021-02-19</td>\n",
       "      <td>14143</td>\n",
       "    </tr>\n",
       "    <tr>\n",
       "      <th>50</th>\n",
       "      <td>2021-02-20</td>\n",
       "      <td>14210</td>\n",
       "    </tr>\n",
       "    <tr>\n",
       "      <th>51</th>\n",
       "      <td>2021-02-21</td>\n",
       "      <td>14192</td>\n",
       "    </tr>\n",
       "    <tr>\n",
       "      <th>52</th>\n",
       "      <td>2021-02-22</td>\n",
       "      <td>14073</td>\n",
       "    </tr>\n",
       "    <tr>\n",
       "      <th>53</th>\n",
       "      <td>2021-02-23</td>\n",
       "      <td>14177</td>\n",
       "    </tr>\n",
       "    <tr>\n",
       "      <th>54</th>\n",
       "      <td>2021-02-24</td>\n",
       "      <td>14097</td>\n",
       "    </tr>\n",
       "    <tr>\n",
       "      <th>55</th>\n",
       "      <td>2021-02-25</td>\n",
       "      <td>14280</td>\n",
       "    </tr>\n",
       "    <tr>\n",
       "      <th>56</th>\n",
       "      <td>2021-02-26</td>\n",
       "      <td>14189</td>\n",
       "    </tr>\n",
       "    <tr>\n",
       "      <th>57</th>\n",
       "      <td>2021-02-27</td>\n",
       "      <td>14176</td>\n",
       "    </tr>\n",
       "    <tr>\n",
       "      <th>58</th>\n",
       "      <td>2021-02-28</td>\n",
       "      <td>14207</td>\n",
       "    </tr>\n",
       "  </tbody>\n",
       "</table>\n",
       "</div>"
      ],
      "text/plain": [
       "         Date  Sales_Count\n",
       "0  2021-01-01        14134\n",
       "1  2021-01-02        14179\n",
       "2  2021-01-03        14139\n",
       "3  2021-01-04        14335\n",
       "4  2021-01-05        14139\n",
       "5  2021-01-06        14148\n",
       "6  2021-01-07        14137\n",
       "7  2021-01-08        14086\n",
       "8  2021-01-09        14209\n",
       "9  2021-01-10        14209\n",
       "10 2021-01-11        14239\n",
       "11 2021-01-12        14135\n",
       "12 2021-01-13        14160\n",
       "13 2021-01-14        14298\n",
       "14 2021-01-15        14151\n",
       "15 2021-01-16        14095\n",
       "16 2021-01-17        14271\n",
       "17 2021-01-18        14103\n",
       "18 2021-01-19        14186\n",
       "19 2021-01-20        14215\n",
       "20 2021-01-21        14113\n",
       "21 2021-01-22        14232\n",
       "22 2021-01-23        14214\n",
       "23 2021-01-24        14156\n",
       "24 2021-01-25        14251\n",
       "25 2021-01-26        14123\n",
       "26 2021-01-27        14217\n",
       "27 2021-01-28        14097\n",
       "28 2021-01-29        14135\n",
       "29 2021-01-30        14115\n",
       "30 2021-01-31        14183\n",
       "31 2021-02-01        14079\n",
       "32 2021-02-02        14123\n",
       "33 2021-02-03        14073\n",
       "34 2021-02-04        14166\n",
       "35 2021-02-05        14242\n",
       "36 2021-02-06        14191\n",
       "37 2021-02-07        14145\n",
       "38 2021-02-08        14183\n",
       "39 2021-02-09        14196\n",
       "40 2021-02-10        14156\n",
       "41 2021-02-11        14146\n",
       "42 2021-02-12        14271\n",
       "43 2021-02-13        14210\n",
       "44 2021-02-14        14163\n",
       "45 2021-02-15        14138\n",
       "46 2021-02-16        14226\n",
       "47 2021-02-17        14192\n",
       "48 2021-02-18        14191\n",
       "49 2021-02-19        14143\n",
       "50 2021-02-20        14210\n",
       "51 2021-02-21        14192\n",
       "52 2021-02-22        14073\n",
       "53 2021-02-23        14177\n",
       "54 2021-02-24        14097\n",
       "55 2021-02-25        14280\n",
       "56 2021-02-26        14189\n",
       "57 2021-02-27        14176\n",
       "58 2021-02-28        14207"
      ]
     },
     "execution_count": 55,
     "metadata": {},
     "output_type": "execute_result"
    }
   ],
   "source": [
    "dataHawk_prophet"
   ]
  },
  {
   "cell_type": "code",
   "execution_count": 56,
   "metadata": {},
   "outputs": [],
   "source": [
    "dataHawk_prophet_df_final = dataHawk_prophet.rename(columns={'Date':'ds', 'Sales_Count': 'y'})"
   ]
  },
  {
   "cell_type": "code",
   "execution_count": 57,
   "metadata": {},
   "outputs": [
    {
     "data": {
      "text/html": [
       "<div>\n",
       "<style scoped>\n",
       "    .dataframe tbody tr th:only-of-type {\n",
       "        vertical-align: middle;\n",
       "    }\n",
       "\n",
       "    .dataframe tbody tr th {\n",
       "        vertical-align: top;\n",
       "    }\n",
       "\n",
       "    .dataframe thead th {\n",
       "        text-align: right;\n",
       "    }\n",
       "</style>\n",
       "<table border=\"1\" class=\"dataframe\">\n",
       "  <thead>\n",
       "    <tr style=\"text-align: right;\">\n",
       "      <th></th>\n",
       "      <th>ds</th>\n",
       "      <th>y</th>\n",
       "    </tr>\n",
       "  </thead>\n",
       "  <tbody>\n",
       "    <tr>\n",
       "      <th>0</th>\n",
       "      <td>2021-01-01</td>\n",
       "      <td>14134</td>\n",
       "    </tr>\n",
       "    <tr>\n",
       "      <th>1</th>\n",
       "      <td>2021-01-02</td>\n",
       "      <td>14179</td>\n",
       "    </tr>\n",
       "    <tr>\n",
       "      <th>2</th>\n",
       "      <td>2021-01-03</td>\n",
       "      <td>14139</td>\n",
       "    </tr>\n",
       "    <tr>\n",
       "      <th>3</th>\n",
       "      <td>2021-01-04</td>\n",
       "      <td>14335</td>\n",
       "    </tr>\n",
       "    <tr>\n",
       "      <th>4</th>\n",
       "      <td>2021-01-05</td>\n",
       "      <td>14139</td>\n",
       "    </tr>\n",
       "    <tr>\n",
       "      <th>5</th>\n",
       "      <td>2021-01-06</td>\n",
       "      <td>14148</td>\n",
       "    </tr>\n",
       "    <tr>\n",
       "      <th>6</th>\n",
       "      <td>2021-01-07</td>\n",
       "      <td>14137</td>\n",
       "    </tr>\n",
       "    <tr>\n",
       "      <th>7</th>\n",
       "      <td>2021-01-08</td>\n",
       "      <td>14086</td>\n",
       "    </tr>\n",
       "    <tr>\n",
       "      <th>8</th>\n",
       "      <td>2021-01-09</td>\n",
       "      <td>14209</td>\n",
       "    </tr>\n",
       "    <tr>\n",
       "      <th>9</th>\n",
       "      <td>2021-01-10</td>\n",
       "      <td>14209</td>\n",
       "    </tr>\n",
       "    <tr>\n",
       "      <th>10</th>\n",
       "      <td>2021-01-11</td>\n",
       "      <td>14239</td>\n",
       "    </tr>\n",
       "    <tr>\n",
       "      <th>11</th>\n",
       "      <td>2021-01-12</td>\n",
       "      <td>14135</td>\n",
       "    </tr>\n",
       "    <tr>\n",
       "      <th>12</th>\n",
       "      <td>2021-01-13</td>\n",
       "      <td>14160</td>\n",
       "    </tr>\n",
       "    <tr>\n",
       "      <th>13</th>\n",
       "      <td>2021-01-14</td>\n",
       "      <td>14298</td>\n",
       "    </tr>\n",
       "    <tr>\n",
       "      <th>14</th>\n",
       "      <td>2021-01-15</td>\n",
       "      <td>14151</td>\n",
       "    </tr>\n",
       "    <tr>\n",
       "      <th>15</th>\n",
       "      <td>2021-01-16</td>\n",
       "      <td>14095</td>\n",
       "    </tr>\n",
       "    <tr>\n",
       "      <th>16</th>\n",
       "      <td>2021-01-17</td>\n",
       "      <td>14271</td>\n",
       "    </tr>\n",
       "    <tr>\n",
       "      <th>17</th>\n",
       "      <td>2021-01-18</td>\n",
       "      <td>14103</td>\n",
       "    </tr>\n",
       "    <tr>\n",
       "      <th>18</th>\n",
       "      <td>2021-01-19</td>\n",
       "      <td>14186</td>\n",
       "    </tr>\n",
       "    <tr>\n",
       "      <th>19</th>\n",
       "      <td>2021-01-20</td>\n",
       "      <td>14215</td>\n",
       "    </tr>\n",
       "    <tr>\n",
       "      <th>20</th>\n",
       "      <td>2021-01-21</td>\n",
       "      <td>14113</td>\n",
       "    </tr>\n",
       "    <tr>\n",
       "      <th>21</th>\n",
       "      <td>2021-01-22</td>\n",
       "      <td>14232</td>\n",
       "    </tr>\n",
       "    <tr>\n",
       "      <th>22</th>\n",
       "      <td>2021-01-23</td>\n",
       "      <td>14214</td>\n",
       "    </tr>\n",
       "    <tr>\n",
       "      <th>23</th>\n",
       "      <td>2021-01-24</td>\n",
       "      <td>14156</td>\n",
       "    </tr>\n",
       "    <tr>\n",
       "      <th>24</th>\n",
       "      <td>2021-01-25</td>\n",
       "      <td>14251</td>\n",
       "    </tr>\n",
       "    <tr>\n",
       "      <th>25</th>\n",
       "      <td>2021-01-26</td>\n",
       "      <td>14123</td>\n",
       "    </tr>\n",
       "    <tr>\n",
       "      <th>26</th>\n",
       "      <td>2021-01-27</td>\n",
       "      <td>14217</td>\n",
       "    </tr>\n",
       "    <tr>\n",
       "      <th>27</th>\n",
       "      <td>2021-01-28</td>\n",
       "      <td>14097</td>\n",
       "    </tr>\n",
       "    <tr>\n",
       "      <th>28</th>\n",
       "      <td>2021-01-29</td>\n",
       "      <td>14135</td>\n",
       "    </tr>\n",
       "    <tr>\n",
       "      <th>29</th>\n",
       "      <td>2021-01-30</td>\n",
       "      <td>14115</td>\n",
       "    </tr>\n",
       "    <tr>\n",
       "      <th>30</th>\n",
       "      <td>2021-01-31</td>\n",
       "      <td>14183</td>\n",
       "    </tr>\n",
       "    <tr>\n",
       "      <th>31</th>\n",
       "      <td>2021-02-01</td>\n",
       "      <td>14079</td>\n",
       "    </tr>\n",
       "    <tr>\n",
       "      <th>32</th>\n",
       "      <td>2021-02-02</td>\n",
       "      <td>14123</td>\n",
       "    </tr>\n",
       "    <tr>\n",
       "      <th>33</th>\n",
       "      <td>2021-02-03</td>\n",
       "      <td>14073</td>\n",
       "    </tr>\n",
       "    <tr>\n",
       "      <th>34</th>\n",
       "      <td>2021-02-04</td>\n",
       "      <td>14166</td>\n",
       "    </tr>\n",
       "    <tr>\n",
       "      <th>35</th>\n",
       "      <td>2021-02-05</td>\n",
       "      <td>14242</td>\n",
       "    </tr>\n",
       "    <tr>\n",
       "      <th>36</th>\n",
       "      <td>2021-02-06</td>\n",
       "      <td>14191</td>\n",
       "    </tr>\n",
       "    <tr>\n",
       "      <th>37</th>\n",
       "      <td>2021-02-07</td>\n",
       "      <td>14145</td>\n",
       "    </tr>\n",
       "    <tr>\n",
       "      <th>38</th>\n",
       "      <td>2021-02-08</td>\n",
       "      <td>14183</td>\n",
       "    </tr>\n",
       "    <tr>\n",
       "      <th>39</th>\n",
       "      <td>2021-02-09</td>\n",
       "      <td>14196</td>\n",
       "    </tr>\n",
       "    <tr>\n",
       "      <th>40</th>\n",
       "      <td>2021-02-10</td>\n",
       "      <td>14156</td>\n",
       "    </tr>\n",
       "    <tr>\n",
       "      <th>41</th>\n",
       "      <td>2021-02-11</td>\n",
       "      <td>14146</td>\n",
       "    </tr>\n",
       "    <tr>\n",
       "      <th>42</th>\n",
       "      <td>2021-02-12</td>\n",
       "      <td>14271</td>\n",
       "    </tr>\n",
       "    <tr>\n",
       "      <th>43</th>\n",
       "      <td>2021-02-13</td>\n",
       "      <td>14210</td>\n",
       "    </tr>\n",
       "    <tr>\n",
       "      <th>44</th>\n",
       "      <td>2021-02-14</td>\n",
       "      <td>14163</td>\n",
       "    </tr>\n",
       "    <tr>\n",
       "      <th>45</th>\n",
       "      <td>2021-02-15</td>\n",
       "      <td>14138</td>\n",
       "    </tr>\n",
       "    <tr>\n",
       "      <th>46</th>\n",
       "      <td>2021-02-16</td>\n",
       "      <td>14226</td>\n",
       "    </tr>\n",
       "    <tr>\n",
       "      <th>47</th>\n",
       "      <td>2021-02-17</td>\n",
       "      <td>14192</td>\n",
       "    </tr>\n",
       "    <tr>\n",
       "      <th>48</th>\n",
       "      <td>2021-02-18</td>\n",
       "      <td>14191</td>\n",
       "    </tr>\n",
       "    <tr>\n",
       "      <th>49</th>\n",
       "      <td>2021-02-19</td>\n",
       "      <td>14143</td>\n",
       "    </tr>\n",
       "    <tr>\n",
       "      <th>50</th>\n",
       "      <td>2021-02-20</td>\n",
       "      <td>14210</td>\n",
       "    </tr>\n",
       "    <tr>\n",
       "      <th>51</th>\n",
       "      <td>2021-02-21</td>\n",
       "      <td>14192</td>\n",
       "    </tr>\n",
       "    <tr>\n",
       "      <th>52</th>\n",
       "      <td>2021-02-22</td>\n",
       "      <td>14073</td>\n",
       "    </tr>\n",
       "    <tr>\n",
       "      <th>53</th>\n",
       "      <td>2021-02-23</td>\n",
       "      <td>14177</td>\n",
       "    </tr>\n",
       "    <tr>\n",
       "      <th>54</th>\n",
       "      <td>2021-02-24</td>\n",
       "      <td>14097</td>\n",
       "    </tr>\n",
       "    <tr>\n",
       "      <th>55</th>\n",
       "      <td>2021-02-25</td>\n",
       "      <td>14280</td>\n",
       "    </tr>\n",
       "    <tr>\n",
       "      <th>56</th>\n",
       "      <td>2021-02-26</td>\n",
       "      <td>14189</td>\n",
       "    </tr>\n",
       "    <tr>\n",
       "      <th>57</th>\n",
       "      <td>2021-02-27</td>\n",
       "      <td>14176</td>\n",
       "    </tr>\n",
       "    <tr>\n",
       "      <th>58</th>\n",
       "      <td>2021-02-28</td>\n",
       "      <td>14207</td>\n",
       "    </tr>\n",
       "  </tbody>\n",
       "</table>\n",
       "</div>"
      ],
      "text/plain": [
       "           ds      y\n",
       "0  2021-01-01  14134\n",
       "1  2021-01-02  14179\n",
       "2  2021-01-03  14139\n",
       "3  2021-01-04  14335\n",
       "4  2021-01-05  14139\n",
       "5  2021-01-06  14148\n",
       "6  2021-01-07  14137\n",
       "7  2021-01-08  14086\n",
       "8  2021-01-09  14209\n",
       "9  2021-01-10  14209\n",
       "10 2021-01-11  14239\n",
       "11 2021-01-12  14135\n",
       "12 2021-01-13  14160\n",
       "13 2021-01-14  14298\n",
       "14 2021-01-15  14151\n",
       "15 2021-01-16  14095\n",
       "16 2021-01-17  14271\n",
       "17 2021-01-18  14103\n",
       "18 2021-01-19  14186\n",
       "19 2021-01-20  14215\n",
       "20 2021-01-21  14113\n",
       "21 2021-01-22  14232\n",
       "22 2021-01-23  14214\n",
       "23 2021-01-24  14156\n",
       "24 2021-01-25  14251\n",
       "25 2021-01-26  14123\n",
       "26 2021-01-27  14217\n",
       "27 2021-01-28  14097\n",
       "28 2021-01-29  14135\n",
       "29 2021-01-30  14115\n",
       "30 2021-01-31  14183\n",
       "31 2021-02-01  14079\n",
       "32 2021-02-02  14123\n",
       "33 2021-02-03  14073\n",
       "34 2021-02-04  14166\n",
       "35 2021-02-05  14242\n",
       "36 2021-02-06  14191\n",
       "37 2021-02-07  14145\n",
       "38 2021-02-08  14183\n",
       "39 2021-02-09  14196\n",
       "40 2021-02-10  14156\n",
       "41 2021-02-11  14146\n",
       "42 2021-02-12  14271\n",
       "43 2021-02-13  14210\n",
       "44 2021-02-14  14163\n",
       "45 2021-02-15  14138\n",
       "46 2021-02-16  14226\n",
       "47 2021-02-17  14192\n",
       "48 2021-02-18  14191\n",
       "49 2021-02-19  14143\n",
       "50 2021-02-20  14210\n",
       "51 2021-02-21  14192\n",
       "52 2021-02-22  14073\n",
       "53 2021-02-23  14177\n",
       "54 2021-02-24  14097\n",
       "55 2021-02-25  14280\n",
       "56 2021-02-26  14189\n",
       "57 2021-02-27  14176\n",
       "58 2021-02-28  14207"
      ]
     },
     "execution_count": 57,
     "metadata": {},
     "output_type": "execute_result"
    }
   ],
   "source": [
    "dataHawk_prophet_df_final"
   ]
  },
  {
   "cell_type": "code",
   "execution_count": 58,
   "metadata": {},
   "outputs": [],
   "source": [
    "dataHawk_prophet_df_final.to_csv(\"new_df.csv\")"
   ]
  },
  {
   "cell_type": "code",
   "execution_count": 59,
   "metadata": {},
   "outputs": [],
   "source": [
    "df_fixed.to_csv(\"new_df2.csv\")"
   ]
  },
  {
   "cell_type": "markdown",
   "metadata": {},
   "source": [
    "# Time serie prediction with fbProphet"
   ]
  },
  {
   "cell_type": "code",
   "execution_count": null,
   "metadata": {},
   "outputs": [],
   "source": [
    "# from fbprophet import Prophet\n",
    "# m = Prophet()\n",
    "# m.fit(dataHawk_prophet_df_final)"
   ]
  },
  {
   "cell_type": "code",
   "execution_count": null,
   "metadata": {},
   "outputs": [],
   "source": [
    "# from fbprophet import Prophet\n",
    "# m = Prophet(daily_seasonality = True)\n",
    "# m.fit(dataHawk_prophet_df_final)\n",
    "# future = m.make_future_dataframe(periods=30, freq='M')\n",
    "# forecast = m.predict(future)\n",
    "# m.plot(forecast)\n",
    "# m.plot_components(forecast)"
   ]
  },
  {
   "cell_type": "code",
   "execution_count": null,
   "metadata": {},
   "outputs": [],
   "source": [
    "# from fbprophet import Prophet\n",
    "# m = Prophet(daily_seasonality = True)\n",
    "# m.fit(dataHawk_prophet_df_final)"
   ]
  },
  {
   "cell_type": "markdown",
   "metadata": {},
   "source": [
    "# Time serie with scikit-learn"
   ]
  },
  {
   "cell_type": "code",
   "execution_count": 60,
   "metadata": {},
   "outputs": [],
   "source": [
    "df_copy= df_fixed.copy()"
   ]
  },
  {
   "cell_type": "code",
   "execution_count": 61,
   "metadata": {},
   "outputs": [
    {
     "data": {
      "text/html": [
       "<div>\n",
       "<style scoped>\n",
       "    .dataframe tbody tr th:only-of-type {\n",
       "        vertical-align: middle;\n",
       "    }\n",
       "\n",
       "    .dataframe tbody tr th {\n",
       "        vertical-align: top;\n",
       "    }\n",
       "\n",
       "    .dataframe thead th {\n",
       "        text-align: right;\n",
       "    }\n",
       "</style>\n",
       "<table border=\"1\" class=\"dataframe\">\n",
       "  <thead>\n",
       "    <tr style=\"text-align: right;\">\n",
       "      <th></th>\n",
       "      <th>dates</th>\n",
       "      <th>keyword</th>\n",
       "      <th>product_id</th>\n",
       "      <th>ranks</th>\n",
       "      <th>price</th>\n",
       "      <th>reviews</th>\n",
       "      <th>ratings</th>\n",
       "      <th>nb_image</th>\n",
       "      <th>a_plus</th>\n",
       "      <th>description_score</th>\n",
       "      <th>nb_bullets_points</th>\n",
       "      <th>image_score</th>\n",
       "      <th>sales</th>\n",
       "    </tr>\n",
       "    <tr>\n",
       "      <th>dates</th>\n",
       "      <th></th>\n",
       "      <th></th>\n",
       "      <th></th>\n",
       "      <th></th>\n",
       "      <th></th>\n",
       "      <th></th>\n",
       "      <th></th>\n",
       "      <th></th>\n",
       "      <th></th>\n",
       "      <th></th>\n",
       "      <th></th>\n",
       "      <th></th>\n",
       "      <th></th>\n",
       "    </tr>\n",
       "  </thead>\n",
       "  <tbody>\n",
       "    <tr>\n",
       "      <th>2021-01-02</th>\n",
       "      <td>2021-01-02</td>\n",
       "      <td>dog dental chews</td>\n",
       "      <td>0.0</td>\n",
       "      <td>21.0</td>\n",
       "      <td>36.34</td>\n",
       "      <td>168.0</td>\n",
       "      <td>4.336569</td>\n",
       "      <td>5.0</td>\n",
       "      <td>1.0</td>\n",
       "      <td>0.429192</td>\n",
       "      <td>2.0</td>\n",
       "      <td>0.524923</td>\n",
       "      <td>35.0</td>\n",
       "    </tr>\n",
       "    <tr>\n",
       "      <th>2021-01-03</th>\n",
       "      <td>2021-01-03</td>\n",
       "      <td>dog dental chews</td>\n",
       "      <td>0.0</td>\n",
       "      <td>37.0</td>\n",
       "      <td>36.34</td>\n",
       "      <td>168.0</td>\n",
       "      <td>4.336065</td>\n",
       "      <td>5.0</td>\n",
       "      <td>1.0</td>\n",
       "      <td>0.421836</td>\n",
       "      <td>2.0</td>\n",
       "      <td>0.524923</td>\n",
       "      <td>10.0</td>\n",
       "    </tr>\n",
       "    <tr>\n",
       "      <th>2021-01-04</th>\n",
       "      <td>2021-01-04</td>\n",
       "      <td>dog dental chews</td>\n",
       "      <td>0.0</td>\n",
       "      <td>11.0</td>\n",
       "      <td>36.34</td>\n",
       "      <td>168.0</td>\n",
       "      <td>4.322506</td>\n",
       "      <td>5.0</td>\n",
       "      <td>1.0</td>\n",
       "      <td>0.488681</td>\n",
       "      <td>2.0</td>\n",
       "      <td>0.524923</td>\n",
       "      <td>16.0</td>\n",
       "    </tr>\n",
       "    <tr>\n",
       "      <th>2021-01-05</th>\n",
       "      <td>2021-01-05</td>\n",
       "      <td>dog dental chews</td>\n",
       "      <td>0.0</td>\n",
       "      <td>14.0</td>\n",
       "      <td>36.34</td>\n",
       "      <td>168.0</td>\n",
       "      <td>4.334201</td>\n",
       "      <td>5.0</td>\n",
       "      <td>1.0</td>\n",
       "      <td>0.620089</td>\n",
       "      <td>2.0</td>\n",
       "      <td>0.524923</td>\n",
       "      <td>29.0</td>\n",
       "    </tr>\n",
       "    <tr>\n",
       "      <th>2021-01-06</th>\n",
       "      <td>2021-01-06</td>\n",
       "      <td>dog dental chews</td>\n",
       "      <td>0.0</td>\n",
       "      <td>41.0</td>\n",
       "      <td>36.34</td>\n",
       "      <td>168.0</td>\n",
       "      <td>4.326861</td>\n",
       "      <td>5.0</td>\n",
       "      <td>1.0</td>\n",
       "      <td>0.471951</td>\n",
       "      <td>2.0</td>\n",
       "      <td>0.524923</td>\n",
       "      <td>11.0</td>\n",
       "    </tr>\n",
       "  </tbody>\n",
       "</table>\n",
       "</div>"
      ],
      "text/plain": [
       "                 dates           keyword  product_id  ranks  price  reviews  \\\n",
       "dates                                                                         \n",
       "2021-01-02  2021-01-02  dog dental chews         0.0   21.0  36.34    168.0   \n",
       "2021-01-03  2021-01-03  dog dental chews         0.0   37.0  36.34    168.0   \n",
       "2021-01-04  2021-01-04  dog dental chews         0.0   11.0  36.34    168.0   \n",
       "2021-01-05  2021-01-05  dog dental chews         0.0   14.0  36.34    168.0   \n",
       "2021-01-06  2021-01-06  dog dental chews         0.0   41.0  36.34    168.0   \n",
       "\n",
       "             ratings  nb_image  a_plus  description_score  nb_bullets_points  \\\n",
       "dates                                                                          \n",
       "2021-01-02  4.336569       5.0     1.0           0.429192                2.0   \n",
       "2021-01-03  4.336065       5.0     1.0           0.421836                2.0   \n",
       "2021-01-04  4.322506       5.0     1.0           0.488681                2.0   \n",
       "2021-01-05  4.334201       5.0     1.0           0.620089                2.0   \n",
       "2021-01-06  4.326861       5.0     1.0           0.471951                2.0   \n",
       "\n",
       "            image_score  sales  \n",
       "dates                           \n",
       "2021-01-02     0.524923   35.0  \n",
       "2021-01-03     0.524923   10.0  \n",
       "2021-01-04     0.524923   16.0  \n",
       "2021-01-05     0.524923   29.0  \n",
       "2021-01-06     0.524923   11.0  "
      ]
     },
     "execution_count": 61,
     "metadata": {},
     "output_type": "execute_result"
    }
   ],
   "source": [
    "df_copy.head()"
   ]
  },
  {
   "cell_type": "code",
   "execution_count": 62,
   "metadata": {},
   "outputs": [
    {
     "data": {
      "text/html": [
       "<div>\n",
       "<style scoped>\n",
       "    .dataframe tbody tr th:only-of-type {\n",
       "        vertical-align: middle;\n",
       "    }\n",
       "\n",
       "    .dataframe tbody tr th {\n",
       "        vertical-align: top;\n",
       "    }\n",
       "\n",
       "    .dataframe thead th {\n",
       "        text-align: right;\n",
       "    }\n",
       "</style>\n",
       "<table border=\"1\" class=\"dataframe\">\n",
       "  <thead>\n",
       "    <tr style=\"text-align: right;\">\n",
       "      <th></th>\n",
       "      <th>dates</th>\n",
       "      <th>keyword</th>\n",
       "      <th>product_id</th>\n",
       "      <th>ranks</th>\n",
       "      <th>price</th>\n",
       "      <th>reviews</th>\n",
       "      <th>ratings</th>\n",
       "      <th>nb_image</th>\n",
       "      <th>a_plus</th>\n",
       "      <th>description_score</th>\n",
       "      <th>nb_bullets_points</th>\n",
       "      <th>image_score</th>\n",
       "      <th>sales</th>\n",
       "    </tr>\n",
       "    <tr>\n",
       "      <th>Date</th>\n",
       "      <th></th>\n",
       "      <th></th>\n",
       "      <th></th>\n",
       "      <th></th>\n",
       "      <th></th>\n",
       "      <th></th>\n",
       "      <th></th>\n",
       "      <th></th>\n",
       "      <th></th>\n",
       "      <th></th>\n",
       "      <th></th>\n",
       "      <th></th>\n",
       "      <th></th>\n",
       "    </tr>\n",
       "  </thead>\n",
       "  <tbody>\n",
       "    <tr>\n",
       "      <th>2021-01-02</th>\n",
       "      <td>2021-01-02</td>\n",
       "      <td>dog dental chews</td>\n",
       "      <td>0.0</td>\n",
       "      <td>21.0</td>\n",
       "      <td>36.34</td>\n",
       "      <td>168.0</td>\n",
       "      <td>4.336569</td>\n",
       "      <td>5.0</td>\n",
       "      <td>1.0</td>\n",
       "      <td>0.429192</td>\n",
       "      <td>2.0</td>\n",
       "      <td>0.524923</td>\n",
       "      <td>35.0</td>\n",
       "    </tr>\n",
       "    <tr>\n",
       "      <th>2021-01-03</th>\n",
       "      <td>2021-01-03</td>\n",
       "      <td>dog dental chews</td>\n",
       "      <td>0.0</td>\n",
       "      <td>37.0</td>\n",
       "      <td>36.34</td>\n",
       "      <td>168.0</td>\n",
       "      <td>4.336065</td>\n",
       "      <td>5.0</td>\n",
       "      <td>1.0</td>\n",
       "      <td>0.421836</td>\n",
       "      <td>2.0</td>\n",
       "      <td>0.524923</td>\n",
       "      <td>10.0</td>\n",
       "    </tr>\n",
       "    <tr>\n",
       "      <th>2021-01-04</th>\n",
       "      <td>2021-01-04</td>\n",
       "      <td>dog dental chews</td>\n",
       "      <td>0.0</td>\n",
       "      <td>11.0</td>\n",
       "      <td>36.34</td>\n",
       "      <td>168.0</td>\n",
       "      <td>4.322506</td>\n",
       "      <td>5.0</td>\n",
       "      <td>1.0</td>\n",
       "      <td>0.488681</td>\n",
       "      <td>2.0</td>\n",
       "      <td>0.524923</td>\n",
       "      <td>16.0</td>\n",
       "    </tr>\n",
       "    <tr>\n",
       "      <th>2021-01-05</th>\n",
       "      <td>2021-01-05</td>\n",
       "      <td>dog dental chews</td>\n",
       "      <td>0.0</td>\n",
       "      <td>14.0</td>\n",
       "      <td>36.34</td>\n",
       "      <td>168.0</td>\n",
       "      <td>4.334201</td>\n",
       "      <td>5.0</td>\n",
       "      <td>1.0</td>\n",
       "      <td>0.620089</td>\n",
       "      <td>2.0</td>\n",
       "      <td>0.524923</td>\n",
       "      <td>29.0</td>\n",
       "    </tr>\n",
       "    <tr>\n",
       "      <th>2021-01-06</th>\n",
       "      <td>2021-01-06</td>\n",
       "      <td>dog dental chews</td>\n",
       "      <td>0.0</td>\n",
       "      <td>41.0</td>\n",
       "      <td>36.34</td>\n",
       "      <td>168.0</td>\n",
       "      <td>4.326861</td>\n",
       "      <td>5.0</td>\n",
       "      <td>1.0</td>\n",
       "      <td>0.471951</td>\n",
       "      <td>2.0</td>\n",
       "      <td>0.524923</td>\n",
       "      <td>11.0</td>\n",
       "    </tr>\n",
       "  </tbody>\n",
       "</table>\n",
       "</div>"
      ],
      "text/plain": [
       "                 dates           keyword  product_id  ranks  price  reviews  \\\n",
       "Date                                                                          \n",
       "2021-01-02  2021-01-02  dog dental chews         0.0   21.0  36.34    168.0   \n",
       "2021-01-03  2021-01-03  dog dental chews         0.0   37.0  36.34    168.0   \n",
       "2021-01-04  2021-01-04  dog dental chews         0.0   11.0  36.34    168.0   \n",
       "2021-01-05  2021-01-05  dog dental chews         0.0   14.0  36.34    168.0   \n",
       "2021-01-06  2021-01-06  dog dental chews         0.0   41.0  36.34    168.0   \n",
       "\n",
       "             ratings  nb_image  a_plus  description_score  nb_bullets_points  \\\n",
       "Date                                                                           \n",
       "2021-01-02  4.336569       5.0     1.0           0.429192                2.0   \n",
       "2021-01-03  4.336065       5.0     1.0           0.421836                2.0   \n",
       "2021-01-04  4.322506       5.0     1.0           0.488681                2.0   \n",
       "2021-01-05  4.334201       5.0     1.0           0.620089                2.0   \n",
       "2021-01-06  4.326861       5.0     1.0           0.471951                2.0   \n",
       "\n",
       "            image_score  sales  \n",
       "Date                            \n",
       "2021-01-02     0.524923   35.0  \n",
       "2021-01-03     0.524923   10.0  \n",
       "2021-01-04     0.524923   16.0  \n",
       "2021-01-05     0.524923   29.0  \n",
       "2021-01-06     0.524923   11.0  "
      ]
     },
     "execution_count": 62,
     "metadata": {},
     "output_type": "execute_result"
    }
   ],
   "source": [
    "# to explicitly convert the date column to type DATETIME\n",
    "df_copy['Date'] = pd.to_datetime(df_copy['dates'])\n",
    "data = df_copy.set_index('Date')\n",
    "data.head()"
   ]
  },
  {
   "cell_type": "code",
   "execution_count": 66,
   "metadata": {},
   "outputs": [
    {
     "data": {
      "text/html": [
       "<div>\n",
       "<style scoped>\n",
       "    .dataframe tbody tr th:only-of-type {\n",
       "        vertical-align: middle;\n",
       "    }\n",
       "\n",
       "    .dataframe tbody tr th {\n",
       "        vertical-align: top;\n",
       "    }\n",
       "\n",
       "    .dataframe thead th {\n",
       "        text-align: right;\n",
       "    }\n",
       "</style>\n",
       "<table border=\"1\" class=\"dataframe\">\n",
       "  <thead>\n",
       "    <tr style=\"text-align: right;\">\n",
       "      <th></th>\n",
       "      <th>keyword</th>\n",
       "      <th>product_id</th>\n",
       "      <th>ranks</th>\n",
       "      <th>price</th>\n",
       "      <th>reviews</th>\n",
       "      <th>ratings</th>\n",
       "      <th>nb_image</th>\n",
       "      <th>a_plus</th>\n",
       "      <th>description_score</th>\n",
       "      <th>nb_bullets_points</th>\n",
       "      <th>image_score</th>\n",
       "      <th>sales</th>\n",
       "    </tr>\n",
       "    <tr>\n",
       "      <th>dates</th>\n",
       "      <th></th>\n",
       "      <th></th>\n",
       "      <th></th>\n",
       "      <th></th>\n",
       "      <th></th>\n",
       "      <th></th>\n",
       "      <th></th>\n",
       "      <th></th>\n",
       "      <th></th>\n",
       "      <th></th>\n",
       "      <th></th>\n",
       "      <th></th>\n",
       "    </tr>\n",
       "  </thead>\n",
       "  <tbody>\n",
       "    <tr>\n",
       "      <th>2021-01-02</th>\n",
       "      <td>dog dental chews</td>\n",
       "      <td>0.0</td>\n",
       "      <td>21.0</td>\n",
       "      <td>36.34</td>\n",
       "      <td>168.0</td>\n",
       "      <td>4.336569</td>\n",
       "      <td>5.0</td>\n",
       "      <td>1.0</td>\n",
       "      <td>0.429192</td>\n",
       "      <td>2.0</td>\n",
       "      <td>0.524923</td>\n",
       "      <td>35.0</td>\n",
       "    </tr>\n",
       "    <tr>\n",
       "      <th>2021-01-03</th>\n",
       "      <td>dog dental chews</td>\n",
       "      <td>0.0</td>\n",
       "      <td>37.0</td>\n",
       "      <td>36.34</td>\n",
       "      <td>168.0</td>\n",
       "      <td>4.336065</td>\n",
       "      <td>5.0</td>\n",
       "      <td>1.0</td>\n",
       "      <td>0.421836</td>\n",
       "      <td>2.0</td>\n",
       "      <td>0.524923</td>\n",
       "      <td>10.0</td>\n",
       "    </tr>\n",
       "    <tr>\n",
       "      <th>2021-01-04</th>\n",
       "      <td>dog dental chews</td>\n",
       "      <td>0.0</td>\n",
       "      <td>11.0</td>\n",
       "      <td>36.34</td>\n",
       "      <td>168.0</td>\n",
       "      <td>4.322506</td>\n",
       "      <td>5.0</td>\n",
       "      <td>1.0</td>\n",
       "      <td>0.488681</td>\n",
       "      <td>2.0</td>\n",
       "      <td>0.524923</td>\n",
       "      <td>16.0</td>\n",
       "    </tr>\n",
       "    <tr>\n",
       "      <th>2021-01-05</th>\n",
       "      <td>dog dental chews</td>\n",
       "      <td>0.0</td>\n",
       "      <td>14.0</td>\n",
       "      <td>36.34</td>\n",
       "      <td>168.0</td>\n",
       "      <td>4.334201</td>\n",
       "      <td>5.0</td>\n",
       "      <td>1.0</td>\n",
       "      <td>0.620089</td>\n",
       "      <td>2.0</td>\n",
       "      <td>0.524923</td>\n",
       "      <td>29.0</td>\n",
       "    </tr>\n",
       "    <tr>\n",
       "      <th>2021-01-06</th>\n",
       "      <td>dog dental chews</td>\n",
       "      <td>0.0</td>\n",
       "      <td>41.0</td>\n",
       "      <td>36.34</td>\n",
       "      <td>168.0</td>\n",
       "      <td>4.326861</td>\n",
       "      <td>5.0</td>\n",
       "      <td>1.0</td>\n",
       "      <td>0.471951</td>\n",
       "      <td>2.0</td>\n",
       "      <td>0.524923</td>\n",
       "      <td>11.0</td>\n",
       "    </tr>\n",
       "  </tbody>\n",
       "</table>\n",
       "</div>"
      ],
      "text/plain": [
       "                     keyword  product_id  ranks  price  reviews   ratings  \\\n",
       "dates                                                                       \n",
       "2021-01-02  dog dental chews         0.0   21.0  36.34    168.0  4.336569   \n",
       "2021-01-03  dog dental chews         0.0   37.0  36.34    168.0  4.336065   \n",
       "2021-01-04  dog dental chews         0.0   11.0  36.34    168.0  4.322506   \n",
       "2021-01-05  dog dental chews         0.0   14.0  36.34    168.0  4.334201   \n",
       "2021-01-06  dog dental chews         0.0   41.0  36.34    168.0  4.326861   \n",
       "\n",
       "            nb_image  a_plus  description_score  nb_bullets_points  \\\n",
       "dates                                                                \n",
       "2021-01-02       5.0     1.0           0.429192                2.0   \n",
       "2021-01-03       5.0     1.0           0.421836                2.0   \n",
       "2021-01-04       5.0     1.0           0.488681                2.0   \n",
       "2021-01-05       5.0     1.0           0.620089                2.0   \n",
       "2021-01-06       5.0     1.0           0.471951                2.0   \n",
       "\n",
       "            image_score  sales  \n",
       "dates                           \n",
       "2021-01-02     0.524923   35.0  \n",
       "2021-01-03     0.524923   10.0  \n",
       "2021-01-04     0.524923   16.0  \n",
       "2021-01-05     0.524923   29.0  \n",
       "2021-01-06     0.524923   11.0  "
      ]
     },
     "execution_count": 66,
     "metadata": {},
     "output_type": "execute_result"
    }
   ],
   "source": [
    "# to explicitly convert the date column to type DATETIME\n",
    "data['dates'] = pd.to_datetime(data['dates'])\n",
    "data = data.set_index('dates')\n",
    "data.head()"
   ]
  },
  {
   "cell_type": "markdown",
   "metadata": {},
   "source": [
    "# Data normalization"
   ]
  },
  {
   "cell_type": "code",
   "execution_count": 67,
   "metadata": {},
   "outputs": [
    {
     "data": {
      "text/plain": [
       "(836239,)"
      ]
     },
     "execution_count": 67,
     "metadata": {},
     "output_type": "execute_result"
    }
   ],
   "source": [
    "#Data normalization\n",
    "X=data.drop(['keyword','sales'], axis=1)\n",
    "y = data['sales']\n",
    "X.shape\n",
    "y.shape"
   ]
  },
  {
   "cell_type": "code",
   "execution_count": 68,
   "metadata": {},
   "outputs": [
    {
     "data": {
      "text/plain": [
       "(836239,)"
      ]
     },
     "execution_count": 68,
     "metadata": {},
     "output_type": "execute_result"
    }
   ],
   "source": [
    "X=data.drop(['keyword','sales'], axis=1)\n",
    "y = data['sales']\n",
    "X.shape\n",
    "y.shape"
   ]
  },
  {
   "cell_type": "code",
   "execution_count": 69,
   "metadata": {},
   "outputs": [],
   "source": [
    "from sklearn.preprocessing import MinMaxScaler\n",
    "scaler = MinMaxScaler()\n",
    "X_scaled = scaler.fit_transform(X)\n",
    "y=y.values.reshape(-1,1)\n",
    "y_scaled = scaler.fit_transform(y)"
   ]
  },
  {
   "cell_type": "code",
   "execution_count": 70,
   "metadata": {},
   "outputs": [
    {
     "data": {
      "text/plain": [
       "(836239, 1)"
      ]
     },
     "execution_count": 70,
     "metadata": {},
     "output_type": "execute_result"
    }
   ],
   "source": [
    "y_scaled.shape"
   ]
  },
  {
   "cell_type": "markdown",
   "metadata": {},
   "source": [
    "To print all performance metrics relevant to a regression task (such as MAE and R-square), we will be defining the regression_results function."
   ]
  },
  {
   "cell_type": "code",
   "execution_count": 71,
   "metadata": {},
   "outputs": [],
   "source": [
    "import sklearn.metrics as metrics\n",
    "def regression_results(y_true, y_pred):\n",
    "    # Regression metrics\n",
    "    explained_variance=metrics.explained_variance_score(y_true, y_pred)\n",
    "    mean_absolute_error=metrics.mean_absolute_error(y_true, y_pred) \n",
    "    mse=metrics.mean_squared_error(y_true, y_pred) \n",
    "    mean_squared_log_error=metrics.mean_squared_log_error(y_true, y_pred)\n",
    "    median_absolute_error=metrics.median_absolute_error(y_true, y_pred)\n",
    "    r2=metrics.r2_score(y_true, y_pred)\n",
    "    print('explained_variance: ', round(explained_variance,4))    \n",
    "    print('mean_squared_log_error: ', round(mean_squared_log_error,4))\n",
    "    print('r2: ', round(r2,4))\n",
    "    print('MAE: ', round(mean_absolute_error,4))\n",
    "    print('MSE: ', round(mse,4))\n",
    "    print('RMSE: ', round(np.sqrt(mse),4))"
   ]
  },
  {
   "cell_type": "markdown",
   "metadata": {},
   "source": [
    "a simplistic model, one that predicts today’s consumption value based on\n",
    "yesterday’s consumption value and;\n",
    "difference between yesterday and the day before yesterday’s consumption value."
   ]
  },
  {
   "cell_type": "code",
   "execution_count": 72,
   "metadata": {},
   "outputs": [
    {
     "name": "stderr",
     "output_type": "stream",
     "text": [
      "C:\\ProgramData\\Anaconda3\\lib\\site-packages\\pandas\\core\\indexing.py:1596: SettingWithCopyWarning: \n",
      "A value is trying to be set on a copy of a slice from a DataFrame.\n",
      "Try using .loc[row_indexer,col_indexer] = value instead\n",
      "\n",
      "See the caveats in the documentation: https://pandas.pydata.org/pandas-docs/stable/user_guide/indexing.html#returning-a-view-versus-a-copy\n",
      "  self.obj[key] = _infer_fill_value(value)\n",
      "C:\\ProgramData\\Anaconda3\\lib\\site-packages\\pandas\\core\\indexing.py:1783: SettingWithCopyWarning: \n",
      "A value is trying to be set on a copy of a slice from a DataFrame.\n",
      "Try using .loc[row_indexer,col_indexer] = value instead\n",
      "\n",
      "See the caveats in the documentation: https://pandas.pydata.org/pandas-docs/stable/user_guide/indexing.html#returning-a-view-versus-a-copy\n",
      "  self.obj[item_labels[indexer[info_axis]]] = value\n"
     ]
    }
   ],
   "source": [
    "# creating new dataframe from consumption column\n",
    "data_consumption = data[['sales']]\n",
    "# inserting new column with yesterday's consumption values\n",
    "data_consumption.loc[:,'Yesterday'] = data_consumption.loc[:,'sales'].shift()\n",
    "# inserting another column with difference between yesterday and day before yesterday's consumption values.\n",
    "data_consumption.loc[:,'Yesterday_Diff'] = data_consumption.loc[:,'Yesterday'].diff()\n",
    "# dropping NAs\n",
    "data_consumption = data_consumption.dropna()"
   ]
  },
  {
   "cell_type": "code",
   "execution_count": 73,
   "metadata": {},
   "outputs": [
    {
     "data": {
      "text/html": [
       "<div>\n",
       "<style scoped>\n",
       "    .dataframe tbody tr th:only-of-type {\n",
       "        vertical-align: middle;\n",
       "    }\n",
       "\n",
       "    .dataframe tbody tr th {\n",
       "        vertical-align: top;\n",
       "    }\n",
       "\n",
       "    .dataframe thead th {\n",
       "        text-align: right;\n",
       "    }\n",
       "</style>\n",
       "<table border=\"1\" class=\"dataframe\">\n",
       "  <thead>\n",
       "    <tr style=\"text-align: right;\">\n",
       "      <th></th>\n",
       "      <th>sales</th>\n",
       "      <th>Yesterday</th>\n",
       "      <th>Yesterday_Diff</th>\n",
       "    </tr>\n",
       "    <tr>\n",
       "      <th>dates</th>\n",
       "      <th></th>\n",
       "      <th></th>\n",
       "      <th></th>\n",
       "    </tr>\n",
       "  </thead>\n",
       "  <tbody>\n",
       "    <tr>\n",
       "      <th>2021-02-24</th>\n",
       "      <td>94.0</td>\n",
       "      <td>94.0</td>\n",
       "      <td>0.0</td>\n",
       "    </tr>\n",
       "    <tr>\n",
       "      <th>2021-02-25</th>\n",
       "      <td>94.0</td>\n",
       "      <td>94.0</td>\n",
       "      <td>0.0</td>\n",
       "    </tr>\n",
       "    <tr>\n",
       "      <th>2021-02-26</th>\n",
       "      <td>94.0</td>\n",
       "      <td>94.0</td>\n",
       "      <td>0.0</td>\n",
       "    </tr>\n",
       "    <tr>\n",
       "      <th>2021-02-27</th>\n",
       "      <td>94.0</td>\n",
       "      <td>94.0</td>\n",
       "      <td>0.0</td>\n",
       "    </tr>\n",
       "    <tr>\n",
       "      <th>2021-02-28</th>\n",
       "      <td>94.0</td>\n",
       "      <td>94.0</td>\n",
       "      <td>0.0</td>\n",
       "    </tr>\n",
       "  </tbody>\n",
       "</table>\n",
       "</div>"
      ],
      "text/plain": [
       "            sales  Yesterday  Yesterday_Diff\n",
       "dates                                       \n",
       "2021-02-24   94.0       94.0             0.0\n",
       "2021-02-25   94.0       94.0             0.0\n",
       "2021-02-26   94.0       94.0             0.0\n",
       "2021-02-27   94.0       94.0             0.0\n",
       "2021-02-28   94.0       94.0             0.0"
      ]
     },
     "execution_count": 73,
     "metadata": {},
     "output_type": "execute_result"
    }
   ],
   "source": [
    "data_consumption.tail()\n",
    "#len(data_consumption.sales)"
   ]
  },
  {
   "cell_type": "code",
   "execution_count": 74,
   "metadata": {},
   "outputs": [
    {
     "name": "stdout",
     "output_type": "stream",
     "text": [
      "            sales  Yesterday  Yesterday_Diff\n",
      "dates                                       \n",
      "2021-02-01   23.0       23.0            -3.0\n",
      "2021-02-04   23.0       23.0             0.0\n",
      "2021-02-05   23.0       23.0             0.0\n",
      "2021-02-06   25.0       23.0             0.0\n",
      "2021-02-08   53.0       25.0             2.0\n",
      "...           ...        ...             ...\n",
      "2021-02-24   94.0       94.0             0.0\n",
      "2021-02-25   94.0       94.0             0.0\n",
      "2021-02-26   94.0       94.0             0.0\n",
      "2021-02-27   94.0       94.0             0.0\n",
      "2021-02-28   94.0       94.0             0.0\n",
      "\n",
      "[396835 rows x 3 columns]\n"
     ]
    }
   ],
   "source": [
    "print(data_consumption.loc['2021-02-01':])"
   ]
  },
  {
   "cell_type": "markdown",
   "metadata": {},
   "source": [
    "# Defining training and test sets"
   ]
  },
  {
   "cell_type": "code",
   "execution_count": 75,
   "metadata": {},
   "outputs": [],
   "source": [
    "X_train = data_consumption.loc['2021-01-01':'2021-01-24'].drop(['sales'], axis = 1)\n",
    "y_train = data_consumption.loc['2021-01-01':'2021-01-24', 'sales']\n",
    "X_test = data_consumption.loc['2021-02-01':].drop(['sales'], axis = 1)\n",
    "y_test = data_consumption.loc['2021-02-01':, 'sales']\n",
    "\n",
    "\n",
    "# X_train = data_consumption[:'2016'].drop(['Consumption'], axis = 1)\n",
    "# y_train = data_consumption.loc[:'2016', 'Consumption']\n",
    "# X_test = data_consumption['2017'].drop(['Consumption'], axis = 1)\n",
    "# y_test = data_consumption.loc['2017', 'Consumption']"
   ]
  },
  {
   "cell_type": "markdown",
   "metadata": {},
   "source": [
    "# Scaling"
   ]
  },
  {
   "cell_type": "code",
   "execution_count": 76,
   "metadata": {},
   "outputs": [],
   "source": [
    "scaler_data = MinMaxScaler()\n",
    "X_train_scaled= scaler.fit_transform(X_train)\n",
    "y=y_train.values.reshape(-1,1)\n",
    "y_train_scaled = scaler.fit_transform(y)"
   ]
  },
  {
   "cell_type": "markdown",
   "metadata": {},
   "source": [
    "# Different alogorithm for regression over sales"
   ]
  },
  {
   "cell_type": "code",
   "execution_count": 77,
   "metadata": {},
   "outputs": [],
   "source": [
    "from sklearn.model_selection import TimeSeriesSplit\n",
    "from sklearn.linear_model import LinearRegression\n",
    "from sklearn.neural_network import MLPRegressor\n",
    "from sklearn.neighbors import KNeighborsRegressor\n",
    "from sklearn.ensemble import RandomForestRegressor\n",
    "from sklearn.svm import SVR\n",
    "from sklearn.model_selection import cross_val_score"
   ]
  },
  {
   "cell_type": "code",
   "execution_count": null,
   "metadata": {},
   "outputs": [],
   "source": [
    "# Spot Check Algorithms\n",
    "models = []\n",
    "models.append(('LR', LinearRegression()))\n",
    "models.append(('NN', MLPRegressor(solver = 'lbfgs')))  #neural network\n",
    "models.append(('KNN', KNeighborsRegressor())) \n",
    "models.append(('RF', RandomForestRegressor(n_estimators = 10))) # Ensemble method - collection of many decision trees\n",
    "#models.append(('SVR', SVR(gamma='auto'))) # kernel = linear\n",
    "# Evaluate each model in turn\n",
    "results = []\n",
    "names = []\n",
    "for name, model in models:\n",
    "    # TimeSeries Cross validation\n",
    " tscv = TimeSeriesSplit(n_splits=10)\n",
    "    \n",
    " cv_results = cross_val_score(model, X_train_scaled, y_train_scaled.ravel(), cv=tscv, scoring='r2')\n",
    " results.append(cv_results)\n",
    " names.append(name)\n",
    " print('%s: %f (%f)' % (name, cv_results.mean(), cv_results.std()))\n",
    "    \n",
    "# Compare Algorithms\n",
    "plt.boxplot(results, labels=names)\n",
    "plt.title('Algorithm Comparison')\n",
    "plt.show()"
   ]
  },
  {
   "cell_type": "markdown",
   "metadata": {},
   "source": [
    "Up until now, we have been using values at (t-1)th day to predict values on t date. Now, let us also use values from (t-2)days to predict sales:"
   ]
  },
  {
   "cell_type": "markdown",
   "metadata": {},
   "source": [
    "# (t-2)days model"
   ]
  },
  {
   "cell_type": "code",
   "execution_count": null,
   "metadata": {},
   "outputs": [],
   "source": [
    "# creating copy of original dataframe\n",
    "data_consumption_2o = data_consumption.copy()\n",
    "# inserting column with yesterday-1 values\n",
    "data_consumption_2o['Yesterday-1'] = data_consumption_2o['Yesterday'].shift()\n",
    "# inserting column with difference in yesterday-1 and yesterday-2 values.\n",
    "data_consumption_2o['Yesterday-1_Diff'] = data_consumption_2o['Yesterday-1'].diff()\n",
    "# dropping NAs\n",
    "data_consumption_2o = data_consumption_2o.dropna()"
   ]
  },
  {
   "cell_type": "code",
   "execution_count": null,
   "metadata": {},
   "outputs": [],
   "source": [
    "data_consumption_2o.head()"
   ]
  },
  {
   "cell_type": "markdown",
   "metadata": {},
   "source": [
    "# Reseting test train sets"
   ]
  },
  {
   "cell_type": "code",
   "execution_count": null,
   "metadata": {},
   "outputs": [],
   "source": [
    "X_train_2o = data_consumption_2o.loc['2021-01-04':'2021-02-14'].drop(['sales'], axis = 1)\n",
    "y_train_2o = data_consumption_2o.loc['2021-01-04':'2021-02-14', 'sales']\n",
    "X_test = data_consumption_2o.loc['2021-02-14':].drop(['sales'], axis = 1)\n",
    "y_test = data_consumption_2o.loc['2021-02-14':, 'sales']"
   ]
  },
  {
   "cell_type": "code",
   "execution_count": null,
   "metadata": {},
   "outputs": [],
   "source": [
    "scaler_data_2o = MinMaxScaler()\n",
    "X_train_scaled_2o= scaler.fit_transform(X_train_2o)\n",
    "y=y_train_2o.values.reshape(-1,1)\n",
    "y_train_scaled_2o = scaler.fit_transform(y)"
   ]
  },
  {
   "cell_type": "markdown",
   "metadata": {},
   "source": [
    "# Scaling"
   ]
  },
  {
   "cell_type": "code",
   "execution_count": null,
   "metadata": {},
   "outputs": [],
   "source": [
    "X = data_consumption_2o.drop(['sales'], axis=1)\n",
    "y = data_consumption_2o['sales']\n",
    "\n",
    "scaler_data_2o = MinMaxScaler()\n",
    "X = scaler_data_2o.fit_transform(X)\n",
    "y = y.values.reshape(-1,1)\n",
    "y = scaler.fit_transform(y)"
   ]
  },
  {
   "cell_type": "markdown",
   "metadata": {},
   "source": [
    "# NN ML perceptron algo"
   ]
  },
  {
   "cell_type": "code",
   "execution_count": null,
   "metadata": {},
   "outputs": [],
   "source": [
    "from sklearn.neural_network import MLPRegressor\n",
    "from sklearn.datasets import make_regression\n",
    "from sklearn.model_selection import train_test_split\n",
    "\n",
    "X, y = make_regression(n_samples=1000, random_state=1)\n",
    "\n",
    "#train test split\n",
    "X_train, X_test, y_train, y_test = train_test_split(X, y,\n",
    "                                                    random_state=1)\n",
    "\n",
    "regr = MLPRegressor(random_state=1, max_iter=5000).fit(X_train, y_train)\n",
    "regr.predict(X_test[:2])\n",
    "\n",
    "regr.score(X_test, y_test)"
   ]
  },
  {
   "cell_type": "code",
   "execution_count": null,
   "metadata": {},
   "outputs": [],
   "source": [
    "y_test.shape"
   ]
  },
  {
   "cell_type": "code",
   "execution_count": null,
   "metadata": {},
   "outputs": [],
   "source": [
    "y_pred_NN.shape"
   ]
  },
  {
   "cell_type": "code",
   "execution_count": null,
   "metadata": {},
   "outputs": [],
   "source": [
    "from sklearn.neural_network import MLPRegressor\n",
    "from sklearn.datasets import make_regression\n",
    "from sklearn.model_selection import train_test_split\n",
    "\n",
    "X, y = make_regression(n_samples=1000, random_state=1)\n",
    "\n",
    "#train test split\n",
    "X_train, X_test, y_train, y_test = train_test_split(X, y, test_size=0.66,\n",
    "                                                    random_state=1)\n",
    "\n",
    "regr = MLPRegressor(random_state=1, max_iter=5000).fit(X_train, y_train)\n",
    "regr.predict(X_test[:2])\n",
    "\n",
    "regr.score(X_test, y_test)"
   ]
  },
  {
   "cell_type": "code",
   "execution_count": null,
   "metadata": {},
   "outputs": [],
   "source": []
  },
  {
   "cell_type": "markdown",
   "metadata": {},
   "source": [
    "# Linear regression model"
   ]
  },
  {
   "cell_type": "code",
   "execution_count": null,
   "metadata": {},
   "outputs": [],
   "source": [
    "from sklearn.linear_model import LinearRegression\n",
    "#scaling\n",
    "X = data_consumption_2o.drop(['sales'], axis=1)\n",
    "y = data_consumption_2o['sales']\n",
    "\n",
    "scaler_data_2o = MinMaxScaler()\n",
    "X = scaler_data_2o.fit_transform(X)\n",
    "y = y.values.reshape(-1,1)\n",
    "y = scaler.fit_transform(y)\n",
    "\n",
    "#train test split\n",
    "X_train, X_test, y_train, y_test = train_test_split(X, y, test_size=0.66,\n",
    "                                                    random_state=1)\n",
    "\n",
    "\n",
    "reg = LinearRegression().fit(X, y)\n",
    "reg.score(X, y)\n"
   ]
  },
  {
   "cell_type": "code",
   "execution_count": null,
   "metadata": {},
   "outputs": [],
   "source": [
    "reg.coef_"
   ]
  },
  {
   "cell_type": "code",
   "execution_count": null,
   "metadata": {},
   "outputs": [],
   "source": [
    "reg.intercept_"
   ]
  },
  {
   "cell_type": "code",
   "execution_count": null,
   "metadata": {},
   "outputs": [],
   "source": [
    "reg.predict(X_test)"
   ]
  },
  {
   "cell_type": "markdown",
   "metadata": {},
   "source": [
    "# Simple Moving Average"
   ]
  },
  {
   "cell_type": "code",
   "execution_count": 79,
   "metadata": {},
   "outputs": [
    {
     "data": {
      "text/html": [
       "<div>\n",
       "<style scoped>\n",
       "    .dataframe tbody tr th:only-of-type {\n",
       "        vertical-align: middle;\n",
       "    }\n",
       "\n",
       "    .dataframe tbody tr th {\n",
       "        vertical-align: top;\n",
       "    }\n",
       "\n",
       "    .dataframe thead th {\n",
       "        text-align: right;\n",
       "    }\n",
       "</style>\n",
       "<table border=\"1\" class=\"dataframe\">\n",
       "  <thead>\n",
       "    <tr style=\"text-align: right;\">\n",
       "      <th></th>\n",
       "      <th>ds</th>\n",
       "      <th>y</th>\n",
       "    </tr>\n",
       "  </thead>\n",
       "  <tbody>\n",
       "    <tr>\n",
       "      <th>0</th>\n",
       "      <td>2021-01-01</td>\n",
       "      <td>14134</td>\n",
       "    </tr>\n",
       "    <tr>\n",
       "      <th>1</th>\n",
       "      <td>2021-01-02</td>\n",
       "      <td>14179</td>\n",
       "    </tr>\n",
       "    <tr>\n",
       "      <th>2</th>\n",
       "      <td>2021-01-03</td>\n",
       "      <td>14139</td>\n",
       "    </tr>\n",
       "    <tr>\n",
       "      <th>3</th>\n",
       "      <td>2021-01-04</td>\n",
       "      <td>14335</td>\n",
       "    </tr>\n",
       "    <tr>\n",
       "      <th>4</th>\n",
       "      <td>2021-01-05</td>\n",
       "      <td>14139</td>\n",
       "    </tr>\n",
       "  </tbody>\n",
       "</table>\n",
       "</div>"
      ],
      "text/plain": [
       "          ds      y\n",
       "0 2021-01-01  14134\n",
       "1 2021-01-02  14179\n",
       "2 2021-01-03  14139\n",
       "3 2021-01-04  14335\n",
       "4 2021-01-05  14139"
      ]
     },
     "execution_count": 79,
     "metadata": {},
     "output_type": "execute_result"
    }
   ],
   "source": [
    "dataHawk_prophet_df_final.head()"
   ]
  },
  {
   "cell_type": "code",
   "execution_count": 81,
   "metadata": {
    "scrolled": true
   },
   "outputs": [
    {
     "data": {
      "text/plain": [
       "Text(0.5, 1.0, 'The distribution of diff')"
      ]
     },
     "execution_count": 81,
     "metadata": {},
     "output_type": "execute_result"
    },
    {
     "data": {
      "image/png": "[encoded data removed]",
      "text/plain": [
       "<Figure size 432x288 with 1 Axes>"
      ]
     },
     "metadata": {
      "needs_background": "light"
     },
     "output_type": "display_data"
    },
    {
     "data": {
      "image/png": "[encoded data removed]",
      "text/plain": [
       "<Figure size 432x288 with 1 Axes>"
      ]
     },
     "metadata": {
      "needs_background": "light"
     },
     "output_type": "display_data"
    }
   ],
   "source": [
    "dataHawk_prophet_df_final['SMA'] = dataHawk_prophet_df_final.iloc[:,1].rolling(window=10).mean()\n",
    "dataHawk_prophet_df_final['diff'] = dataHawk_prophet_df_final['y'] - dataHawk_prophet_df_final['SMA']\n",
    "dataHawk_prophet_df_final[['y','SMA']].plot()\n",
    "plt.figure()\n",
    "dataHawk_prophet_df_final['diff'].hist()\n",
    "plt.title('The distribution of diff')"
   ]
  },
  {
   "cell_type": "code",
   "execution_count": 82,
   "metadata": {},
   "outputs": [
    {
     "data": {
      "text/html": [
       "<div>\n",
       "<style scoped>\n",
       "    .dataframe tbody tr th:only-of-type {\n",
       "        vertical-align: middle;\n",
       "    }\n",
       "\n",
       "    .dataframe tbody tr th {\n",
       "        vertical-align: top;\n",
       "    }\n",
       "\n",
       "    .dataframe thead th {\n",
       "        text-align: right;\n",
       "    }\n",
       "</style>\n",
       "<table border=\"1\" class=\"dataframe\">\n",
       "  <thead>\n",
       "    <tr style=\"text-align: right;\">\n",
       "      <th></th>\n",
       "      <th>ds</th>\n",
       "      <th>y</th>\n",
       "      <th>SMA</th>\n",
       "      <th>diff</th>\n",
       "      <th>upper</th>\n",
       "      <th>lower</th>\n",
       "    </tr>\n",
       "  </thead>\n",
       "  <tbody>\n",
       "    <tr>\n",
       "      <th>10</th>\n",
       "      <td>2021-01-11</td>\n",
       "      <td>14239</td>\n",
       "      <td>14182.0</td>\n",
       "      <td>57.0</td>\n",
       "      <td>16182.0</td>\n",
       "      <td>12182.0</td>\n",
       "    </tr>\n",
       "    <tr>\n",
       "      <th>11</th>\n",
       "      <td>2021-01-12</td>\n",
       "      <td>14135</td>\n",
       "      <td>14177.6</td>\n",
       "      <td>-42.6</td>\n",
       "      <td>16177.6</td>\n",
       "      <td>12177.6</td>\n",
       "    </tr>\n",
       "    <tr>\n",
       "      <th>12</th>\n",
       "      <td>2021-01-13</td>\n",
       "      <td>14160</td>\n",
       "      <td>14179.7</td>\n",
       "      <td>-19.7</td>\n",
       "      <td>16179.7</td>\n",
       "      <td>12179.7</td>\n",
       "    </tr>\n",
       "    <tr>\n",
       "      <th>13</th>\n",
       "      <td>2021-01-14</td>\n",
       "      <td>14298</td>\n",
       "      <td>14176.0</td>\n",
       "      <td>122.0</td>\n",
       "      <td>16176.0</td>\n",
       "      <td>12176.0</td>\n",
       "    </tr>\n",
       "    <tr>\n",
       "      <th>14</th>\n",
       "      <td>2021-01-15</td>\n",
       "      <td>14151</td>\n",
       "      <td>14177.2</td>\n",
       "      <td>-26.2</td>\n",
       "      <td>16177.2</td>\n",
       "      <td>12177.2</td>\n",
       "    </tr>\n",
       "    <tr>\n",
       "      <th>15</th>\n",
       "      <td>2021-01-16</td>\n",
       "      <td>14095</td>\n",
       "      <td>14171.9</td>\n",
       "      <td>-76.9</td>\n",
       "      <td>16171.9</td>\n",
       "      <td>12171.9</td>\n",
       "    </tr>\n",
       "    <tr>\n",
       "      <th>16</th>\n",
       "      <td>2021-01-17</td>\n",
       "      <td>14271</td>\n",
       "      <td>14185.3</td>\n",
       "      <td>85.7</td>\n",
       "      <td>16185.3</td>\n",
       "      <td>12185.3</td>\n",
       "    </tr>\n",
       "    <tr>\n",
       "      <th>17</th>\n",
       "      <td>2021-01-18</td>\n",
       "      <td>14103</td>\n",
       "      <td>14187.0</td>\n",
       "      <td>-84.0</td>\n",
       "      <td>16187.0</td>\n",
       "      <td>12187.0</td>\n",
       "    </tr>\n",
       "    <tr>\n",
       "      <th>18</th>\n",
       "      <td>2021-01-19</td>\n",
       "      <td>14186</td>\n",
       "      <td>14184.7</td>\n",
       "      <td>1.3</td>\n",
       "      <td>16184.7</td>\n",
       "      <td>12184.7</td>\n",
       "    </tr>\n",
       "    <tr>\n",
       "      <th>19</th>\n",
       "      <td>2021-01-20</td>\n",
       "      <td>14215</td>\n",
       "      <td>14185.3</td>\n",
       "      <td>29.7</td>\n",
       "      <td>16185.3</td>\n",
       "      <td>12185.3</td>\n",
       "    </tr>\n",
       "  </tbody>\n",
       "</table>\n",
       "</div>"
      ],
      "text/plain": [
       "           ds      y      SMA   diff    upper    lower\n",
       "10 2021-01-11  14239  14182.0   57.0  16182.0  12182.0\n",
       "11 2021-01-12  14135  14177.6  -42.6  16177.6  12177.6\n",
       "12 2021-01-13  14160  14179.7  -19.7  16179.7  12179.7\n",
       "13 2021-01-14  14298  14176.0  122.0  16176.0  12176.0\n",
       "14 2021-01-15  14151  14177.2  -26.2  16177.2  12177.2\n",
       "15 2021-01-16  14095  14171.9  -76.9  16171.9  12171.9\n",
       "16 2021-01-17  14271  14185.3   85.7  16185.3  12185.3\n",
       "17 2021-01-18  14103  14187.0  -84.0  16187.0  12187.0\n",
       "18 2021-01-19  14186  14184.7    1.3  16184.7  12184.7\n",
       "19 2021-01-20  14215  14185.3   29.7  16185.3  12185.3"
      ]
     },
     "execution_count": 82,
     "metadata": {},
     "output_type": "execute_result"
    }
   ],
   "source": [
    "dataHawk_prophet_df_final['upper'] = dataHawk_prophet_df_final['SMA'] + 2000\n",
    "dataHawk_prophet_df_final['lower'] = dataHawk_prophet_df_final['SMA'] - 2000\n",
    "dataHawk_prophet_df_final[10:20]"
   ]
  },
  {
   "cell_type": "code",
   "execution_count": 83,
   "metadata": {},
   "outputs": [
    {
     "data": {
      "image/png": "[encoded data removed]",
      "text/plain": [
       "<Figure size 432x288 with 1 Axes>"
      ]
     },
     "metadata": {
      "needs_background": "light"
     },
     "output_type": "display_data"
    }
   ],
   "source": [
    "def plot_it():\n",
    "    plt.plot(dataHawk_prophet_df_final['y'],'go',markersize=2,label='Actual')\n",
    "    plt.fill_between(\n",
    "       np.arange(dataHawk_prophet_df_final.shape[0]), dataHawk_prophet_df_final['lower'], dataHawk_prophet_df_final['upper'], alpha=0.5, color=\"r\",\n",
    "       label=\"Predicted interval\")\n",
    "    plt.xlabel(\"Ordered samples.\")\n",
    "    plt.ylabel(\"Values and prediction intervals.\")\n",
    "    plt.show()\n",
    "    \n",
    "plot_it()"
   ]
  },
  {
   "cell_type": "markdown",
   "metadata": {},
   "source": [
    "# Exponential Smoothing"
   ]
  },
  {
   "cell_type": "code",
   "execution_count": 84,
   "metadata": {},
   "outputs": [
    {
     "name": "stderr",
     "output_type": "stream",
     "text": [
      "C:\\ProgramData\\Anaconda3\\lib\\site-packages\\statsmodels\\tsa\\holtwinters\\model.py:427: FutureWarning: After 0.13 initialization must be handled at model creation\n",
      "  warnings.warn(\n"
     ]
    },
    {
     "data": {
      "text/plain": [
       "<AxesSubplot:>"
      ]
     },
     "execution_count": 84,
     "metadata": {},
     "output_type": "execute_result"
    },
    {
     "data": {
      "image/png": "[encoded data removed]",
      "text/plain": [
       "<Figure size 432x288 with 1 Axes>"
      ]
     },
     "metadata": {
      "needs_background": "light"
     },
     "output_type": "display_data"
    }
   ],
   "source": [
    "from statsmodels.tsa.api import SimpleExpSmoothing\n",
    "\n",
    "EMAfit = SimpleExpSmoothing(dataHawk_prophet_df_final['y']).fit(smoothing_level=0.2,optimized=False)\n",
    "EMA = EMAfit.forecast(3).rename(r'$\\alpha=0.2$')\n",
    "dataHawk_prophet_df_final['EMA'] = EMAfit.predict(start = 0)\n",
    "dataHawk_prophet_df_final['diff'] = dataHawk_prophet_df_final['y'] - dataHawk_prophet_df_final['EMA']\n",
    "dataHawk_prophet_df_final[['y','EMA']].plot()"
   ]
  },
  {
   "cell_type": "code",
   "execution_count": 85,
   "metadata": {},
   "outputs": [
    {
     "data": {
      "image/png": "[encoded data removed]",
      "text/plain": [
       "<Figure size 432x288 with 1 Axes>"
      ]
     },
     "metadata": {
      "needs_background": "light"
     },
     "output_type": "display_data"
    }
   ],
   "source": [
    "dataHawk_prophet_df_final['upper'] = dataHawk_prophet_df_final['EMA'] + 2000\n",
    "dataHawk_prophet_df_final['lower'] = dataHawk_prophet_df_final['EMA'] - 2000\n",
    "plot_it()"
   ]
  },
  {
   "cell_type": "markdown",
   "metadata": {},
   "source": [
    "#  Seasonal-Trend Decomposition (STD)"
   ]
  },
  {
   "cell_type": "code",
   "execution_count": 86,
   "metadata": {},
   "outputs": [
    {
     "data": {
      "text/plain": [
       "<AxesSubplot:xlabel='ds'>"
      ]
     },
     "execution_count": 86,
     "metadata": {},
     "output_type": "execute_result"
    },
    {
     "data": {
      "image/png": "[encoded data removed]",
      "text/plain": [
       "<Figure size 432x288 with 1 Axes>"
      ]
     },
     "metadata": {
      "needs_background": "light"
     },
     "output_type": "display_data"
    }
   ],
   "source": [
    "import pandas as pd\n",
    "import statsmodels.api as sm\n",
    "\n",
    "dataHawk_prophet_df_final = dataHawk_prophet_df_final.reset_index(drop='index') #inplace=True)\n",
    "dataHawk_prophet_df_final.index = pd.to_datetime(dataHawk_prophet_df_final['ds'])\n",
    "\n",
    "result = sm.tsa.seasonal_decompose(dataHawk_prophet_df_final['y'], model='additive')\n",
    "result.trend[1:200].plot()"
   ]
  },
  {
   "cell_type": "code",
   "execution_count": 87,
   "metadata": {},
   "outputs": [
    {
     "data": {
      "text/plain": [
       "<AxesSubplot:xlabel='ds'>"
      ]
     },
     "execution_count": 87,
     "metadata": {},
     "output_type": "execute_result"
    },
    {
     "data": {
      "image/png": "[encoded data removed]",
      "text/plain": [
       "<Figure size 432x288 with 1 Axes>"
      ]
     },
     "metadata": {
      "needs_background": "light"
     },
     "output_type": "display_data"
    }
   ],
   "source": [
    "result.seasonal[1:100].plot()"
   ]
  },
  {
   "cell_type": "code",
   "execution_count": 88,
   "metadata": {},
   "outputs": [
    {
     "data": {
      "text/plain": [
       "<AxesSubplot:xlabel='ds'>"
      ]
     },
     "execution_count": 88,
     "metadata": {},
     "output_type": "execute_result"
    },
    {
     "data": {
      "image/png": "[encoded data removed]",
      "text/plain": [
       "<Figure size 432x288 with 1 Axes>"
      ]
     },
     "metadata": {
      "needs_background": "light"
     },
     "output_type": "display_data"
    }
   ],
   "source": [
    "result.resid[1:200].plot()"
   ]
  },
  {
   "cell_type": "code",
   "execution_count": null,
   "metadata": {},
   "outputs": [],
   "source": []
  }
 ],
 "metadata": {
  "kernelspec": {
   "display_name": "Python 3",
   "language": "python",
   "name": "python3"
  },
  "language_info": {
   "codemirror_mode": {
    "name": "ipython",
    "version": 3
   },
   "file_extension": ".py",
   "mimetype": "text/x-python",
   "name": "python",
   "nbconvert_exporter": "python",
   "pygments_lexer": "ipython3",
   "version": "3.8.5"
  }
 },
 "nbformat": 4,
 "nbformat_minor": 4
}
